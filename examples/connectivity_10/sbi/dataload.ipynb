{
 "cells": [
  {
   "cell_type": "code",
   "execution_count": null,
   "metadata": {
    "collapsed": true
   },
   "outputs": [],
   "source": [
    "import numpy as np\n",
    "import torch\n",
    "import matplotlib.pyplot as plt\n",
    "import seaborn as sns\n",
    "import json\n",
    "import os\n",
    "import pandas as pd\n",
    "\n",
    "from tvb_inversion.base.diagnostics import (zscore, shrinkage)\n",
    "from tvb_inversion.sbi.plot import (\n",
    "    plot_posterior_samples_model_parameters,\n",
    "    plot_posterior_samples_global_parameters\n",
    ")\n",
    "\n",
    "%load_ext autoreload\n",
    "%autoreload 2"
   ]
  },
  {
   "cell_type": "code",
   "execution_count": null,
   "metadata": {
    "collapsed": false
   },
   "outputs": [],
   "source": [
    "# run_id = \"2023-03-10_1849\"  # around ground truth\n",
    "# run_id = \"2023-03-14_2001\"  # shifted from ground truth\n",
    "# run_id = \"2023-03-15_1303\"  # around ground truth\n",
    "run_id = \"2023-03-15_1436\"  # shifted from ground truth\n",
    "\n",
    "posterior_samples = np.load(f\"sbi_data/posterior_samples_{run_id}.npy\")\n",
    "prior_samples = np.load(f\"sbi_data/prior_samples_{run_id}.npy\")\n",
    "test_samples = np.load(f\"sbi_data/test_samples_{run_id}.npy\")\n",
    "X = np.load(f\"sbi_data/simulation_{run_id}.npy\")\n",
    "training_sims = np.load(f\"sbi_data/training_sims_{run_id}.npy\")\n",
    "test_sims = np.load(f\"sbi_data/test_sims_{run_id}.npy\")\n",
    "with open(f\"sbi_data/sim_params_{run_id}.json\", \"r\") as f:\n",
    "    simulation_params = json.load(f)\n",
    "with open(f\"sbi_data/inference_params_{run_id}.json\", \"r\") as f:\n",
    "    inference_params = json.load(f)\n",
    "with open(f\"sbi_data/summary_{run_id}.json\", \"r\") as f:\n",
    "    summary = json.load(f)"
   ]
  },
  {
   "cell_type": "code",
   "execution_count": null,
   "metadata": {
    "collapsed": false
   },
   "outputs": [],
   "source": [
    "training_sims.shape, test_sims.shape, prior_samples.shape, test_samples.shape"
   ]
  },
  {
   "cell_type": "code",
   "execution_count": null,
   "metadata": {
    "collapsed": false
   },
   "outputs": [],
   "source": [
    "inference_params"
   ]
  },
  {
   "cell_type": "code",
   "execution_count": null,
   "metadata": {
    "collapsed": false
   },
   "outputs": [],
   "source": [
    "f1 = plt.figure(figsize=(12, 8))\n",
    "plt.plot(summary[\"training_log_probs\"], label=\"training\")\n",
    "plt.plot(summary[\"validation_log_probs\"], label=\"validation\")\n",
    "plt.xlabel(\"epochs\", size=16)\n",
    "plt.ylabel(\"log probability\", size=16)\n",
    "plt.tick_params(axis=\"both\", labelsize=16)\n",
    "plt.legend(fontsize=16)\n",
    "plt.show()"
   ]
  },
  {
   "cell_type": "code",
   "execution_count": null,
   "metadata": {
    "collapsed": false
   },
   "outputs": [],
   "source": [
    "df = pd.DataFrame(\n",
    "    data=posterior_samples[:, :, :len(inference_params[\"model_a\"])].reshape(-1, len(inference_params[\"model_a\"])),\n",
    "    columns=[f\"Region {i+1}\" for i in range(len(inference_params[\"model_a\"]))]\n",
    ")\n",
    "\n",
    "plot_posterior_samples_model_parameters(df, simulation_params[\"model_a\"])"
   ]
  },
  {
   "cell_type": "code",
   "execution_count": null,
   "metadata": {
    "collapsed": false
   },
   "outputs": [],
   "source": [
    "from scipy.stats import spearmanr\n",
    "\n",
    "posterior_model_a = posterior_samples[:, :, :len(inference_params[\"model_a\"])].reshape(-1, len(inference_params[\"model_a\"])).mean(axis=0)\n",
    "gt_model_a = np.array([v for v in simulation_params[\"model_a\"]])\n",
    "\n",
    "spearman_correlation = spearmanr(gt_model_a, posterior_model_a)\n",
    "\n",
    "print(spearman_correlation.correlation, spearman_correlation.pvalue)"
   ]
  },
  {
   "cell_type": "code",
   "execution_count": null,
   "metadata": {
    "collapsed": false
   },
   "outputs": [],
   "source": [
    "fig_spearman = plt.figure(figsize=(8, 5))\n",
    "plt.plot(posterior_model_a, gt_model_a, linewidth=0, marker=\"*\", markersize=12, color=\"blue\")\n",
    "plt.tick_params(axis=\"both\", labelsize=16)"
   ]
  },
  {
   "cell_type": "code",
   "execution_count": null,
   "metadata": {
    "collapsed": false
   },
   "outputs": [],
   "source": [
    "# data = {\n",
    "#     f\"model_a_R{i+1}\": posterior_samples[:, :, :len(inference_params[\"model_a\"])].reshape(-1, len(inference_params[\"model_a\"]))[:, i] for i in range(len(inference_params[\"model_a\"]))\n",
    "# }\n",
    "# data[\"coupling_a\"] = posterior_samples[:, :, -2].flatten()\n",
    "# df = pd.DataFrame(data)\n",
    "#\n",
    "# # f2 = plt.figure(figsize=(15, 10))\n",
    "# with sns.plotting_context(rc={\"axes.labelsize\":20}):\n",
    "#     ax2 = sns.pairplot(data=df, kind=\"hist\", height=5)  # , y_vars=[\"coupling_a\"], x_vars=[k for k, _ in data.items() if \"model_a\" in k])\n",
    "# ax2.tick_params(axis=\"both\", labelsize=20)\n",
    "# plt.show()"
   ]
  },
  {
   "cell_type": "code",
   "execution_count": null,
   "metadata": {
    "collapsed": false
   },
   "outputs": [],
   "source": [
    "data={\n",
    "    \"coupling_a\": posterior_samples[:, :, -4].flatten(),\n",
    "    \"nsig\": posterior_samples[:, :, -3].flatten(),\n",
    "    \"amplitude\": posterior_samples[:, :, -2].flatten(),\n",
    "    \"offset\": posterior_samples[:, :, -1].flatten(),\n",
    "    # \"noise\": posterior_samples[:, :, -1].flatten(),\n",
    "}\n",
    "df = pd.DataFrame(data)\n",
    "\n",
    "plot_posterior_samples_global_parameters(df, simulation_params)"
   ]
  },
  {
   "cell_type": "code",
   "execution_count": null,
   "metadata": {
    "collapsed": false
   },
   "outputs": [],
   "source": [
    "#true_mean = np.array(\n",
    "#    [v for v in simulation_params[\"model_a\"]] + [simulation_params[\"coupling_a\"], simulation_params[\"nsig\"]])\n",
    "#posterior_mean = posterior_samples.reshape((-1, *posterior_samples.shape[2:])).mean(axis=0)\n",
    "#posterior_std = posterior_samples.reshape((-1, *posterior_samples.shape[2:])).std(axis=0)\n",
    "#prior_std = prior_samples.std(axis=0)"
   ]
  },
  {
   "cell_type": "code",
   "execution_count": null,
   "metadata": {
    "collapsed": false
   },
   "outputs": [],
   "source": [
    "posterior_mean = posterior_samples.mean(axis=1)\n",
    "posterior_std = posterior_samples.std(axis=1)\n",
    "prior_std = np.tile(np.array(\n",
    "    [0.75 for v in simulation_params[\"model_a\"]] + [\n",
    "        simulation_params[\"coupling_a\"] / 2., simulation_params[\"nsig\"] / 2., 0.5, 0.5]), (len(test_samples), 1))"
   ]
  },
  {
   "cell_type": "code",
   "execution_count": null,
   "metadata": {
    "collapsed": false
   },
   "outputs": [],
   "source": [
    "np.stack([posterior_mean.mean(axis=0), np.hstack([val for _, val in simulation_params.items()])], axis=1)"
   ]
  },
  {
   "cell_type": "code",
   "execution_count": null,
   "metadata": {
    "collapsed": false
   },
   "outputs": [],
   "source": [
    "def zscore_gt(true_mean, post_mean):\n",
    "    return np.abs((post_mean - true_mean) / true_mean)\n",
    "\n",
    "def zscore_prior(true_mean, post_mean, prior_std):\n",
    "    return np.abs((post_mean - true_mean) / prior_std)"
   ]
  },
  {
   "cell_type": "code",
   "execution_count": null,
   "metadata": {
    "collapsed": false
   },
   "outputs": [],
   "source": [
    "zscores = zscore(test_samples, posterior_mean, posterior_std)\n",
    "shrinkages = shrinkage(prior_std, posterior_std)\n",
    "\n",
    "zscores_gt = zscore_gt(test_samples, posterior_mean)\n",
    "zscores_prior = zscore_prior(test_samples, posterior_mean, prior_std)"
   ]
  },
  {
   "cell_type": "code",
   "execution_count": null,
   "metadata": {
    "collapsed": false
   },
   "outputs": [],
   "source": [
    "f4 = plt.figure(figsize=(12,8))\n",
    "for i in range(len(simulation_params[\"model_a\"])):\n",
    "    plt.plot(shrinkages[:, i], zscores[:, i], color=(0, i / 10.0, 1, 1), linewidth=0, marker=\".\", markersize=8, alpha=0.01)\n",
    "    plt.plot(shrinkages.mean(axis=0)[i], zscores.mean(axis=0)[i], color=(0, i / 10.0, 1, 1), linewidth=0, marker=\"*\", markersize=12, label=f\"model_a_R{i+1}\")\n",
    "plt.plot(shrinkages[:, -4], zscores[:, -4], color=\"red\", linewidth=0, marker=\".\", markersize=8, alpha=0.01)\n",
    "plt.plot(shrinkages.mean(axis=0)[-4], zscores.mean(axis=0)[-4], color=\"red\", linewidth=0, marker=\"*\", markersize=12, label=\"coupling_a\")\n",
    "# plt.plot(shrinkages[:, -3], zscores[:, -3], color=\"green\", linewidth=0, marker=\".\", markersize=8, alpha=0.1)\n",
    "# plt.plot(shrinkages.mean(axis=0)[-3], zscores.mean(axis=0)[-3], color=\"green\", linewidth=0, marker=\"*\", markersize=12, label=\"nsig\")\n",
    "plt.legend(fontsize=16)\n",
    "plt.tick_params(axis=\"both\", labelsize=16)\n",
    "plt.plot();"
   ]
  },
  {
   "cell_type": "code",
   "execution_count": null,
   "metadata": {
    "collapsed": false
   },
   "outputs": [],
   "source": [
    "f5 = plt.figure(figsize=(12,8))\n",
    "for i in range(len(simulation_params[\"model_a\"])):\n",
    "    plt.plot(shrinkages[:, i], zscores_gt[:, i], color=(0, i / 10.0, 1, 1), linewidth=0, marker=\".\", markersize=8, alpha=0.1)\n",
    "    plt.plot(shrinkages.mean(axis=0)[i], zscores_gt.mean(axis=0)[i], color=(0, i / 10.0, 1, 1), linewidth=0, marker=\"*\", markersize=12, label=f\"model_a_R{i+1}\")\n",
    "plt.plot(shrinkages[:, -4], zscores_gt[:, -4], color=\"red\", linewidth=0, marker=\".\", markersize=8, alpha=0.1)\n",
    "plt.plot(shrinkages.mean(axis=0)[-4], zscores_gt.mean(axis=0)[-4], color=\"red\", linewidth=0, marker=\"*\", markersize=12, label=\"coupling_a\")\n",
    "# plt.plot(shrinkages[:, -3], zscores[:, -3], color=\"green\", linewidth=0, marker=\".\", markersize=8, alpha=0.1)\n",
    "# plt.plot(shrinkages.mean(axis=0)[-3], zscores.mean(axis=0)[-3], color=\"green\", linewidth=0, marker=\"*\", markersize=12, label=\"nsig\")\n",
    "plt.legend(fontsize=16)\n",
    "plt.ylim(-1, 10)\n",
    "plt.tick_params(axis=\"both\", labelsize=16)\n",
    "plt.plot();"
   ]
  },
  {
   "cell_type": "code",
   "execution_count": null,
   "metadata": {
    "collapsed": false
   },
   "outputs": [],
   "source": [
    "f6 = plt.figure(figsize=(12,8))\n",
    "for i in range(len(simulation_params[\"model_a\"])):\n",
    "    plt.plot(shrinkages[:, i], zscores_prior[:, i], color=(0, i / 10.0, 1, 1), linewidth=0, marker=\".\", markersize=8, alpha=0.1)\n",
    "    plt.plot(shrinkages.mean(axis=0)[i], zscores_prior.mean(axis=0)[i], color=(0, i / 10.0, 1, 1), linewidth=0, marker=\"*\", markersize=12, label=f\"model_a_R{i+1}\")\n",
    "plt.plot(shrinkages[:, -4], zscores_prior[:, -4], color=\"red\", linewidth=0, marker=\".\", markersize=8, alpha=0.1)\n",
    "plt.plot(shrinkages.mean(axis=0)[-4], zscores_prior.mean(axis=0)[-4], color=\"red\", linewidth=0, marker=\"*\", markersize=12, label=\"coupling_a\")\n",
    "# plt.plot(shrinkages[:, -3], zscores[:, -3], color=\"green\", linewidth=0, marker=\".\", markersize=8, alpha=0.1)\n",
    "# plt.plot(shrinkages.mean(axis=0)[-3], zscores.mean(axis=0)[-3], color=\"green\", linewidth=0, marker=\"*\", markersize=12, label=\"nsig\")\n",
    "plt.legend(fontsize=16)\n",
    "plt.ylim(-1, 10)\n",
    "plt.tick_params(axis=\"both\", labelsize=16)\n",
    "plt.plot();"
   ]
  },
  {
   "cell_type": "code",
   "execution_count": null,
   "metadata": {
    "collapsed": false
   },
   "outputs": [],
   "source": [
    "delete = False\n",
    "if delete:\n",
    "    os.remove(f\"sbi_data/posterior_samples_{run_id}.npy\")\n",
    "    os.remove(f\"sbi_data/prior_samples_{run_id}.npy\")\n",
    "    os.remove(f\"sbi_data/simulation_{run_id}.npy\")\n",
    "    os.remove(f\"sbi_data/training_sims_{run_id}.npy\")\n",
    "    os.remove(f\"sbi_data/test_sims_{run_id}.npy\")\n",
    "    os.remove(f\"sbi_data/test_samples_{run_id}.npy\")\n",
    "    os.remove(f\"sbi_data/sim_params_{run_id}.json\")\n",
    "    os.remove(f\"sbi_data/inference_params_{run_id}.json\")\n",
    "    os.remove(f\"sbi_data/summary_{run_id}.json\")"
   ]
  },
  {
   "cell_type": "code",
   "execution_count": null,
   "metadata": {
    "collapsed": false
   },
   "outputs": [],
   "source": []
  }
 ],
 "metadata": {
  "kernelspec": {
   "display_name": "Python 3",
   "language": "python",
   "name": "python3"
  },
  "language_info": {
   "codemirror_mode": {
    "name": "ipython",
    "version": 2
   },
   "file_extension": ".py",
   "mimetype": "text/x-python",
   "name": "python",
   "nbconvert_exporter": "python",
   "pygments_lexer": "ipython2",
   "version": "2.7.6"
  }
 },
 "nbformat": 4,
 "nbformat_minor": 0
}
