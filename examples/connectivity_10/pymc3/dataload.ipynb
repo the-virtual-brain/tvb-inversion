{
 "cells": [
  {
   "cell_type": "code",
   "execution_count": null,
   "metadata": {
    "collapsed": true
   },
   "outputs": [],
   "source": [
    "import pymc3 as pm\n",
    "import numpy as np\n",
    "import theano\n",
    "import theano.tensor as tt\n",
    "import arviz as az\n",
    "import matplotlib.pyplot as plt\n",
    "import seaborn as sns\n",
    "import pandas as pd\n",
    "import json\n",
    "from datetime import timedelta\n",
    "\n",
    "from tvb_inversion.pymc3.plot import plot_posterior_samples\n",
    "from tvb_inversion.base.diagnostics import (zscore, shrinkage)\n",
    "from tvb_inversion.pymc3.plot import (\n",
    "    plot_posterior_samples_model_parameters,\n",
    "    plot_posterior_samples_global_parameters,\n",
    "    posterior_pairplot\n",
    ")\n",
    "\n",
    "%load_ext autoreload\n",
    "%autoreload 2"
   ]
  },
  {
   "cell_type": "code",
   "execution_count": null,
   "metadata": {
    "collapsed": false
   },
   "outputs": [],
   "source": [
    "# run_id = \"2023-02-01_1200\"  # around ground truth\n",
    "# run_id = \"2023-02-02_1233\"  # around ground truth\n",
    "# run_id = \"2023-02-03_1126\"  # shifted from ground truth\n",
    "run_id = \"2023-02-04_0937\"  # shifted from ground truth\n",
    "# run_id = \"2023-02-10_1605\"  # around ground truth\n",
    "# run_id = \"2023-02-24_1844\"  # around ground truth\n",
    "\n",
    "inference_data = az.from_netcdf(f\"pymc3_data/{run_id}_idata.nc\")\n",
    "inference_summary = pd.read_json(f\"pymc3_data/{run_id}_isummary.json\")\n",
    "with open(f\"pymc3_data/{run_id}_iparams.json\", \"r\") as f:\n",
    "    inference_params = json.load(f)\n",
    "    f.close()\n",
    "with open(f\"pymc3_data/{run_id}_sim_params.json\", \"r\") as f:\n",
    "    sim_params = json.load(f)\n",
    "    f.close()\n",
    "\n",
    "# inference_data = az.from_netcdf(f\"pymc3_data/{run_id}.nc\")\n",
    "# inference_summary = pd.read_json(f\"pymc3_data/{run_id}.json\")"
   ]
  },
  {
   "cell_type": "code",
   "execution_count": null,
   "metadata": {
    "collapsed": false
   },
   "outputs": [],
   "source": [
    "inference_params"
   ]
  },
  {
   "cell_type": "code",
   "execution_count": null,
   "metadata": {
    "collapsed": false
   },
   "outputs": [],
   "source": [
    "X = inference_data.observed_data.x_obs.values"
   ]
  },
  {
   "cell_type": "code",
   "execution_count": null,
   "metadata": {
    "collapsed": false
   },
   "outputs": [],
   "source": [
    "chains = len(inference_data.sample_stats.chain)\n",
    "draws = len(inference_data.sample_stats.draw)"
   ]
  },
  {
   "cell_type": "code",
   "execution_count": null,
   "metadata": {
    "collapsed": false
   },
   "outputs": [],
   "source": [
    "print(\"#chains: \", chains)\n",
    "print(\"#draws: \", draws)\n",
    "divergent = inference_data.sample_stats[\"diverging\"].values\n",
    "print(\"Number of Divergent: %d\" % divergent.nonzero()[0].size)\n",
    "divperc = (divergent.nonzero()[0].size / (chains * draws)) * 100\n",
    "print(\"Percentage of Divergent: %.1f\" % divperc)\n",
    "print(\"Mean tree accept: %.2f\" % inference_data.sample_stats.acceptance_rate.values.mean())\n",
    "print(\"Mean tree depth: %.2f\" % inference_data.sample_stats.tree_depth.values.mean())\n",
    "print(\"Sampling time:\", str(timedelta(seconds=inference_data.sample_stats.sampling_time)))"
   ]
  },
  {
   "cell_type": "code",
   "execution_count": null,
   "metadata": {
    "collapsed": false
   },
   "outputs": [],
   "source": [
    "inference_summary.loc[\n",
    "    [f\"model_a_star[{i}]\" for i in range(len(inference_params[\"model_a\"]))] + [\"coupling_a_star\", \"nsig_star\",\n",
    "                                                                               \"amplitude_star\", \"offset_star\", \"measurement_noise_star\"]\n",
    "    ]"
   ]
  },
  {
   "cell_type": "code",
   "execution_count": null,
   "metadata": {
    "collapsed": false
   },
   "outputs": [],
   "source": [
    "ground_truth = np.array(\n",
    "    [v for v in sim_params[\"model_a\"]] + [sim_params[\"coupling_a\"], sim_params[\"nsig\"], 1.0, 0.0, 0.0])\n",
    "inference_summary_ = inference_summary.loc[\n",
    "    [f\"model_a[{i}]\" for i in range(len(inference_params[\"model_a\"]))] + [\"coupling_a\", \"nsig\",\n",
    "                                                                          \"amplitude\", \"offset\", \"measurement_noise\"]\n",
    "    ]\n",
    "inference_summary_.insert(0, \"ground_truth\", ground_truth)\n",
    "inference_summary_"
   ]
  },
  {
   "cell_type": "code",
   "execution_count": null,
   "metadata": {
    "collapsed": false
   },
   "outputs": [],
   "source": [
    "df = pd.DataFrame(\n",
    "    data=inference_data.posterior.model_a.values.reshape(-1, inference_data.posterior.model_a.values.shape[-1]),\n",
    "    columns=[f\"Region {i+1}\" for i in range(len(inference_params[\"model_a\"]))]\n",
    ")\n",
    "\n",
    "plot_posterior_samples_model_parameters(df, sim_params[\"model_a\"])"
   ]
  },
  {
   "cell_type": "code",
   "execution_count": null,
   "metadata": {
    "collapsed": false
   },
   "outputs": [],
   "source": [
    "from scipy.stats import spearmanr\n",
    "\n",
    "posterior_model_a = inference_summary.loc[[f\"model_a[{i}]\" for i in range(len(inference_params[\"model_a\"]))]][[\"mean\"]].to_numpy()\n",
    "gt_model_a = np.array([v for v in sim_params[\"model_a\"]])\n",
    "\n",
    "spearman_correlation = spearmanr(gt_model_a, posterior_model_a)\n",
    "\n",
    "print(spearman_correlation.correlation, spearman_correlation.pvalue)"
   ]
  },
  {
   "cell_type": "code",
   "execution_count": null,
   "metadata": {
    "collapsed": false
   },
   "outputs": [],
   "source": [
    "fig_spearman = plt.figure(figsize=(8, 5))\n",
    "plt.plot(posterior_model_a, gt_model_a, linewidth=0, marker=\"*\", markersize=12, color=\"blue\")\n",
    "plt.tick_params(axis=\"both\", labelsize=16)"
   ]
  },
  {
   "cell_type": "code",
   "execution_count": null,
   "metadata": {
    "collapsed": false
   },
   "outputs": [],
   "source": [
    "data = {\n",
    "    f\"model_a_R{i+1}\": inference_data.posterior.model_a.values.reshape(-1, inference_data.posterior.model_a.values.shape[-1])[:, i] for i in range(len(inference_params[\"model_a\"]))\n",
    "}\n",
    "data[\"coupling_a\"] = inference_data.posterior.coupling_a.values.flatten()\n",
    "df = pd.DataFrame(data)\n",
    "\n",
    "posterior_pairplot(df, size=5)"
   ]
  },
  {
   "cell_type": "code",
   "execution_count": null,
   "metadata": {
    "collapsed": false
   },
   "outputs": [],
   "source": [
    "data={\n",
    "    \"coupling_a\": inference_data.posterior.coupling_a.values.flatten(),\n",
    "    \"nsig\": inference_data.posterior.nsig.values.flatten(),\n",
    "    \"measurement_noise\": inference_data.posterior.measurement_noise.values.flatten(),\n",
    "}\n",
    "df = pd.DataFrame(data)\n",
    "\n",
    "plot_posterior_samples_global_parameters(df, sim_params)"
   ]
  },
  {
   "cell_type": "code",
   "execution_count": null,
   "metadata": {
    "collapsed": false
   },
   "outputs": [],
   "source": [
    "posterior_x_obs = inference_data.posterior_predictive.x_obs.values.reshape(\n",
    "    (chains*draws, *X.shape))"
   ]
  },
  {
   "cell_type": "code",
   "execution_count": null,
   "metadata": {
    "collapsed": false
   },
   "outputs": [],
   "source": [
    "num_regions = 6\n",
    "f4, axes4 = plt.subplots(nrows=num_regions, ncols=1, figsize=(25, num_regions*12))\n",
    "for i in range(num_regions):\n",
    "    ax = axes4[i]\n",
    "\n",
    "    ax.plot(np.percentile(posterior_x_obs[:, :, 0, i], [2.5, 97.5], axis=0).T,\n",
    "            \"k\", label=r\"$V_{95\\% PP}(t)$\")\n",
    "    ax.plot(X[:, 0, i], label=\"V_observed\")\n",
    "    ax.set_title(f\"Region {i+1}\", fontsize=16)\n",
    "    ax.legend(fontsize=16)\n",
    "    ax.set_xlabel(\"time (ms)\", fontsize=16)\n",
    "    ax.tick_params(axis=\"both\", labelsize=16)\n",
    "\n",
    "plt.show()"
   ]
  },
  {
   "cell_type": "code",
   "execution_count": null,
   "metadata": {
    "collapsed": false
   },
   "outputs": [],
   "source": [
    "posterior_dWt_star = inference_data.posterior.dWt_star.values[:, :, :, 0, :].reshape(\n",
    "    (chains*draws, *X.shape))"
   ]
  },
  {
   "cell_type": "code",
   "execution_count": null,
   "metadata": {
    "collapsed": false
   },
   "outputs": [],
   "source": [
    "inference_summary.loc[\n",
    "    inference_summary.index.str.contains(\"dWt_star\")].mean()"
   ]
  },
  {
   "cell_type": "code",
   "execution_count": null,
   "metadata": {
    "collapsed": false
   },
   "outputs": [],
   "source": [
    "num_regions = 6\n",
    "f10, axes10 = plt.subplots(nrows=num_regions, ncols=1, figsize=(25, num_regions*12))\n",
    "for i in range(num_regions):\n",
    "    ax = axes10[i]\n",
    "\n",
    "    ax.plot(np.percentile(posterior_dWt_star[:, :, 0, i], [2.5, 97.5], axis=0).T,\n",
    "            \"k\", label=r\"$V_{95\\% PP}(t)$\")\n",
    "    #ax.plot(X[:, 0, i], label=\"V_observed\")\n",
    "    ax.set_title(f\"Region {i+1}\", fontsize=16)\n",
    "    ax.legend(fontsize=16)\n",
    "    ax.set_xlabel(\"time (ms)\", fontsize=16)\n",
    "    ax.tick_params(axis=\"both\", labelsize=16)\n",
    "\n",
    "plt.show()"
   ]
  },
  {
   "cell_type": "code",
   "execution_count": null,
   "metadata": {
    "collapsed": false
   },
   "outputs": [],
   "source": [
    "waic = az.waic(inference_data)\n",
    "loo = az.loo(inference_data)\n",
    "print(\"WAIC: \", waic.waic)\n",
    "print(\"LOO: \", loo.loo)"
   ]
  },
  {
   "cell_type": "code",
   "execution_count": null,
   "metadata": {
    "collapsed": false
   },
   "outputs": [],
   "source": [
    "def get_posterior_mean(idata, params):\n",
    "    posterior = np.concatenate(\n",
    "        [idata.posterior[param].values.reshape(-1, idata.posterior[param].values.shape[-1]) if idata.posterior[param].values.ndim == 3\n",
    "         else idata.posterior[param].values.flatten()[..., np.newaxis] for param in params],\n",
    "        axis=1\n",
    "    )\n",
    "    # posterior = np.asarray([idata.posterior[param].values.reshape((idata.posterior[param].values.size,)) for param in params])\n",
    "    return posterior.mean(axis=0)\n",
    "\n",
    "def get_posterior_std(idata, params):\n",
    "    posterior = np.concatenate(\n",
    "        [idata.posterior[param].values.reshape(-1, idata.posterior[param].values.shape[-1]) if idata.posterior[param].values.ndim == 3\n",
    "         else idata.posterior[param].values.flatten()[..., np.newaxis] for param in params],\n",
    "        axis=1\n",
    "    )\n",
    "    # posterior = np.asarray([idata.posterior[param].values.reshape((idata.posterior[param].values.size,)) for param in params])\n",
    "    return posterior.std(axis=0)"
   ]
  },
  {
   "cell_type": "code",
   "execution_count": null,
   "metadata": {
    "collapsed": false
   },
   "outputs": [],
   "source": [
    "# zscores\n",
    "posterior_mean = get_posterior_mean(inference_data,\n",
    "                                    [\"model_a\", \"coupling_a\", \"nsig\"])\n",
    "\n",
    "posterior_std = get_posterior_std(inference_data,\n",
    "                                  [\"model_a\", \"coupling_a\", \"nsig\"])\n",
    "\n",
    "ground_truth = np.array(\n",
    "    [v for v in sim_params[\"model_a\"]] + [sim_params[\"coupling_a\"], sim_params[\"nsig\"]])\n",
    "\n",
    "zscores = zscore(ground_truth, posterior_mean, posterior_std)"
   ]
  },
  {
   "cell_type": "code",
   "execution_count": null,
   "metadata": {
    "collapsed": false
   },
   "outputs": [],
   "source": [
    "# shrinkages\n",
    "posterior_std = get_posterior_std(inference_data,\n",
    "    [\"model_a_star\", \"coupling_a_star\", \"nsig_star\"])\n",
    "\n",
    "prior_std = np.ones((12,))\n",
    "\n",
    "shrinkages = shrinkage(prior_std, posterior_std)"
   ]
  },
  {
   "cell_type": "code",
   "execution_count": null,
   "metadata": {
    "collapsed": false
   },
   "outputs": [],
   "source": [
    "def zscore_gt(true_mean, post_mean):\n",
    "    return np.abs((post_mean - true_mean) / true_mean)\n",
    "\n",
    "def zscore_prior(true_mean, post_mean, prior_std):\n",
    "    return np.abs((post_mean - true_mean) / prior_std)"
   ]
  },
  {
   "cell_type": "code",
   "execution_count": null,
   "metadata": {
    "collapsed": false
   },
   "outputs": [],
   "source": [
    "prior_std = np.hstack(\n",
    "    (np.array([0.75 for _ in range(len(inference_params[\"model_a\"]))]), (0.5*ground_truth)[len(inference_params[\"model_a\"]):]))\n",
    "\n",
    "zscores_gt = zscore_gt(ground_truth, posterior_mean)\n",
    "zscores_prior = zscore_prior(ground_truth, posterior_mean, prior_std)"
   ]
  },
  {
   "cell_type": "code",
   "execution_count": null,
   "metadata": {
    "collapsed": false
   },
   "outputs": [],
   "source": [
    "f5 = plt.figure(figsize=(12,8))\n",
    "for i in range(len(sim_params[\"model_a\"])):\n",
    "    plt.plot(shrinkages[i], zscores[i], color=(0, i / 10.0, 1, 1), linewidth=0, marker=\"*\", markersize=12, label=f\"model_a_R{i+1}\")\n",
    "plt.plot(shrinkages[-2], zscores[-2], color=\"red\", linewidth=0, marker=\"*\", markersize=12, label=\"coupling_a\")\n",
    "# plt.plot(shrinkages[-1], zscores[-1], color=\"green\", linewidth=0, marker=\"*\", markersize=12, label=\"nsig\")\n",
    "plt.xlabel(\"posterior shrinkage\", size=16)\n",
    "plt.ylabel(\"posterior zscore\", size=16)\n",
    "plt.xlim(xmax=1.05)\n",
    "plt.legend(fontsize=16)\n",
    "plt.tick_params(axis=\"both\", labelsize=16)\n",
    "plt.plot();"
   ]
  },
  {
   "cell_type": "code",
   "execution_count": null,
   "metadata": {
    "collapsed": false
   },
   "outputs": [],
   "source": [
    "f6 = plt.figure(figsize=(12,8))\n",
    "for i in range(len(sim_params[\"model_a\"])):\n",
    "    plt.plot(shrinkages[i], zscores_gt[i], color=(0, i / 10.0, 1, 1), linewidth=0, marker=\"*\", markersize=12, label=f\"model_a_R{i+1}\")\n",
    "plt.plot(shrinkages[-2], zscores_gt[-2], color=\"red\", linewidth=0, marker=\"*\", markersize=12, label=\"coupling_a\")\n",
    "# plt.plot(shrinkages[-1], zscores[-1], color=\"green\", linewidth=0, marker=\"*\", markersize=12, label=\"nsig\")\n",
    "plt.xlabel(\"posterior shrinkage\", size=16)\n",
    "plt.ylabel(\"posterior zscore\", size=16)\n",
    "plt.xlim(xmax=1.05)\n",
    "plt.legend(fontsize=16)\n",
    "plt.tick_params(axis=\"both\", labelsize=16)\n",
    "plt.plot();"
   ]
  },
  {
   "cell_type": "code",
   "execution_count": null,
   "metadata": {
    "collapsed": false
   },
   "outputs": [],
   "source": [
    "f7 = plt.figure(figsize=(12,8))\n",
    "for i in range(len(sim_params[\"model_a\"])):\n",
    "    plt.plot(shrinkages[i], zscores_prior[i], color=(0, i / 10.0, 1, 1), linewidth=0, marker=\"*\", markersize=12, label=f\"model_a_R{i+1}\")\n",
    "plt.plot(shrinkages[-2], zscores_prior[-2], color=\"red\", linewidth=0, marker=\"*\", markersize=12, label=\"coupling_a\")\n",
    "# plt.plot(shrinkages[-1], zscores[-1], color=\"green\", linewidth=0, marker=\"*\", markersize=12, label=\"nsig\")\n",
    "plt.xlabel(\"posterior shrinkage\", size=16)\n",
    "plt.ylabel(\"posterior zscore\", size=16)\n",
    "plt.xlim(xmax=1.05)\n",
    "plt.legend(fontsize=16)\n",
    "plt.tick_params(axis=\"both\", labelsize=16)\n",
    "plt.plot();"
   ]
  },
  {
   "cell_type": "code",
   "execution_count": null,
   "metadata": {
    "collapsed": false
   },
   "outputs": [],
   "source": []
  }
 ],
 "metadata": {
  "kernelspec": {
   "display_name": "Python 3",
   "language": "python",
   "name": "python3"
  },
  "language_info": {
   "codemirror_mode": {
    "name": "ipython",
    "version": 2
   },
   "file_extension": ".py",
   "mimetype": "text/x-python",
   "name": "python",
   "nbconvert_exporter": "python",
   "pygments_lexer": "ipython2",
   "version": "2.7.6"
  }
 },
 "nbformat": 4,
 "nbformat_minor": 0
}
