{
 "cells": [
  {
   "cell_type": "code",
   "execution_count": null,
   "metadata": {
    "collapsed": true
   },
   "outputs": [],
   "source": [
    "import pymc3 as pm\n",
    "import numpy as np\n",
    "import theano\n",
    "import theano.tensor as tt\n",
    "import arviz as az\n",
    "import matplotlib.pyplot as plt\n",
    "import seaborn as sns\n",
    "import pandas as pd\n",
    "import json\n",
    "from datetime import timedelta\n",
    "\n",
    "from tvb_inversion.pymc3.plot import plot_posterior_samples\n",
    "from tvb_inversion.base.diagnostics import (zscore, shrinkage)\n",
    "\n",
    "%load_ext autoreload\n",
    "%autoreload 2"
   ]
  },
  {
   "cell_type": "code",
   "execution_count": null,
   "metadata": {
    "collapsed": false
   },
   "outputs": [],
   "source": [
    "# run_id = \"2023-01-25_1608\"  # around ground truth\n",
    "# run_id = \"2023-01-26_0951\"  # around ground truth\n",
    "# run_id = \"2023-01-28_1535\"  # around ground truth\n",
    "# run_id = \"2023-02-01_1200\"  # around ground truth\n",
    "run_id = \"2023-02-02_1233\"\n",
    "\n",
    "inference_data = az.from_netcdf(f\"pymc3_data/{run_id}_idata.nc\")\n",
    "inference_summary = pd.read_json(f\"pymc3_data/{run_id}_isummary.json\")\n",
    "with open(f\"pymc3_data/{run_id}_iparams.json\", \"r\") as f:\n",
    "    inference_params = json.load(f)\n",
    "    f.close()\n",
    "with open(f\"pymc3_data/{run_id}_sim_params.json\", \"r\") as f:\n",
    "    sim_params = json.load(f)\n",
    "    f.close()\n",
    "\n",
    "# inference_data = az.from_netcdf(f\"pymc3_data/{run_id}.nc\")\n",
    "# inference_summary = pd.read_json(f\"pymc3_data/{run_id}.json\")"
   ]
  },
  {
   "cell_type": "code",
   "execution_count": null,
   "metadata": {
    "collapsed": false
   },
   "outputs": [],
   "source": [
    "inference_params"
   ]
  },
  {
   "cell_type": "code",
   "execution_count": null,
   "metadata": {
    "collapsed": false
   },
   "outputs": [],
   "source": [
    "X = inference_data.observed_data.x_obs.values"
   ]
  },
  {
   "cell_type": "code",
   "execution_count": null,
   "metadata": {
    "collapsed": false
   },
   "outputs": [],
   "source": [
    "chains = len(inference_data.sample_stats.chain)\n",
    "draws = len(inference_data.sample_stats.draw)"
   ]
  },
  {
   "cell_type": "code",
   "execution_count": null,
   "metadata": {
    "collapsed": false
   },
   "outputs": [],
   "source": [
    "print(\"#chains: \", chains)\n",
    "print(\"#draws: \", draws)\n",
    "divergent = inference_data.sample_stats[\"diverging\"].values\n",
    "print(\"Number of Divergent: %d\" % divergent.nonzero()[0].size)\n",
    "divperc = (divergent.nonzero()[0].size / (chains * draws)) * 100\n",
    "print(\"Percentage of Divergent: %.1f\" % divperc)\n",
    "print(\"Mean tree accept: %.2f\" % inference_data.sample_stats.acceptance_rate.values.mean())\n",
    "print(\"Mean tree depth: %.2f\" % inference_data.sample_stats.tree_depth.values.mean())\n",
    "print(\"Sampling time:\", str(timedelta(seconds=inference_data.sample_stats.sampling_time)))"
   ]
  },
  {
   "cell_type": "code",
   "execution_count": null,
   "metadata": {
    "collapsed": false
   },
   "outputs": [],
   "source": [
    "inference_summary.loc[\n",
    "    [f\"model_a_star[{i}]\" for i in range(len(inference_params[\"model_a\"]))] + [\"coupling_a_star\", \"nsig_star\",\n",
    "                                                                               \"amplitude_star\", \"offset_star\", \"measurement_noise_star\"]\n",
    "    ]"
   ]
  },
  {
   "cell_type": "code",
   "execution_count": null,
   "metadata": {
    "collapsed": false
   },
   "outputs": [],
   "source": [
    "ground_truth = np.array(\n",
    "    [v for v in sim_params[\"model_a\"]] + [sim_params[\"coupling_a\"], sim_params[\"nsig\"], 1.0, 0.0, 0.0])\n",
    "inference_summary_ = inference_summary.loc[\n",
    "    [f\"model_a[{i}]\" for i in range(len(inference_params[\"model_a\"]))] + [\"coupling_a\", \"nsig\",\n",
    "                                                                          \"amplitude\", \"offset\", \"measurement_noise\"]\n",
    "    ]\n",
    "inference_summary_.insert(0, \"ground_truth\", ground_truth)\n",
    "inference_summary_"
   ]
  },
  {
   "cell_type": "code",
   "execution_count": null,
   "metadata": {
    "collapsed": false
   },
   "outputs": [],
   "source": [
    "df = pd.DataFrame(\n",
    "    data=inference_data.posterior.model_a.values.reshape(-1, inference_data.posterior.model_a.values.shape[-1]),\n",
    "    columns=[f\"Region {i+1}\" for i in range(len(inference_params[\"model_a\"]))]\n",
    ")\n",
    "\n",
    "f1 = plt.figure(figsize=(15, 10))\n",
    "ax1 = sns.violinplot(data=df, bw=.1)\n",
    "plt.setp(ax1.collections, alpha=.5)\n",
    "label = \"ground truth\"\n",
    "for i, v in enumerate(sim_params[\"model_a\"]):\n",
    "    plt.axhline(v, xmin=i*(1/len(df.columns)),  xmax=(i+1)*(1/len(df.columns)), linestyle=\"--\", linewidth=2, color=\"black\", label=label)\n",
    "    label=\"_nolegend_\"\n",
    "plt.title(\"model_a\", fontsize=16)\n",
    "plt.tick_params(axis=\"both\", labelsize=16)\n",
    "plt.legend(fontsize=16)\n",
    "plt.show()"
   ]
  },
  {
   "cell_type": "code",
   "execution_count": null,
   "metadata": {
    "collapsed": false
   },
   "outputs": [],
   "source": [
    "data = {\n",
    "    f\"model_a_R{i+1}\": inference_data.posterior.model_a.values.reshape(-1, inference_data.posterior.model_a.values.shape[-1])[:, i] for i in range(len(inference_params[\"model_a\"]))\n",
    "}\n",
    "data[\"coupling_a\"] = inference_data.posterior.coupling_a.values.flatten()\n",
    "df = pd.DataFrame(data)\n",
    "\n",
    "#f2 = plt.figure(figsize=(15, 10))\n",
    "with sns.plotting_context(rc={\"axes.labelsize\":20}):\n",
    "    ax2 = sns.pairplot(data=df, kind=\"reg\", x_vars=[\"coupling_a\"], y_vars=[k for k, _ in data.items() if \"model_a\" in k], height=5)\n",
    "ax2.tick_params(axis=\"both\", labelsize=20)\n",
    "plt.show()"
   ]
  },
  {
   "cell_type": "code",
   "execution_count": null,
   "metadata": {
    "collapsed": false
   },
   "outputs": [],
   "source": [
    "# init_params = {f\"model_a[{i}]\": sim_params[\"model_a\"][i] for i in range(len(sim_params[\"model_a\"]))}\n",
    "init_params = {}\n",
    "init_params[\"coupling_a\"] = sim_params[\"coupling_a\"]\n",
    "init_params[\"nsig\"] = sim_params[\"nsig\"]\n",
    "init_params[\"measurement_noise\"] = 0.0\n",
    "init_params[\"amplitude\"] = 1.0,\n",
    "init_params[\"offset\"] = 0.0\n",
    "\n",
    "plot_posterior_samples(inference_data, init_params)"
   ]
  },
  {
   "cell_type": "code",
   "execution_count": null,
   "metadata": {
    "collapsed": false
   },
   "outputs": [],
   "source": [
    "# init_params = {f\"model_a_star[{i}]\": 0.0 for i in range(len(sim_params[\"model_a\"]))}\n",
    "init_params = {}\n",
    "init_params[\"coupling_a_star\"] = 0.0\n",
    "init_params[\"nsig_star\"] = 0.0\n",
    "init_params[\"measurement_noise_star\"] = 0.0\n",
    "init_params[\"amplitude_star\"] = 0.0,\n",
    "init_params[\"offset_star\"] = 0.0\n",
    "\n",
    "plot_posterior_samples(inference_data, init_params)"
   ]
  },
  {
   "cell_type": "code",
   "execution_count": null,
   "metadata": {
    "collapsed": false
   },
   "outputs": [],
   "source": [
    "posterior_x_obs = inference_data.posterior_predictive.x_obs.values.reshape(\n",
    "    (chains*draws, *X.shape))"
   ]
  },
  {
   "cell_type": "code",
   "execution_count": null,
   "metadata": {
    "collapsed": false
   },
   "outputs": [],
   "source": [
    "num_regions = 6\n",
    "f3, axes3 = plt.subplots(nrows=num_regions, ncols=1, figsize=(25, num_regions*12))\n",
    "for i in range(num_regions):\n",
    "    ax = axes3[i]\n",
    "\n",
    "    ax.plot(np.percentile(posterior_x_obs[:, :, 0, i], [2.5, 97.5], axis=0).T,\n",
    "            \"k\", label=r\"$V_{95\\% PP}(t)$\")\n",
    "    ax.plot(X[:, 0, i], label=\"V_observed\")\n",
    "    ax.set_title(f\"Region {i+1}\", fontsize=16)\n",
    "    ax.legend(fontsize=16)\n",
    "    ax.set_xlabel(\"time (ms)\", fontsize=16)\n",
    "    ax.tick_params(axis=\"both\", labelsize=16)\n",
    "\n",
    "plt.show()"
   ]
  },
  {
   "cell_type": "code",
   "execution_count": null,
   "metadata": {
    "collapsed": false
   },
   "outputs": [],
   "source": [
    "waic = az.waic(inference_data)\n",
    "loo = az.loo(inference_data)\n",
    "print(\"WAIC: \", waic.waic)\n",
    "print(\"LOO: \", loo.loo)"
   ]
  },
  {
   "cell_type": "code",
   "execution_count": null,
   "metadata": {
    "collapsed": false
   },
   "outputs": [],
   "source": [
    "def get_posterior_mean(idata, params):\n",
    "    posterior = np.concatenate(\n",
    "        [idata.posterior[param].values.reshape(-1, idata.posterior[param].values.shape[-1]) if idata.posterior[param].values.ndim == 3\n",
    "         else idata.posterior[param].values.flatten()[..., np.newaxis] for param in params],\n",
    "        axis=1\n",
    "    )\n",
    "    # posterior = np.asarray([idata.posterior[param].values.reshape((idata.posterior[param].values.size,)) for param in params])\n",
    "    return posterior.mean(axis=0)\n",
    "\n",
    "def get_posterior_std(idata, params):\n",
    "    posterior = np.concatenate(\n",
    "        [idata.posterior[param].values.reshape(-1, idata.posterior[param].values.shape[-1]) if idata.posterior[param].values.ndim == 3\n",
    "         else idata.posterior[param].values.flatten()[..., np.newaxis] for param in params],\n",
    "        axis=1\n",
    "    )\n",
    "    # posterior = np.asarray([idata.posterior[param].values.reshape((idata.posterior[param].values.size,)) for param in params])\n",
    "    return posterior.std(axis=0)"
   ]
  },
  {
   "cell_type": "code",
   "execution_count": null,
   "metadata": {
    "collapsed": false
   },
   "outputs": [],
   "source": [
    "# zscores\n",
    "posterior_mean = get_posterior_mean(inference_data,\n",
    "                                    [\"model_a\", \"coupling_a\", \"nsig\"])\n",
    "\n",
    "posterior_std = get_posterior_std(inference_data,\n",
    "                                  [\"model_a\", \"coupling_a\", \"nsig\"])\n",
    "\n",
    "ground_truth = np.array(\n",
    "    [v for v in sim_params[\"model_a\"]] + [sim_params[\"coupling_a\"], sim_params[\"nsig\"]])\n",
    "\n",
    "zscores = zscore(ground_truth, posterior_mean, posterior_std)"
   ]
  },
  {
   "cell_type": "code",
   "execution_count": null,
   "metadata": {
    "collapsed": false
   },
   "outputs": [],
   "source": [
    "# shrinkages\n",
    "posterior_std = get_posterior_std(inference_data,\n",
    "    [\"model_a_star\", \"coupling_a_star\", \"nsig_star\"])\n",
    "\n",
    "prior_std = np.ones((12,))\n",
    "\n",
    "shrinkages = shrinkage(prior_std, posterior_std)"
   ]
  },
  {
   "cell_type": "code",
   "execution_count": null,
   "metadata": {
    "collapsed": false
   },
   "outputs": [],
   "source": [
    "f4 = plt.figure(figsize=(12,8))\n",
    "for i in range(len(sim_params[\"model_a\"])):\n",
    "    plt.plot(shrinkages[i], zscores[i], color=(0, i / 10.0, 1, 1), linewidth=0, marker=\"*\", markersize=12, label=f\"model_a_R{i+1}\")\n",
    "plt.plot(shrinkages[-2], zscores[-2], color=\"red\", linewidth=0, marker=\"*\", markersize=12, label=\"coupling_a\")\n",
    "plt.plot(shrinkages[-1], zscores[-1], color=\"green\", linewidth=0, marker=\"*\", markersize=12, label=\"nsig\")\n",
    "plt.xlabel(\"posterior shrinkage\", size=16)\n",
    "plt.ylabel(\"posterior zscore\", size=16)\n",
    "plt.xlim(xmax=1.05)\n",
    "plt.legend(fontsize=16)\n",
    "plt.tick_params(axis=\"both\", labelsize=16)\n",
    "plt.plot();"
   ]
  },
  {
   "cell_type": "code",
   "execution_count": null,
   "metadata": {
    "collapsed": false
   },
   "outputs": [],
   "source": []
  }
 ],
 "metadata": {
  "kernelspec": {
   "display_name": "Python 3",
   "language": "python",
   "name": "python3"
  },
  "language_info": {
   "codemirror_mode": {
    "name": "ipython",
    "version": 2
   },
   "file_extension": ".py",
   "mimetype": "text/x-python",
   "name": "python",
   "nbconvert_exporter": "python",
   "pygments_lexer": "ipython2",
   "version": "2.7.6"
  }
 },
 "nbformat": 4,
 "nbformat_minor": 0
}
