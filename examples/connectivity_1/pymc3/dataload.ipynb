{
 "cells": [
  {
   "cell_type": "code",
   "execution_count": null,
   "metadata": {
    "collapsed": true
   },
   "outputs": [],
   "source": [
    "import pymc3 as pm\n",
    "import numpy as np\n",
    "import theano\n",
    "import theano.tensor as tt\n",
    "import arviz as az\n",
    "import matplotlib.pyplot as plt\n",
    "import pandas as pd\n",
    "import json\n",
    "from datetime import timedelta\n",
    "\n",
    "from tvb_inversion.pymc3.plot import plot_posterior_samples\n",
    "from tvb_inversion.base.diagnostics import (zscore, shrinkage)"
   ]
  },
  {
   "cell_type": "code",
   "execution_count": null,
   "metadata": {
    "collapsed": false
   },
   "outputs": [],
   "source": [
    "# run_id = \"2023-01-11_2055\"  # around ground truth\n",
    "# run_id = \"2023-01-12_1752\"  # around ground truth\n",
    "# run_id = \"2023-01-13_1919\"  # shifted from ground truth\n",
    "# run_id = \"2023-01-17_1710\"  # shifted from ground truth\n",
    "# run_id = \"2023-01-18_1755\"  # shifted from ground truth\n",
    "# run_id = \"2023-01-24_1712\"  # shifted from ground truth\n",
    "# run_id = \"2023-01-25_1332\"  # shifted from ground truth\n",
    "run_id = \"2023-02-10_1605\"\n",
    "\n",
    "inference_data = az.from_netcdf(f\"pymc3_data/{run_id}_idata.nc\")\n",
    "inference_summary = pd.read_json(f\"pymc3_data/{run_id}_isummary.json\")\n",
    "with open(f\"pymc3_data/{run_id}_iparams.json\", \"r\") as f:\n",
    "    inference_params = json.load(f)\n",
    "    f.close()\n",
    "with open(f\"pymc3_data/{run_id}_sim_params.json\", \"r\") as f:\n",
    "    sim_params = json.load(f)\n",
    "    f.close()"
   ]
  },
  {
   "cell_type": "code",
   "execution_count": null,
   "metadata": {
    "collapsed": false
   },
   "outputs": [],
   "source": [
    "inference_params"
   ]
  },
  {
   "cell_type": "code",
   "execution_count": null,
   "metadata": {
    "collapsed": false
   },
   "outputs": [],
   "source": [
    "X = inference_data.observed_data.x_obs.values"
   ]
  },
  {
   "cell_type": "code",
   "execution_count": null,
   "metadata": {
    "collapsed": false
   },
   "outputs": [],
   "source": [
    "chains = len(inference_data.sample_stats.chain)\n",
    "draws = len(inference_data.sample_stats.draw)"
   ]
  },
  {
   "cell_type": "code",
   "execution_count": null,
   "metadata": {
    "collapsed": false
   },
   "outputs": [],
   "source": [
    "print(\"#chains: \", chains)\n",
    "print(\"#draws: \", draws)\n",
    "divergent = inference_data.sample_stats[\"diverging\"].values\n",
    "print(\"Number of Divergent: %d\" % divergent.nonzero()[0].size)\n",
    "divperc = (divergent.nonzero()[0].size / (chains * draws)) * 100\n",
    "print(\"Percentage of Divergent: %.1f\" % divperc)\n",
    "print(\"Mean tree accept: %.2f\" % inference_data.sample_stats.acceptance_rate.values.mean())\n",
    "print(\"Mean tree depth: %.2f\" % inference_data.sample_stats.tree_depth.values.mean())\n",
    "print(\"Sampling time:\", str(timedelta(seconds=inference_data.sample_stats.sampling_time)))"
   ]
  },
  {
   "cell_type": "code",
   "execution_count": null,
   "metadata": {
    "collapsed": false
   },
   "outputs": [],
   "source": [
    "inference_summary.loc[\n",
    "    [\"model_a_star\", \"nsig_star\",\n",
    "     \"amplitude_star\", \"offset_star\", \"measurement_noise_star\"]]"
   ]
  },
  {
   "cell_type": "code",
   "execution_count": null,
   "metadata": {
    "collapsed": false
   },
   "outputs": [],
   "source": [
    "inference_summary.loc[\n",
    "    [\"model_a\", \"nsig\",\n",
    "     \"amplitude\", \"offset\", \"measurement_noise\"]]"
   ]
  },
  {
   "cell_type": "code",
   "execution_count": null,
   "metadata": {
    "collapsed": false
   },
   "outputs": [],
   "source": [
    "init_params = {\n",
    "    \"model_a\": sim_params[\"model_a\"],\n",
    "    \"nsig\": sim_params[\"nsig\"],\n",
    "    \"measurement_noise\": 0.0,\n",
    "    \"amplitude\": 1.0,\n",
    "    \"offset\": 0.0\n",
    "}\n",
    "\n",
    "plot_posterior_samples(inference_data, init_params)"
   ]
  },
  {
   "cell_type": "code",
   "execution_count": null,
   "metadata": {
    "collapsed": false
   },
   "outputs": [],
   "source": [
    "init_params = {\n",
    "    \"model_a_star\": 0.0,\n",
    "    \"nsig_star\": 0.0,\n",
    "    \"measurement_noise_star\": 0.0,\n",
    "    \"amplitude_star\": 0.0,\n",
    "    \"offset_star\": 0.0\n",
    "}\n",
    "\n",
    "plot_posterior_samples(inference_data, init_params)"
   ]
  },
  {
   "cell_type": "code",
   "execution_count": null,
   "metadata": {
    "collapsed": false
   },
   "outputs": [],
   "source": [
    "posterior_x_obs = inference_data.posterior_predictive.x_obs.values.reshape(\n",
    "    (chains*draws, *X.shape[:-1]))"
   ]
  },
  {
   "cell_type": "code",
   "execution_count": null,
   "metadata": {
    "collapsed": false
   },
   "outputs": [],
   "source": [
    "f3 = plt.figure(figsize=(10,5))\n",
    "plt.plot(np.percentile(posterior_x_obs[:, :, 0], [2.5, 97.5], axis=0).T,\n",
    "              \"k\", label=r\"$V_{95\\% PP}(t)$\")\n",
    "plt.plot(X[:, 0, 0], label=\"V_observed\")\n",
    "plt.legend(fontsize=16)\n",
    "plt.xlabel(\"time (ms)\", fontsize=16)\n",
    "plt.tick_params(axis=\"both\", labelsize=16)\n",
    "\n",
    "plt.show()"
   ]
  },
  {
   "cell_type": "code",
   "execution_count": null,
   "metadata": {
    "collapsed": false
   },
   "outputs": [],
   "source": [
    "waic = az.waic(inference_data)\n",
    "loo = az.loo(inference_data)\n",
    "print(\"WAIC: \", waic.waic)\n",
    "print(\"LOO: \", loo.loo)"
   ]
  },
  {
   "cell_type": "code",
   "execution_count": null,
   "metadata": {
    "collapsed": false
   },
   "outputs": [],
   "source": [
    "def get_posterior_mean(idata, params):\n",
    "    posterior = np.asarray([idata.posterior[param].values.reshape((idata.posterior[param].values.size,)) for param in params])\n",
    "    return posterior.mean(axis=1)\n",
    "\n",
    "def get_posterior_std(idata, params):\n",
    "    posterior = np.asarray([idata.posterior[param].values.reshape((idata.posterior[param].values.size,)) for param in params])\n",
    "    return posterior.std(axis=1)"
   ]
  },
  {
   "cell_type": "code",
   "execution_count": null,
   "metadata": {
    "collapsed": false
   },
   "outputs": [],
   "source": [
    "# zscores\n",
    "posterior_mean = get_posterior_mean(inference_data, [\"model_a\", \"nsig\"])\n",
    "\n",
    "posterior_std = get_posterior_std(inference_data, [\"model_a\", \"nsig\"])\n",
    "\n",
    "ground_truth = np.array([sim_params[\"model_a\"], sim_params[\"nsig\"]])\n",
    "\n",
    "zscores = zscore(ground_truth, posterior_mean, posterior_std)"
   ]
  },
  {
   "cell_type": "code",
   "execution_count": null,
   "metadata": {
    "collapsed": false
   },
   "outputs": [],
   "source": [
    "# shrinkages\n",
    "posterior_std = get_posterior_std(inference_data, [\"model_a_star\", \"nsig_star\"])\n",
    "\n",
    "prior_std = np.ones((2,))\n",
    "\n",
    "shrinkages = shrinkage(prior_std, posterior_std)"
   ]
  },
  {
   "cell_type": "code",
   "execution_count": null,
   "metadata": {
    "collapsed": false
   },
   "outputs": [],
   "source": [
    "f4 = plt.figure(figsize=(12,8))\n",
    "plt.plot(shrinkages[0], zscores[0], color=\"blue\", linewidth=0, marker=\"*\", markersize=12, label=\"model_a\")\n",
    "plt.plot(shrinkages[1], zscores[1], color=\"green\", linewidth=0, marker=\"*\", markersize=12, label=\"nsig\")\n",
    "plt.xlabel(\"posterior shrinkage\")\n",
    "plt.ylabel(\"posterior zscore\")\n",
    "plt.legend(fontsize=16)\n",
    "plt.plot();"
   ]
  },
  {
   "cell_type": "code",
   "execution_count": null,
   "metadata": {
    "collapsed": false
   },
   "outputs": [],
   "source": []
  }
 ],
 "metadata": {
  "kernelspec": {
   "display_name": "Python 3",
   "language": "python",
   "name": "python3"
  },
  "language_info": {
   "codemirror_mode": {
    "name": "ipython",
    "version": 2
   },
   "file_extension": ".py",
   "mimetype": "text/x-python",
   "name": "python",
   "nbconvert_exporter": "python",
   "pygments_lexer": "ipython2",
   "version": "2.7.6"
  }
 },
 "nbformat": 4,
 "nbformat_minor": 0
}
