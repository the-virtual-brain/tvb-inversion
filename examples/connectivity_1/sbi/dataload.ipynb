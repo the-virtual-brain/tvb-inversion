{
 "cells": [
  {
   "cell_type": "code",
   "execution_count": null,
   "metadata": {
    "collapsed": true
   },
   "outputs": [],
   "source": [
    "import numpy as np\n",
    "import torch\n",
    "import matplotlib.pyplot as plt\n",
    "import seaborn as sns\n",
    "import json\n",
    "import os\n",
    "import pandas as pd\n",
    "\n",
    "from tvb_inversion.base.diagnostics import (zscore, shrinkage)"
   ]
  },
  {
   "cell_type": "code",
   "execution_count": null,
   "metadata": {
    "collapsed": false
   },
   "outputs": [],
   "source": [
    "# run_id = \"2023-02-02_1238\"  # around ground truth\n",
    "# run_id = \"2023-02-02_1319\"  # around ground truth\n",
    "# run_id = \"2023-02-02_1807\"  # around ground truth\n",
    "# run_id = \"2023-02-03_1318\"  # around ground truth\n",
    "# run_id = \"2023-02-03_1326\"  # around ground truth\n",
    "# run_id = \"2023-02-03_1351\"  # shifted from ground truth\n",
    "# run_id = \"2023-02-03_1427\"  # shifted from ground truth\n",
    "run_id = \"2023-02-08_1402\"  # around ground truth\n",
    "# run_id = \"2023-02-08_1752\"  # shifted from ground truth\n",
    "\n",
    "posterior_samples = np.load(f\"sbi_data/posterior_samples_{run_id}.npy\")\n",
    "prior_samples = np.load(f\"sbi_data/prior_samples_{run_id}.npy\")\n",
    "test_samples = np.load(f\"sbi_data/test_samples_{run_id}.npy\")\n",
    "X = np.load(f\"sbi_data/simulation_{run_id}.npy\")\n",
    "training_sims = np.load(f\"sbi_data/training_sims_{run_id}.npy\")\n",
    "test_sims = np.load(f\"sbi_data/test_sims_{run_id}.npy\")\n",
    "with open(f\"sbi_data/sim_params_{run_id}.json\", \"r\") as f:\n",
    "    simulation_params = json.load(f)\n",
    "with open(f\"sbi_data/inference_params_{run_id}.json\", \"r\") as f:\n",
    "    inference_params = json.load(f)\n",
    "with open(f\"sbi_data/summary_{run_id}.json\", \"r\") as f:\n",
    "    summary = json.load(f)"
   ]
  },
  {
   "cell_type": "code",
   "execution_count": null,
   "metadata": {
    "collapsed": false
   },
   "outputs": [],
   "source": [
    "inference_params"
   ]
  },
  {
   "cell_type": "code",
   "execution_count": null,
   "metadata": {
    "collapsed": false
   },
   "outputs": [],
   "source": [
    "training_sims.shape, test_sims.shape, prior_samples.shape, test_samples.shape"
   ]
  },
  {
   "cell_type": "code",
   "execution_count": null,
   "metadata": {
    "collapsed": false
   },
   "outputs": [],
   "source": [
    "f1 = plt.figure(figsize=(12, 8))\n",
    "plt.plot(summary[\"training_log_probs\"], label=\"training\")\n",
    "plt.plot(summary[\"validation_log_probs\"], label=\"validation\")\n",
    "plt.xlabel(\"epochs\", size=16)\n",
    "plt.ylabel(\"log probability\", size=16)\n",
    "plt.tick_params(axis=\"both\", labelsize=16)\n",
    "plt.legend(fontsize=16)\n",
    "plt.show()"
   ]
  },
  {
   "cell_type": "code",
   "execution_count": null,
   "metadata": {
    "collapsed": false
   },
   "outputs": [],
   "source": [
    "data={\n",
    "    \"model_a\": posterior_samples[:, :, 0].flatten(),\n",
    "    \"nsig\": posterior_samples[:, :, 1].flatten(),\n",
    "    # \"measurement_noise\": posterior_samples[:, :, -1].flatten(),\n",
    "}\n",
    "df = pd.DataFrame(data)\n",
    "\n",
    "f3, axes3 = plt.subplots(ncols=1, nrows=2, figsize=(10, 15))\n",
    "label = \"ground truth\"\n",
    "for i, (key, value) in enumerate(data.items()):\n",
    "    ax = axes3.reshape(-1)[i]\n",
    "    sns.violinplot(y=df[key], bw=.1, ax=ax)\n",
    "    plt.setp(ax.collections, alpha=.5)\n",
    "    try:\n",
    "        ax.axhline(simulation_params[key], linestyle=\"--\", linewidth=2, color=\"black\", label=label)\n",
    "    except KeyError:\n",
    "        ax.axhline(0.0, linestyle=\"--\", linewidth=2, color=\"black\", label=label)\n",
    "    if i == 0:\n",
    "        ax.legend(fontsize=16)\n",
    "    label = \"_nolegend_\"\n",
    "    ax.tick_params(axis=\"both\", labelsize=16)\n",
    "    ax.set_ylabel(key, size=16)\n",
    "plt.show()\n",
    "\n",
    "# num_params = len(inference_params)\n",
    "# nrows = int(np.ceil(np.sqrt(num_params)))\n",
    "# ncols = int(np.ceil(num_params / nrows))\n",
    "#\n",
    "# fig1, axes1 = plt.subplots(nrows=nrows, ncols=ncols, figsize=(20, 16))\n",
    "# for ax in axes1.reshape(-1):\n",
    "#     ax.set_axis_off()\n",
    "# for i, (key, value) in enumerate(inference_params.items()):\n",
    "#     posterior_ = posterior_samples[:, :, i]\n",
    "#     posterior_ = posterior_.flatten()\n",
    "#     ax = axes1.reshape(-1)[i]\n",
    "#     ax.set_axis_on()\n",
    "#     ax.hist(posterior_, bins=100, alpha=0.5)\n",
    "#     ax.axvline(simulation_params[key], color=\"r\", label=\"simulation parameter\")\n",
    "#     ax.axvline(posterior_.mean(), color=\"k\", label=\"posterior mean\")\n",
    "#     # ax.axvline(prior_samples[:, i].mean(), color=\"k\", linestyle=\"-.\", label=\"prior mean\")\n",
    "#\n",
    "#     ax.set_title(key, fontsize=18)\n",
    "#     ax.tick_params(axis=\"both\", labelsize=16)\n",
    "# try:\n",
    "#     axes1[0, 0].legend(fontsize=18)\n",
    "# except IndexError:\n",
    "#     axes1[0].legend(fontsize=18)\n",
    "# plt.show()"
   ]
  },
  {
   "cell_type": "code",
   "execution_count": null,
   "metadata": {
    "collapsed": false
   },
   "outputs": [],
   "source": [
    "#ground_truth = np.asarray([value for _, value in simulation_params.items()])\n",
    "#posterior_mean = posterior_samples.reshape((-1, *posterior_samples.shape[2:])).mean(axis=0)\n",
    "#posterior_std = posterior_samples.reshape((-1, *posterior_samples.shape[2:])).std(axis=0)\n",
    "#prior_std = prior_samples.std(axis=0)"
   ]
  },
  {
   "cell_type": "code",
   "execution_count": null,
   "metadata": {
    "collapsed": false
   },
   "outputs": [],
   "source": [
    "posterior_mean = posterior_samples.mean(axis=1)\n",
    "posterior_std = posterior_samples.std(axis=1)\n",
    "prior_std = np.tile(np.asarray([value for _, value in simulation_params.items()]) / 2., (len(test_samples), 1))"
   ]
  },
  {
   "cell_type": "code",
   "execution_count": null,
   "metadata": {
    "collapsed": false
   },
   "outputs": [],
   "source": [
    "posterior_mean.mean(axis=0)"
   ]
  },
  {
   "cell_type": "code",
   "execution_count": null,
   "metadata": {
    "collapsed": false
   },
   "outputs": [],
   "source": [
    "zscores = zscore(test_samples, posterior_mean, posterior_std)\n",
    "shrinkages = shrinkage(prior_std, posterior_std)"
   ]
  },
  {
   "cell_type": "code",
   "execution_count": null,
   "metadata": {
    "collapsed": false
   },
   "outputs": [],
   "source": [
    "fig2 = plt.figure(figsize=(12,8))\n",
    "plt.plot(shrinkages[:, 0], zscores[:, 0], color=\"blue\", linewidth=0, marker=\".\", markersize=8, alpha=0.1)\n",
    "plt.plot(shrinkages.mean(axis=0)[0], zscores.mean(axis=0)[0], color=\"blue\", linewidth=0, marker=\"*\", markersize=12, label=\"model_a\")\n",
    "plt.plot(shrinkages[:, 1], zscores[:, 1], color=\"green\", linewidth=0, marker=\".\", markersize=8, alpha=0.1)\n",
    "plt.plot(shrinkages.mean(axis=0)[1], zscores.mean(axis=0)[1], color=\"green\", linewidth=0, marker=\"*\", markersize=12, label=\"nsig\")\n",
    "plt.xlabel(\"posterior shrinkage\", size=16)\n",
    "plt.ylabel(\"posterior zscore\", size=16)\n",
    "plt.legend(fontsize=16)\n",
    "plt.tick_params(axis=\"both\", labelsize=16)\n",
    "plt.show()"
   ]
  },
  {
   "cell_type": "code",
   "execution_count": null,
   "metadata": {
    "collapsed": false
   },
   "outputs": [],
   "source": [
    "delete = False\n",
    "if delete:\n",
    "    os.remove(f\"sbi_data/posterior_samples_{run_id}.npy\")\n",
    "    os.remove(f\"sbi_data/prior_samples_{run_id}.npy\")\n",
    "    os.remove(f\"sbi_data/simulation_{run_id}.npy\")\n",
    "    os.remove(f\"sbi_data/training_sims_{run_id}.npy\")\n",
    "    os.remove(f\"sbi_data/test_sims_{run_id}.npy\")\n",
    "    os.remove(f\"sbi_data/sim_params_{run_id}.json\")\n",
    "    os.remove(f\"sbi_data/inference_params_{run_id}.json\")\n",
    "    os.remove(f\"sbi_data/summary_{run_id}.json\")"
   ]
  },
  {
   "cell_type": "code",
   "execution_count": null,
   "metadata": {
    "collapsed": false
   },
   "outputs": [],
   "source": []
  }
 ],
 "metadata": {
  "kernelspec": {
   "display_name": "Python 3",
   "language": "python",
   "name": "python3"
  },
  "language_info": {
   "codemirror_mode": {
    "name": "ipython",
    "version": 2
   },
   "file_extension": ".py",
   "mimetype": "text/x-python",
   "name": "python",
   "nbconvert_exporter": "python",
   "pygments_lexer": "ipython2",
   "version": "2.7.6"
  }
 },
 "nbformat": 4,
 "nbformat_minor": 0
}
