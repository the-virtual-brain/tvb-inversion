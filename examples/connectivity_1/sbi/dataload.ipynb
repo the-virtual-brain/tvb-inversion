{
 "cells": [
  {
   "cell_type": "code",
   "execution_count": null,
   "metadata": {
    "collapsed": true
   },
   "outputs": [],
   "source": [
    "import numpy as np\n",
    "import torch\n",
    "import matplotlib.pyplot as plt\n",
    "import json\n",
    "import os\n",
    "\n",
    "from tvb_inversion.base.diagnostics import (zscore, shrinkage)"
   ]
  },
  {
   "cell_type": "code",
   "execution_count": null,
   "metadata": {
    "collapsed": false
   },
   "outputs": [],
   "source": [
    "# run_id = \"2023-01-13_2028\"  # around ground truth\n",
    "# run_id = \"2023-01-17_1206\"  # around ground truth\n",
    "# run_id = \"2023-01-25_1618\"  # around ground truth\n",
    "# run_id = \"2023-01-31_1233\"  # around ground truth\n",
    "# run_id = \"2023-01-31_1402\"  # around ground truth\n",
    "# run_id = \"2023-01-31_1906\"  # around ground truth\n",
    "run_id = \"2023-01-31_1922\"  # around ground truth\n",
    "\n",
    "posterior_samples = np.load(f\"sbi_data/posterior_samples_{run_id}.npy\")\n",
    "prior_samples = np.load(f\"sbi_data/prior_samples_{run_id}.npy\")\n",
    "X = np.load(f\"sbi_data/simulation_{run_id}.npy\")\n",
    "training_sims = np.load(f\"sbi_data/training_sims_{run_id}.npy\")\n",
    "test_sims = np.load(f\"sbi_data/test_sims_{run_id}.npy\")\n",
    "with open(f\"sbi_data/sim_params_{run_id}.json\", \"r\") as f:\n",
    "    simulation_params = json.load(f)\n",
    "with open(f\"sbi_data/inference_params_{run_id}.json\", \"r\") as f:\n",
    "    inference_params = json.load(f)\n",
    "with open(f\"sbi_data/summary_{run_id}.json\", \"r\") as f:\n",
    "    summary = json.load(f)"
   ]
  },
  {
   "cell_type": "code",
   "execution_count": null,
   "metadata": {
    "collapsed": false
   },
   "outputs": [],
   "source": [
    "inference_params"
   ]
  },
  {
   "cell_type": "code",
   "execution_count": null,
   "metadata": {
    "collapsed": false
   },
   "outputs": [],
   "source": [
    "training_sims.shape, test_sims.shape"
   ]
  },
  {
   "cell_type": "code",
   "execution_count": null,
   "metadata": {
    "collapsed": false
   },
   "outputs": [],
   "source": [
    "plt.plot(summary[\"training_log_probs\"])\n",
    "plt.plot(summary[\"validation_log_probs\"])"
   ]
  },
  {
   "cell_type": "code",
   "execution_count": null,
   "metadata": {
    "collapsed": false
   },
   "outputs": [],
   "source": [
    "num_params = len(inference_params)\n",
    "nrows = int(np.ceil(np.sqrt(num_params)))\n",
    "ncols = int(np.ceil(num_params / nrows))\n",
    "\n",
    "fig1, axes1 = plt.subplots(nrows=nrows, ncols=ncols, figsize=(20, 16))\n",
    "for ax in axes1.reshape(-1):\n",
    "    ax.set_axis_off()\n",
    "for i, (key, value) in enumerate(inference_params.items()):\n",
    "    posterior_ = posterior_samples[:, :, i]\n",
    "    posterior_ = posterior_.flatten()\n",
    "    ax = axes1.reshape(-1)[i]\n",
    "    ax.set_axis_on()\n",
    "    ax.hist(posterior_, bins=100, alpha=0.5)\n",
    "    ax.axvline(simulation_params[key], color=\"r\", label=\"simulation parameter\")\n",
    "    ax.axvline(posterior_.mean(), color=\"k\", label=\"posterior mean\")\n",
    "    # ax.axvline(prior_samples[:, i].mean(), color=\"k\", linestyle=\"-.\", label=\"prior mean\")\n",
    "\n",
    "    ax.set_title(key, fontsize=18)\n",
    "    ax.tick_params(axis=\"both\", labelsize=16)\n",
    "try:\n",
    "    axes1[0, 0].legend(fontsize=18)\n",
    "except IndexError:\n",
    "    axes1[0].legend(fontsize=18)\n",
    "plt.show()"
   ]
  },
  {
   "cell_type": "code",
   "execution_count": null,
   "metadata": {
    "collapsed": false
   },
   "outputs": [],
   "source": [
    "true_mean = np.asarray([value for _, value in simulation_params.items()])\n",
    "posterior_mean = posterior_samples.reshape((-1, *posterior_samples.shape[2:])).mean(axis=0)\n",
    "posterior_std = posterior_samples.reshape((-1, *posterior_samples.shape[2:])).std(axis=0)\n",
    "prior_std = prior_samples.std(axis=0)"
   ]
  },
  {
   "cell_type": "code",
   "execution_count": null,
   "metadata": {
    "collapsed": false
   },
   "outputs": [],
   "source": [
    "posterior_mean"
   ]
  },
  {
   "cell_type": "code",
   "execution_count": null,
   "metadata": {
    "collapsed": false
   },
   "outputs": [],
   "source": [
    "zscores = zscore(true_mean, posterior_mean, posterior_std)\n",
    "shrinkages = shrinkage(prior_std, posterior_std)"
   ]
  },
  {
   "cell_type": "code",
   "execution_count": null,
   "metadata": {
    "collapsed": false
   },
   "outputs": [],
   "source": [
    "fig2 = plt.figure(figsize=(12,8))\n",
    "plt.plot(shrinkages[0], zscores[0], color=\"blue\", linewidth=0, marker=\"*\", markersize=12, label=\"model_a\")\n",
    "plt.plot(shrinkages[1], zscores[1], color=\"green\", linewidth=0, marker=\"*\", markersize=12, label=\"nsig\")\n",
    "plt.xlabel(\"posterior shrinkage\")\n",
    "plt.ylabel(\"posterior zscore\")\n",
    "plt.legend(fontsize=16)\n",
    "plt.plot();"
   ]
  },
  {
   "cell_type": "code",
   "execution_count": null,
   "metadata": {
    "collapsed": false
   },
   "outputs": [],
   "source": [
    "delete = False\n",
    "if delete:\n",
    "    os.remove(f\"sbi_data/posterior_samples_{run_id}.npy\")\n",
    "    os.remove(f\"sbi_data/prior_samples_{run_id}.npy\")\n",
    "    os.remove(f\"sbi_data/simulation_{run_id}.npy\")\n",
    "    os.remove(f\"sbi_data/training_sims_{run_id}.npy\")\n",
    "    os.remove(f\"sbi_data/sim_params_{run_id}.json\")\n",
    "    os.remove(f\"sbi_data/inference_params_{run_id}.json\")\n",
    "    os.remove(f\"sbi_data/summary_{run_id}.json\")"
   ]
  },
  {
   "cell_type": "code",
   "execution_count": null,
   "metadata": {
    "collapsed": false
   },
   "outputs": [],
   "source": []
  }
 ],
 "metadata": {
  "kernelspec": {
   "display_name": "Python 3",
   "language": "python",
   "name": "python3"
  },
  "language_info": {
   "codemirror_mode": {
    "name": "ipython",
    "version": 2
   },
   "file_extension": ".py",
   "mimetype": "text/x-python",
   "name": "python",
   "nbconvert_exporter": "python",
   "pygments_lexer": "ipython2",
   "version": "2.7.6"
  }
 },
 "nbformat": 4,
 "nbformat_minor": 0
}
