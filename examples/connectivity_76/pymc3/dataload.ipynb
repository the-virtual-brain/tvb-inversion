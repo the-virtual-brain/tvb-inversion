{
 "cells": [
  {
   "cell_type": "code",
   "execution_count": null,
   "metadata": {
    "collapsed": true
   },
   "outputs": [],
   "source": [
    "import pymc3 as pm\n",
    "import numpy as np\n",
    "import theano\n",
    "import theano.tensor as tt\n",
    "import arviz as az\n",
    "import matplotlib.pyplot as plt\n",
    "import seaborn as sns\n",
    "import pandas as pd\n",
    "import json\n",
    "from datetime import timedelta\n",
    "import pickle\n",
    "from pymc3.backends.base import MultiTrace\n",
    "\n",
    "from tvb_inversion.base.diagnostics import (zscore, shrinkage)\n",
    "from tvb_inversion.pymc3.plot import (\n",
    "    plot_posterior_samples_model_parameters,\n",
    "    plot_posterior_samples_global_parameters,\n",
    "    posterior_pairplot\n",
    ")\n",
    "\n",
    "%load_ext autoreload\n",
    "%autoreload 2"
   ]
  },
  {
   "cell_type": "code",
   "execution_count": null,
   "metadata": {
    "collapsed": false
   },
   "outputs": [],
   "source": [
    "run_id = \"2023-03-13_1329\"\n",
    "\n",
    "inference_data = az.from_netcdf(f\"pymc3_data/{run_id}-3_idata.nc\")\n",
    "inference_summary = pd.read_json(f\"pymc3_data/{run_id}-3_isummary.json\")\n",
    "with open(f\"pymc3_data/{run_id}_iparams.json\", \"r\") as f:\n",
    "    inference_params = json.load(f)\n",
    "    f.close()\n",
    "with open(f\"pymc3_data/{run_id}_sim_params.json\", \"r\") as f:\n",
    "    sim_params = json.load(f)\n",
    "    f.close()\n",
    "\n",
    "# inference_data = az.from_netcdf(f\"pymc3_data/{run_id}.nc\")\n",
    "# inference_summary = pd.read_json(f\"pymc3_data/{run_id}.json\")"
   ]
  },
  {
   "cell_type": "code",
   "execution_count": null,
   "metadata": {
    "collapsed": false
   },
   "outputs": [],
   "source": [
    "with open(f\"pymc3_data/{run_id}_tuning_model.pkl\", \"rb\") as buff:\n",
    "    data = pickle.load(buff)\n",
    "\n",
    "model = data[\"model\"]"
   ]
  },
  {
   "cell_type": "code",
   "execution_count": null,
   "metadata": {
    "collapsed": false
   },
   "outputs": [],
   "source": [
    "with model:\n",
    "    trace = pm.load_trace(\".pymc_2.trace\")\n",
    "    tuning_trace = MultiTrace([trace._straces[0][5:], trace._straces[1][5:], trace._straces[2][5:]])"
   ]
  },
  {
   "cell_type": "code",
   "execution_count": null,
   "metadata": {
    "collapsed": false
   },
   "outputs": [],
   "source": [
    "with model:\n",
    "    tuning_posterior_predictive = pm.sample_posterior_predictive(trace=tuning_trace)\n",
    "    tuning_inference_data = az.from_pymc3(trace=tuning_trace, posterior_predictive=tuning_posterior_predictive, save_warmup=True)"
   ]
  },
  {
   "cell_type": "code",
   "execution_count": null,
   "metadata": {
    "collapsed": false
   },
   "outputs": [],
   "source": [
    "inference_data1 = az.from_netcdf(f\"pymc3_data/{run_id}_idata.nc\")\n",
    "inference_data2 = az.from_netcdf(f\"pymc3_data/{run_id}-2_idata.nc\")\n",
    "inference_data3 = az.from_netcdf(f\"pymc3_data/{run_id}-3_idata.nc\")"
   ]
  },
  {
   "cell_type": "code",
   "execution_count": null,
   "metadata": {
    "collapsed": false
   },
   "outputs": [],
   "source": [
    "cinference_data = az.concat([inference_data2, inference_data3], dim=\"draw\")"
   ]
  },
  {
   "cell_type": "code",
   "execution_count": null,
   "metadata": {
    "collapsed": false
   },
   "outputs": [],
   "source": [
    "cinference_summary = az.summary(cinference_data)"
   ]
  },
  {
   "cell_type": "code",
   "execution_count": null,
   "metadata": {
    "collapsed": false
   },
   "outputs": [],
   "source": [
    "X = inference_data.observed_data.x_obs.values"
   ]
  },
  {
   "cell_type": "code",
   "execution_count": null,
   "metadata": {
    "collapsed": false
   },
   "outputs": [],
   "source": [
    "chains = len(inference_data.sample_stats.chain)\n",
    "draws = len(inference_data.sample_stats.draw)"
   ]
  },
  {
   "cell_type": "code",
   "execution_count": null,
   "metadata": {
    "collapsed": false
   },
   "outputs": [],
   "source": [
    "print(\"#chains: \", chains)\n",
    "print(\"#draws: \", draws)\n",
    "divergent = inference_data.sample_stats[\"diverging\"].values\n",
    "print(\"Number of Divergent: %d\" % divergent.nonzero()[0].size)\n",
    "divperc = (divergent.nonzero()[0].size / (chains * draws)) * 100\n",
    "print(\"Percentage of Divergent: %.1f\" % divperc)\n",
    "print(\"Mean tree accept: %.2f\" % inference_data.sample_stats.acceptance_rate.values.mean())\n",
    "print(\"Mean tree depth: %.2f\" % inference_data.sample_stats.tree_depth.values.mean())\n",
    "print(\"Sampling time:\", str(timedelta(seconds=inference_data.sample_stats.sampling_time)))"
   ]
  },
  {
   "cell_type": "code",
   "execution_count": null,
   "metadata": {
    "collapsed": false
   },
   "outputs": [],
   "source": [
    "inference_summary.loc[\n",
    "    [f\"model_a_star[{i}]\" for i in range(len(inference_params[\"model_a\"]))] + [\"coupling_a_star\", \"nsig_star\",\n",
    "                                                                               \"amplitude_star\", \"offset_star\", \"measurement_noise_star\"]\n",
    "    ]"
   ]
  },
  {
   "cell_type": "code",
   "execution_count": null,
   "metadata": {
    "collapsed": false
   },
   "outputs": [],
   "source": [
    "ground_truth = np.array(\n",
    "    [v for v in sim_params[\"model_a\"]] + [sim_params[\"coupling_a\"], sim_params[\"nsig\"], 1.0, 0.0, 0.0])\n",
    "inference_summary_ = inference_summary.loc[\n",
    "    [f\"model_a[{i}]\" for i in range(len(inference_params[\"model_a\"]))] + [\"coupling_a\", \"nsig\",\n",
    "                                                                          \"amplitude\", \"offset\", \"measurement_noise\"]\n",
    "    ]\n",
    "inference_summary_.insert(0, \"ground_truth\", ground_truth)\n",
    "inference_summary_"
   ]
  },
  {
   "cell_type": "code",
   "execution_count": null,
   "metadata": {
    "collapsed": false
   },
   "outputs": [],
   "source": [
    "df = pd.DataFrame(\n",
    "    data=inference_data.posterior.model_a.values.reshape(-1, inference_data.posterior.model_a.values.shape[-1]),\n",
    "    columns=[f\"Region {i+1}\" for i in range(len(inference_params[\"model_a\"]))]\n",
    ")\n",
    "\n",
    "plot_posterior_samples_model_parameters(df.iloc[:, :10], sim_params[\"model_a\"][:10])"
   ]
  },
  {
   "cell_type": "code",
   "execution_count": null,
   "metadata": {
    "collapsed": false
   },
   "outputs": [],
   "source": [
    "df = pd.DataFrame(\n",
    "    data=inference_data.posterior.model_a.values.reshape(-1, inference_data.posterior.model_a.values.shape[-1]),\n",
    "    columns=[f\"Region {i+1}\" for i in range(len(inference_params[\"model_a\"]))]\n",
    ")\n",
    "\n",
    "plot_posterior_samples_model_parameters(df.iloc[:, 10:20], sim_params[\"model_a\"][10:20])"
   ]
  },
  {
   "cell_type": "code",
   "execution_count": null,
   "metadata": {
    "collapsed": false
   },
   "outputs": [],
   "source": [
    "from scipy.stats import spearmanr\n",
    "\n",
    "posterior_model_a = inference_summary.loc[[f\"model_a[{i}]\" for i in range(len(inference_params[\"model_a\"]))]][[\"mean\"]].to_numpy()\n",
    "gt_model_a = np.array([v for v in sim_params[\"model_a\"]])\n",
    "\n",
    "spearman_correlation = spearmanr(gt_model_a, posterior_model_a)\n",
    "\n",
    "print(spearman_correlation.correlation, spearman_correlation.pvalue)"
   ]
  },
  {
   "cell_type": "code",
   "execution_count": null,
   "metadata": {
    "collapsed": false
   },
   "outputs": [],
   "source": [
    "fig_spearman = plt.figure(figsize=(8, 5))\n",
    "plt.plot(posterior_model_a, gt_model_a, linewidth=0, marker=\"*\", markersize=12, color=\"blue\")\n",
    "plt.xlabel(\"posterior mean\", fontsize=16)\n",
    "plt.ylabel(\"ground truth\", fontsize=16)\n",
    "plt.tick_params(axis=\"both\", labelsize=16)\n",
    "# plt.savefig(save_path + \"rank_correlation.png\", dpi=600, bbox_inches=\"tight\")"
   ]
  },
  {
   "cell_type": "code",
   "execution_count": null,
   "metadata": {
    "collapsed": false
   },
   "outputs": [],
   "source": [
    "# data = {\n",
    "#     f\"model_a_R{i+1}\": inference_data.posterior.model_a.values.reshape(-1, inference_data.posterior.model_a.values.shape[-1])[:, i] for i in range(len(inference_params[\"model_a\"]))\n",
    "# }\n",
    "# data[\"coupling_a\"] = inference_data.posterior.coupling_a.values.flatten()\n",
    "# df = pd.DataFrame(data)\n",
    "#\n",
    "# posterior_pairplot(df, size=2)"
   ]
  },
  {
   "cell_type": "code",
   "execution_count": null,
   "metadata": {
    "collapsed": false
   },
   "outputs": [],
   "source": [
    "data={\n",
    "    \"coupling_a\": inference_data.posterior.coupling_a.values.flatten(),\n",
    "    \"nsig\": inference_data.posterior.nsig.values.flatten(),\n",
    "    \"measurement_noise\": inference_data.posterior.measurement_noise.values.flatten(),\n",
    "}\n",
    "df = pd.DataFrame(data)\n",
    "\n",
    "plot_posterior_samples_global_parameters(df, sim_params)"
   ]
  },
  {
   "cell_type": "code",
   "execution_count": null,
   "metadata": {
    "collapsed": false
   },
   "outputs": [],
   "source": [
    "inference_data.posterior_predictive.x_obs.values.shape"
   ]
  },
  {
   "cell_type": "code",
   "execution_count": null,
   "metadata": {
    "collapsed": false
   },
   "outputs": [],
   "source": [
    "posterior_x_obs = inference_data.posterior_predictive.x_obs.values.reshape(\n",
    "    (1200, *X.shape))"
   ]
  },
  {
   "cell_type": "code",
   "execution_count": null,
   "metadata": {
    "collapsed": false
   },
   "outputs": [],
   "source": [
    "num_regions = 6\n",
    "f3, axes3 = plt.subplots(nrows=num_regions, ncols=1, figsize=(25, num_regions*12))\n",
    "for i in range(num_regions):\n",
    "    ax = axes3[i]\n",
    "\n",
    "    ax.plot(np.percentile(posterior_x_obs[:, :, 0, i], [2.5, 97.5], axis=0).T,\n",
    "            \"k\", label=r\"$V_{95\\% PP}(t)$\")\n",
    "    ax.plot(X[:, 0, i], label=\"V_observed\")\n",
    "    ax.set_title(f\"Region {i+1}\", fontsize=16)\n",
    "    ax.legend(fontsize=16)\n",
    "    ax.set_xlabel(\"time (ms)\", fontsize=16)\n",
    "    ax.tick_params(axis=\"both\", labelsize=16)\n",
    "\n",
    "plt.show()"
   ]
  },
  {
   "cell_type": "code",
   "execution_count": null,
   "metadata": {
    "collapsed": false
   },
   "outputs": [],
   "source": [
    "waic = az.waic(inference_data)\n",
    "loo = az.loo(inference_data)\n",
    "print(\"WAIC: \", waic.waic)\n",
    "print(\"LOO: \", loo.loo)"
   ]
  },
  {
   "cell_type": "code",
   "execution_count": null,
   "metadata": {
    "collapsed": false
   },
   "outputs": [],
   "source": [
    "def get_posterior_mean(idata, params):\n",
    "    posterior = np.concatenate(\n",
    "        [idata.posterior[param].values.reshape(-1, idata.posterior[param].values.shape[-1]) if idata.posterior[param].values.ndim == 3\n",
    "         else idata.posterior[param].values.flatten()[..., np.newaxis] for param in params],\n",
    "        axis=1\n",
    "    )\n",
    "    # posterior = np.asarray([idata.posterior[param].values.reshape((idata.posterior[param].values.size,)) for param in params])\n",
    "    return posterior.mean(axis=0)\n",
    "\n",
    "def get_posterior_std(idata, params):\n",
    "    posterior = np.concatenate(\n",
    "        [idata.posterior[param].values.reshape(-1, idata.posterior[param].values.shape[-1]) if idata.posterior[param].values.ndim == 3\n",
    "         else idata.posterior[param].values.flatten()[..., np.newaxis] for param in params],\n",
    "        axis=1\n",
    "    )\n",
    "    # posterior = np.asarray([idata.posterior[param].values.reshape((idata.posterior[param].values.size,)) for param in params])\n",
    "    return posterior.std(axis=0)"
   ]
  },
  {
   "cell_type": "code",
   "execution_count": null,
   "metadata": {
    "collapsed": false
   },
   "outputs": [],
   "source": [
    "# zscores\n",
    "posterior_mean = get_posterior_mean(inference_data,\n",
    "                                    [\"model_a\", \"coupling_a\", \"nsig\"])\n",
    "\n",
    "posterior_std = get_posterior_std(inference_data,\n",
    "                                  [\"model_a\", \"coupling_a\", \"nsig\"])\n",
    "\n",
    "ground_truth = np.array(\n",
    "    [v for v in sim_params[\"model_a\"]] + [sim_params[\"coupling_a\"], sim_params[\"nsig\"]])\n",
    "\n",
    "zscores = zscore(ground_truth, posterior_mean, posterior_std)"
   ]
  },
  {
   "cell_type": "code",
   "execution_count": null,
   "metadata": {
    "collapsed": false
   },
   "outputs": [],
   "source": [
    "def zscore_gt(true_mean, post_mean):\n",
    "    return np.abs((post_mean - true_mean) / true_mean)\n",
    "\n",
    "def zscore_prior(true_mean, post_mean, prior_std):\n",
    "    return np.abs((post_mean - true_mean) / prior_std)"
   ]
  },
  {
   "cell_type": "code",
   "execution_count": null,
   "metadata": {
    "collapsed": false
   },
   "outputs": [],
   "source": [
    "# shrinkages\n",
    "posterior_std = get_posterior_std(inference_data,\n",
    "    [\"model_a_star\", \"coupling_a_star\", \"nsig_star\"])\n",
    "\n",
    "prior_std = np.ones((78,))\n",
    "\n",
    "shrinkages = shrinkage(prior_std, posterior_std)"
   ]
  },
  {
   "cell_type": "code",
   "execution_count": null,
   "metadata": {
    "collapsed": false
   },
   "outputs": [],
   "source": [
    "f4 = plt.figure(figsize=(12,8))\n",
    "for i in range(len(sim_params[\"model_a\"])):\n",
    "    plt.plot(shrinkages[i], zscores[i], color=\"blue\", linewidth=0, marker=\"*\", markersize=12, label=f\"model_a_R{i+1}\")\n",
    "plt.plot(shrinkages[-2], zscores[-2], color=\"red\", linewidth=0, marker=\"*\", markersize=12, label=\"coupling_a\")\n",
    "plt.plot(shrinkages[-1], zscores[-1], color=\"green\", linewidth=0, marker=\"*\", markersize=12, label=\"nsig\")\n",
    "plt.xlabel(\"posterior shrinkage\", size=16)\n",
    "plt.ylabel(\"posterior zscore\", size=16)\n",
    "# plt.xlim(xmax=1.05)\n",
    "# plt.legend(fontsize=16)\n",
    "plt.tick_params(axis=\"both\", labelsize=16)\n",
    "plt.plot();"
   ]
  },
  {
   "cell_type": "code",
   "execution_count": null,
   "metadata": {
    "collapsed": false
   },
   "outputs": [],
   "source": []
  },
  {
   "cell_type": "code",
   "execution_count": null,
   "metadata": {
    "collapsed": false
   },
   "outputs": [],
   "source": [
    "import pickle\n",
    "from pymc3.sampling import _init_jitter\n",
    "from pymc3.step_methods.hmc import quadpotential\n",
    "\n",
    "with open(\"pymc3_data/2023-03-13_1329_tuning_model.pkl\", \"rb\") as buff:\n",
    "    data = pickle.load(buff)\n",
    "\n",
    "model = data[\"model\"]\n",
    "with model:\n",
    "    trace = pm.load_trace(\".pymc_2.trace\")\n",
    "    cov_est_load = pm.trace_cov(trace)"
   ]
  },
  {
   "cell_type": "code",
   "execution_count": null,
   "metadata": {
    "collapsed": false
   },
   "outputs": [],
   "source": [
    "cov_est_load.shape"
   ]
  },
  {
   "cell_type": "code",
   "execution_count": null,
   "metadata": {
    "collapsed": false
   },
   "outputs": [],
   "source": [
    "chain1 = trace._straces[0][5:].samples\n",
    "chain2 = trace._straces[1][5:].samples\n",
    "chain3 = trace._straces[2][5:].samples\n",
    "chain4 = trace._straces[3][5:].samples"
   ]
  },
  {
   "cell_type": "code",
   "execution_count": null,
   "metadata": {
    "collapsed": false
   },
   "outputs": [],
   "source": [
    "trace._straces[0].vars"
   ]
  },
  {
   "cell_type": "code",
   "execution_count": null,
   "metadata": {
    "collapsed": false
   },
   "outputs": [],
   "source": [
    "from pymc3.backends.base import MultiTrace\n",
    "rtrace = MultiTrace([trace._straces[0][5:], trace._straces[1][5:], trace._straces[2][5:]])"
   ]
  },
  {
   "cell_type": "code",
   "execution_count": null,
   "metadata": {
    "collapsed": false
   },
   "outputs": [],
   "source": [
    "with model:\n",
    "    rcov_est = pm.trace_cov(rtrace)"
   ]
  },
  {
   "cell_type": "code",
   "execution_count": null,
   "metadata": {
    "collapsed": false
   },
   "outputs": [],
   "source": [
    "np.diag(rcov_est)"
   ]
  },
  {
   "cell_type": "code",
   "execution_count": null,
   "metadata": {
    "collapsed": false
   },
   "outputs": [],
   "source": [
    "np.diag(cov_est)"
   ]
  },
  {
   "cell_type": "code",
   "execution_count": null,
   "metadata": {
    "collapsed": false
   },
   "outputs": [],
   "source": [
    "plt.hist(chain3[\"model_a\"][:, 0], bins=100);"
   ]
  },
  {
   "cell_type": "code",
   "execution_count": null,
   "metadata": {
    "collapsed": false
   },
   "outputs": [],
   "source": [
    "with model:\n",
    "    diverging1 = trace._straces[0]._get_sampler_stats(varname=\"diverging\", sampler_idx=0, burn=0, thin=1)\n",
    "    mean1 = np.asarray([model.dict_to_array(trace._straces[0][i]) for i in np.where(diverging1==False)[0]]).mean(axis=0)\n",
    "    std1 = np.asarray([model.dict_to_array(trace._straces[0][i]) for i in np.where(diverging1==False)[0]]).std(axis=0)\n",
    "    var1 = np.asarray([model.dict_to_array(trace._straces[0][i]) for i in np.where(diverging1==False)[0]]).var(axis=0)\n",
    "\n",
    "    diverging2 = trace._straces[1]._get_sampler_stats(varname=\"diverging\", sampler_idx=0, burn=0, thin=1)\n",
    "    mean2 = np.asarray([model.dict_to_array(trace._straces[1][i]) for i in np.where(diverging2==False)[0]]).mean(axis=0)\n",
    "    std2 = np.asarray([model.dict_to_array(trace._straces[1][i]) for i in np.where(diverging2==False)[0]]).std(axis=0)\n",
    "    var2 = np.asarray([model.dict_to_array(trace._straces[1][i]) for i in np.where(diverging2==False)[0]]).var(axis=0)\n",
    "\n",
    "    diverging3 = trace._straces[2]._get_sampler_stats(varname=\"diverging\", sampler_idx=0, burn=0, thin=1)\n",
    "    mean3 = np.asarray([model.dict_to_array(trace._straces[2][i]) for i in np.where(diverging3==False)[0]]).mean(axis=0)\n",
    "    std3 = np.asarray([model.dict_to_array(trace._straces[2][i]) for i in np.where(diverging3==False)[0]]).std(axis=0)\n",
    "    var3 = np.asarray([model.dict_to_array(trace._straces[2][i]) for i in np.where(diverging3==False)[0]]).var(axis=0)\n",
    "\n",
    "    diverging4 = trace._straces[3]._get_sampler_stats(varname=\"diverging\", sampler_idx=0, burn=0, thin=1)\n",
    "    # mean4 = np.asarray([model.dict_to_array(trace._straces[3][i]) for i in np.where(diverging4==False)[0]]).mean(axis=0)\n",
    "    # std4 = np.asarray([model.dict_to_array(trace._straces[3][i]) for i in np.where(diverging4==False)[0]]).std(axis=0)\n",
    "    # var4 = np.asarray([model.dict_to_array(trace._straces[3][i]) for i in np.where(diverging4==False)[0]]).var(axis=0)\n",
    "    mean4 = np.zeros(45985)\n",
    "    std4 = np.ones(45985)\n",
    "    var4 = np.ones(45985)"
   ]
  },
  {
   "cell_type": "code",
   "execution_count": null,
   "metadata": {
    "collapsed": false
   },
   "outputs": [],
   "source": [
    "np.vstack((mean1, mean2, mean3, mean4)).mean(axis=0)"
   ]
  },
  {
   "cell_type": "code",
   "execution_count": null,
   "metadata": {
    "collapsed": false
   },
   "outputs": [],
   "source": [
    "plt.plot(trace.get_sampler_stats(\"step_size\")[np.where(trace.get_sampler_stats(\"diverging\")==False)[0].tolist()])"
   ]
  },
  {
   "cell_type": "code",
   "execution_count": null,
   "metadata": {
    "collapsed": false
   },
   "outputs": [],
   "source": [
    "trace.get_sampler_stats(\"step_size\")[np.where(trace.get_sampler_stats(\"diverging\")==False)[0].tolist()].mean()"
   ]
  },
  {
   "cell_type": "code",
   "execution_count": null,
   "metadata": {
    "collapsed": false
   },
   "outputs": [],
   "source": [
    "start1 = {var: val.mean(axis=0) for var, val in chain1.items()}\n",
    "start2 = {var: val.mean(axis=0) for var, val in chain2.items()}\n",
    "start3 = {var: val.mean(axis=0) for var, val in chain3.items()}\n",
    "start4 = {var: val.mean(axis=0) for var, val in chain4.items()}"
   ]
  },
  {
   "cell_type": "code",
   "execution_count": null,
   "metadata": {
    "collapsed": false
   },
   "outputs": [],
   "source": [
    "start = [start1, start2, start3, start4]"
   ]
  },
  {
   "cell_type": "code",
   "execution_count": null,
   "metadata": {
    "collapsed": false
   },
   "outputs": [],
   "source": [
    "start1"
   ]
  },
  {
   "cell_type": "code",
   "execution_count": null,
   "metadata": {
    "collapsed": false
   },
   "outputs": [],
   "source": [
    "for var, val in chain4.items():\n",
    "    print(var, val.mean(axis=0).shape)"
   ]
  },
  {
   "cell_type": "code",
   "execution_count": null,
   "metadata": {
    "collapsed": false
   },
   "outputs": [],
   "source": [
    "trace._straces[0].samples[\"model_a\"].shape"
   ]
  },
  {
   "cell_type": "code",
   "execution_count": null,
   "metadata": {
    "collapsed": false
   },
   "outputs": [],
   "source": [
    "trace.get_sampler_stats(\"diverging\").nonzero()[0].size"
   ]
  },
  {
   "cell_type": "code",
   "execution_count": null,
   "metadata": {
    "collapsed": false
   },
   "outputs": [],
   "source": [
    "plt.plot(trace.get_sampler_stats(\"step_size_bar\"))"
   ]
  },
  {
   "cell_type": "code",
   "execution_count": null,
   "metadata": {
    "collapsed": false
   },
   "outputs": [],
   "source": [
    "plt.plot(trace.get_sampler_stats(\"model_logp\"))"
   ]
  },
  {
   "cell_type": "code",
   "execution_count": null,
   "metadata": {
    "collapsed": false
   },
   "outputs": [],
   "source": [
    "trace.get_sampler_stats(\"mean_tree_accept\").mean()"
   ]
  },
  {
   "cell_type": "code",
   "execution_count": null,
   "metadata": {
    "collapsed": false
   },
   "outputs": [],
   "source": [
    "plt.hist(trace[\"model_a\"][800:, 0], bins=100);"
   ]
  },
  {
   "cell_type": "code",
   "execution_count": null,
   "metadata": {
    "collapsed": false
   },
   "outputs": [],
   "source": [
    "[trace._straces[i][-1] for i in trace.chains]"
   ]
  },
  {
   "cell_type": "code",
   "execution_count": null,
   "metadata": {
    "collapsed": false
   },
   "outputs": [],
   "source": [
    "trace._straces"
   ]
  },
  {
   "cell_type": "code",
   "execution_count": null,
   "metadata": {
    "collapsed": false
   },
   "outputs": [],
   "source": [
    "trace._straces[0][-1]"
   ]
  },
  {
   "cell_type": "code",
   "execution_count": null,
   "metadata": {
    "collapsed": false
   },
   "outputs": [],
   "source": [
    "model.dict_to_array(trace._straces[0][-25])"
   ]
  },
  {
   "cell_type": "code",
   "execution_count": null,
   "metadata": {
    "collapsed": false
   },
   "outputs": [],
   "source": [
    "model.array_to_dict(np.asarray([model.dict_to_array(trace._straces[0][i]) for i in range(len(trace[:-25]))]).mean(axis=0))"
   ]
  },
  {
   "cell_type": "code",
   "execution_count": null,
   "metadata": {
    "collapsed": false
   },
   "outputs": [],
   "source": [
    "trace[:-25][\"model_a\"]"
   ]
  },
  {
   "cell_type": "code",
   "execution_count": null,
   "metadata": {
    "collapsed": false
   },
   "outputs": [],
   "source": [
    "start = _init_jitter(model, 4, 10)"
   ]
  },
  {
   "cell_type": "code",
   "execution_count": null,
   "metadata": {
    "collapsed": false
   },
   "outputs": [],
   "source": [
    "start"
   ]
  },
  {
   "cell_type": "code",
   "execution_count": null,
   "metadata": {
    "collapsed": false
   },
   "outputs": [],
   "source": [
    "np.mean([model.dict_to_array(vals) for vals in start], axis=0).shape"
   ]
  },
  {
   "cell_type": "code",
   "execution_count": null,
   "metadata": {
    "collapsed": false
   },
   "outputs": [],
   "source": [
    "\n",
    "with model:\n",
    "    cov_est = pm.trace_cov(trace)"
   ]
  },
  {
   "cell_type": "code",
   "execution_count": null,
   "metadata": {
    "collapsed": false
   },
   "outputs": [],
   "source": [
    "[val for _, val in trace._straces.items()]"
   ]
  },
  {
   "cell_type": "code",
   "execution_count": null,
   "metadata": {
    "collapsed": false
   },
   "outputs": [],
   "source": [
    "sorted(trace._straces)"
   ]
  },
  {
   "cell_type": "code",
   "execution_count": null,
   "metadata": {
    "collapsed": false
   },
   "outputs": [],
   "source": [
    "cov_est.shape"
   ]
  },
  {
   "cell_type": "code",
   "execution_count": null,
   "metadata": {
    "collapsed": false
   },
   "outputs": [],
   "source": [
    "with model:\n",
    "    n = cov_est.shape[0]\n",
    "    mean = model.dict_to_array(trace[-25])\n",
    "    var = np.diag(cov_est)\n",
    "    potential = quadpotential.QuadPotentialDiagAdapt(n, mean, var, 1)"
   ]
  },
  {
   "cell_type": "code",
   "execution_count": null,
   "metadata": {
    "collapsed": false
   },
   "outputs": [],
   "source": [
    "np.asarray([model.dict_to_array(trace[i]) for i in range(len(trace[:-25]))]).mean(axis=0)"
   ]
  },
  {
   "cell_type": "code",
   "execution_count": null,
   "metadata": {
    "collapsed": false
   },
   "outputs": [],
   "source": [
    "np.asarray([model.dict_to_array(trace[i]) for i in range(len(trace[:]))]).mean(axis=0)"
   ]
  },
  {
   "cell_type": "code",
   "execution_count": null,
   "metadata": {
    "collapsed": false
   },
   "outputs": [],
   "source": [
    "step_scale = trace[:-25].get_sampler_stats(\"step_size_bar\").mean() * (n ** (1/4))"
   ]
  },
  {
   "cell_type": "code",
   "execution_count": null,
   "metadata": {
    "collapsed": false
   },
   "outputs": [],
   "source": [
    "step_scale * ((1/n) ** (1/4))"
   ]
  },
  {
   "cell_type": "code",
   "execution_count": null,
   "metadata": {
    "collapsed": false
   },
   "outputs": [],
   "source": [
    "potential"
   ]
  },
  {
   "cell_type": "code",
   "execution_count": null,
   "metadata": {
    "collapsed": false
   },
   "outputs": [],
   "source": [
    "[val for var, val in trace[-25].items()]"
   ]
  },
  {
   "cell_type": "code",
   "execution_count": null,
   "metadata": {
    "collapsed": false
   },
   "outputs": [],
   "source": [
    "[var for var, val in trace[-25].items()]"
   ]
  },
  {
   "cell_type": "code",
   "execution_count": null,
   "metadata": {
    "collapsed": false
   },
   "outputs": [],
   "source": [
    "trace.get_sampler_stats(\"diverging\").nonzero()"
   ]
  },
  {
   "cell_type": "code",
   "execution_count": null,
   "metadata": {
    "collapsed": false
   },
   "outputs": [],
   "source": [
    "np.diag(cov_est)"
   ]
  }
 ],
 "metadata": {
  "kernelspec": {
   "display_name": "Python 3",
   "language": "python",
   "name": "python3"
  },
  "language_info": {
   "codemirror_mode": {
    "name": "ipython",
    "version": 2
   },
   "file_extension": ".py",
   "mimetype": "text/x-python",
   "name": "python",
   "nbconvert_exporter": "python",
   "pygments_lexer": "ipython2",
   "version": "2.7.6"
  }
 },
 "nbformat": 4,
 "nbformat_minor": 0
}
