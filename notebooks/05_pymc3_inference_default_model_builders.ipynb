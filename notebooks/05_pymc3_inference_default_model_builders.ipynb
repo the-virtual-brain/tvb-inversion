{
 "cells": [
  {
   "cell_type": "code",
   "execution_count": 1,
   "id": "e558bd8a",
   "metadata": {},
   "outputs": [
    {
     "name": "stderr",
     "output_type": "stream",
     "text": [
      "\n",
      "Bad key \"text.kerning_factor\" on line 4 in\n",
      "/Users/dionperd/opt/anaconda3/lib/python3.7/site-packages/matplotlib/mpl-data/stylelib/_classic_test_patch.mplstyle.\n",
      "You probably need to get an updated matplotlibrc file from\n",
      "https://github.com/matplotlib/matplotlib/blob/v3.1.3/matplotlibrc.template\n",
      "or from the matplotlib source distribution\n"
     ]
    }
   ],
   "source": [
    "import pymc3 as pm\n",
    "import numpy as np\n",
    "import theano\n",
    "import theano.tensor as tt\n",
    "import arviz as az\n",
    "import matplotlib.pyplot as plt\n",
    "\n",
    "from tvb.simulator.lab import *\n",
    "from tvb_inversion.pymc3.prior import Pymc3Prior\n",
    "from tvb_inversion.pymc3.stats_model import Pymc3Model\n",
    "from tvb_inversion.pymc3.inference import EstimatorPYMC\n",
    "from tvb_inversion.pymc3.stats_model_builder import DefaultStochasticPymc3ModelBuilder\n",
    "\n",
    "%load_ext autoreload\n",
    "%autoreload 2\n",
    "%matplotlib inline"
   ]
  },
  {
   "cell_type": "code",
   "execution_count": 2,
   "id": "83ec60d4",
   "metadata": {},
   "outputs": [],
   "source": [
    "#conn = connectivity.Connectivity.from_file()\n",
    "conn = connectivity.Connectivity()\n",
    "conn.weights = np.array([[0., 2.], [2., 0.]])\n",
    "conn.region_labels = np.array([\"R1\", \"R2\"])\n",
    "conn.centres = np.array([[0.1, 0.1, 0.1], [0.2, 0.1, 0.1]])\n",
    "conn.tract_lengths = np.array([[0., 2.5], [2.5, 0.]])\n",
    "conn.configure()\n",
    "\n",
    "sim = simulator.Simulator(\n",
    "    model=models.oscillator.Generic2dOscillator(a=np.array([1.5])),\n",
    "    connectivity=conn,\n",
    "    coupling=coupling.Difference(),\n",
    "    integrator=integrators.HeunStochastic(\n",
    "        dt=1.0,\n",
    "        noise=noise.Additive(\n",
    "            nsig=np.array([1e-4]),\n",
    "            noise_seed=42\n",
    "        )\n",
    "    ),\n",
    "    monitors=[monitors.Raw()],\n",
    "    simulation_length = 250\n",
    ")"
   ]
  },
  {
   "cell_type": "code",
   "execution_count": 3,
   "id": "partial-courtesy",
   "metadata": {},
   "outputs": [
    {
     "data": {
      "text/html": [
       "<table>\n",
       "<h3>Simulator</h3>\n",
       "<thead><tr><th></th><th style=\"text-align:left;width:40%\">value</th></tr></thead>\n",
       "<tbody>\n",
       "<tr><td>Type</td><td style=\"text-align:left;\"><pre>Simulator</pre></td>\n",
       "<tr><td>conduction_speed</td><td style=\"text-align:left;\"><pre>3.0</pre></td>\n",
       "<tr><td>connectivity</td><td style=\"text-align:left;\"><pre>Connectivity gid: 87108cea-9e32-4c93-ae68-7a39d804fc1d</pre></td>\n",
       "<tr><td>coupling</td><td style=\"text-align:left;\"><pre>Difference gid: 3c476263-afc3-4122-99bb-cc05f9be7680</pre></td>\n",
       "<tr><td>gid</td><td style=\"text-align:left;\"><pre>UUID('fc7365e2-58d3-4d4b-8d6e-35398ee5a49b')</pre></td>\n",
       "<tr><td>initial_conditions</td><td style=\"text-align:left;\"><pre>None</pre></td>\n",
       "<tr><td>integrator</td><td style=\"text-align:left;\"><pre>HeunStochastic gid: ef09b6e5-9686-497a-b759-112c5fb38f2f</pre></td>\n",
       "<tr><td>model</td><td style=\"text-align:left;\"><pre>Generic2dOscillator gid: 863b7569-8023-45b5-9447-db1a71f2f49d</pre></td>\n",
       "<tr><td>monitors</td><td style=\"text-align:left;\"><pre>[<tvb.simulator.monitors.Raw object at 0x7fd460f1bfd0>]</pre></td>\n",
       "<tr><td>simulation_length</td><td style=\"text-align:left;\"><pre>250.0</pre></td>\n",
       "<tr><td>stimulus</td><td style=\"text-align:left;\"><pre>None</pre></td>\n",
       "<tr><td>surface</td><td style=\"text-align:left;\"><pre>None</pre></td>\n",
       "<tr><td>title</td><td style=\"text-align:left;\"><pre>Simulator gid: fc7365e2-58d3-4d4b-8d6e-35398ee5a49b</pre></td>\n",
       "</tbody></table>"
      ],
      "text/plain": [
       "<tvb.simulator.simulator.Simulator at 0x7fd4813410d0>"
      ]
     },
     "execution_count": 3,
     "metadata": {},
     "output_type": "execute_result"
    }
   ],
   "source": [
    "sim.configure()"
   ]
  },
  {
   "cell_type": "code",
   "execution_count": 4,
   "id": "fancy-profile",
   "metadata": {},
   "outputs": [],
   "source": [
    "sim.initial_conditions = np.zeros((conn.horizon, sim.model.nvar, conn.number_of_regions, 1))"
   ]
  },
  {
   "cell_type": "code",
   "execution_count": 5,
   "id": "north-princess",
   "metadata": {},
   "outputs": [
    {
     "data": {
      "text/html": [
       "<table>\n",
       "<h3>Simulator</h3>\n",
       "<thead><tr><th></th><th style=\"text-align:left;width:40%\">value</th></tr></thead>\n",
       "<tbody>\n",
       "<tr><td>Type</td><td style=\"text-align:left;\"><pre>Simulator</pre></td>\n",
       "<tr><td>conduction_speed</td><td style=\"text-align:left;\"><pre>3.0</pre></td>\n",
       "<tr><td>connectivity</td><td style=\"text-align:left;\"><pre>Connectivity gid: 87108cea-9e32-4c93-ae68-7a39d804fc1d</pre></td>\n",
       "<tr><td>coupling</td><td style=\"text-align:left;\"><pre>Difference gid: 3c476263-afc3-4122-99bb-cc05f9be7680</pre></td>\n",
       "<tr><td>gid</td><td style=\"text-align:left;\"><pre>UUID('fc7365e2-58d3-4d4b-8d6e-35398ee5a49b')</pre></td>\n",
       "<tr><td>initial_conditions [min, median, max]</td><td style=\"text-align:left;\"><pre>[0, 0, 0]</pre></td>\n",
       "<tr><td>initial_conditions dtype</td><td style=\"text-align:left;\"><pre>float64</pre></td>\n",
       "<tr><td>initial_conditions shape</td><td style=\"text-align:left;\"><pre>(2, 2, 2, 1)</pre></td>\n",
       "<tr><td>integrator</td><td style=\"text-align:left;\"><pre>HeunStochastic gid: ef09b6e5-9686-497a-b759-112c5fb38f2f</pre></td>\n",
       "<tr><td>model</td><td style=\"text-align:left;\"><pre>Generic2dOscillator gid: 863b7569-8023-45b5-9447-db1a71f2f49d</pre></td>\n",
       "<tr><td>monitors</td><td style=\"text-align:left;\"><pre>[<tvb.simulator.monitors.Raw object at 0x7fd460f1bfd0>]</pre></td>\n",
       "<tr><td>simulation_length</td><td style=\"text-align:left;\"><pre>250.0</pre></td>\n",
       "<tr><td>stimulus</td><td style=\"text-align:left;\"><pre>None</pre></td>\n",
       "<tr><td>surface</td><td style=\"text-align:left;\"><pre>None</pre></td>\n",
       "<tr><td>title</td><td style=\"text-align:left;\"><pre>Simulator gid: fc7365e2-58d3-4d4b-8d6e-35398ee5a49b</pre></td>\n",
       "</tbody></table>"
      ],
      "text/plain": [
       "<tvb.simulator.simulator.Simulator at 0x7fd4813410d0>"
      ]
     },
     "execution_count": 5,
     "metadata": {},
     "output_type": "execute_result"
    }
   ],
   "source": [
    "sim.configure()"
   ]
  },
  {
   "cell_type": "code",
   "execution_count": 6,
   "id": "05ff3ef1",
   "metadata": {},
   "outputs": [],
   "source": [
    "(t, X), = sim.run()"
   ]
  },
  {
   "cell_type": "code",
   "execution_count": 7,
   "id": "fa9f5bd2",
   "metadata": {},
   "outputs": [
    {
     "data": {
      "text/plain": [
       "(250, 2, 2, 1)"
      ]
     },
     "execution_count": 7,
     "metadata": {},
     "output_type": "execute_result"
    }
   ],
   "source": [
    "X.shape"
   ]
  },
  {
   "cell_type": "code",
   "execution_count": 8,
   "id": "0c2c5a07",
   "metadata": {},
   "outputs": [
    {
     "data": {
      "image/png": "[encoded data removed]",
      "text/plain": [
       "<Figure size 432x288 with 1 Axes>"
      ]
     },
     "metadata": {
      "needs_background": "light"
     },
     "output_type": "display_data"
    }
   ],
   "source": [
    "plt.plot(X[:, 0, :, 0]);"
   ]
  },
  {
   "cell_type": "code",
   "execution_count": 9,
   "id": "be1bca17",
   "metadata": {},
   "outputs": [],
   "source": [
    "def_std = 0.1\n",
    "\n",
    "model = pm.Model()\n",
    "with model:\n",
    "    a_model_star = pm.Normal(name=\"a_model_star\", mu=0.0, sd=1.0, shape=sim.model.a.shape)\n",
    "    a_model = pm.Deterministic(name=\"a_model\", var=sim.model.a + def_std * a_model_star)\n",
    "    \n",
    "    a_coupling_star = pm.Normal(name=\"a_coupling_star\", mu=0.0, sd=1.0)\n",
    "    a_coupling = pm.Deterministic(name=\"a_coupling\", \n",
    "                                  var=sim.coupling.a[0].item() + def_std * a_coupling_star)\n",
    "    "
   ]
  },
  {
   "cell_type": "code",
   "execution_count": 10,
   "id": "sealed-australian",
   "metadata": {},
   "outputs": [],
   "source": [
    "prior = Pymc3Prior(\n",
    "    model=model,\n",
    "    names=[\"model.a\", \"coupling.a\"], \n",
    "    dist=[a_model, a_coupling]\n",
    ")"
   ]
  },
  {
   "cell_type": "code",
   "execution_count": 12,
   "id": "30c6c6d9",
   "metadata": {},
   "outputs": [],
   "source": [
    "model_builder = DefaultStochasticPymc3ModelBuilder(sim=sim, params=prior, observation=X[:, :, :, 0])\n"
   ]
  },
  {
   "cell_type": "code",
   "execution_count": 13,
   "id": "368f82ec",
   "metadata": {},
   "outputs": [
    {
     "data": {
      "text/plain": [
       "['model.a', 'coupling.a', 'x_init', 'integrator.noise.nsig', 'dWt_star', 'observation.model.amplitude', 'observation.model.offset', 'observation.noise'], [a_model ~ Deterministic, a_coupling ~ Deterministic, x_init ~ Deterministic, nsig ~ Deterministic, dWt_star ~ Normal, observation_model_amplitude ~ Deterministic, observation_model_offset ~ Deterministic, observation_noise ~ Deterministic]"
      ]
     },
     "execution_count": 13,
     "metadata": {},
     "output_type": "execute_result"
    }
   ],
   "source": [
    "model_builder.set_default_prior(def_std=def_std)"
   ]
  },
  {
   "cell_type": "code",
   "execution_count": 14,
   "id": "8da96457",
   "metadata": {},
   "outputs": [],
   "source": [
    "model_builder.compose_model()"
   ]
  },
  {
   "cell_type": "code",
   "execution_count": 16,
   "id": "ff985dae",
   "metadata": {},
   "outputs": [],
   "source": [
    "pymc_model = model_builder.build()"
   ]
  },
  {
   "cell_type": "code",
   "execution_count": 17,
   "id": "lightweight-juvenile",
   "metadata": {},
   "outputs": [
    {
     "data": {
      "text/latex": [
       "$$\n",
       "                \\begin{array}{rcl}\n",
       "                \\text{a_model_star} &\\sim & \\text{Normal}\\\\\\text{a_coupling_star} &\\sim & \\text{Normal}\\\\\\text{x_init_star} &\\sim & \\text{Normal}\\\\\\text{amplitude_star} &\\sim & \\text{Normal}\\\\\\text{offset_star} &\\sim & \\text{Normal}\\\\\\text{observation_noise_star_log__} &\\sim & \\text{TransformedDistribution}\\\\\\text{nsig_star_log__} &\\sim & \\text{TransformedDistribution}\\\\\\text{dWt_star} &\\sim & \\text{Normal}\\\\\\text{a_model} &\\sim & \\text{Deterministic}\\\\\\text{a_coupling} &\\sim & \\text{Deterministic}\\\\\\text{x_init} &\\sim & \\text{Deterministic}\\\\\\text{observation_model_amplitude} &\\sim & \\text{Deterministic}\\\\\\text{observation_model_offset} &\\sim & \\text{Deterministic}\\\\\\text{observation_noise_star} &\\sim & \\text{HalfNormal}\\\\\\text{observation_noise} &\\sim & \\text{Deterministic}\\\\\\text{nsig_star} &\\sim & \\text{HalfNormal}\\\\\\text{nsig} &\\sim & \\text{Deterministic}\\\\\\text{dWt} &\\sim & \\text{Deterministic}\\\\\\text{x_hat} &\\sim & \\text{Deterministic}\\\\\\text{x_obs} &\\sim & \\text{Normal}\n",
       "                \\end{array}\n",
       "                $$"
      ],
      "text/plain": [
       "<pymc3.model.Model at 0x7fd468566910>"
      ]
     },
     "execution_count": 17,
     "metadata": {},
     "output_type": "execute_result"
    }
   ],
   "source": [
    "pymc_model.model"
   ]
  },
  {
   "cell_type": "code",
   "execution_count": 18,
   "id": "708132a5",
   "metadata": {},
   "outputs": [],
   "source": [
    "pymc_estimator = EstimatorPYMC(stats_model=pymc_model)"
   ]
  },
  {
   "cell_type": "code",
   "execution_count": 19,
   "id": "417118e3",
   "metadata": {},
   "outputs": [],
   "source": [
    "draws = 500\n",
    "tune = 500\n",
    "cores = 2"
   ]
  },
  {
   "cell_type": "code",
   "execution_count": null,
   "id": "90a3e279",
   "metadata": {},
   "outputs": [
    {
     "name": "stderr",
     "output_type": "stream",
     "text": [
      "/Users/dionperd/Software/TVB/tvb-inversion/tvb_inversion/pymc3/inference.py:32: FutureWarning: In v4.0, pm.sample will return an `arviz.InferenceData` object instead of a `MultiTrace` by default. You can pass return_inferencedata=True or return_inferencedata=False to be safe and silence this warning.\n",
      "  trace = pm.sample(draws=draws, tune=tune, cores=cores, target_accept=target_accept)\n",
      "Auto-assigning NUTS sampler...\n"
     ]
    },
    {
     "name": "stdout",
     "output_type": "stream",
     "text": [
      "06-12-2022 05:11:54 - INFO - pymc3 - Auto-assigning NUTS sampler...\n"
     ]
    },
    {
     "name": "stderr",
     "output_type": "stream",
     "text": [
      "Initializing NUTS using jitter+adapt_diag...\n"
     ]
    },
    {
     "name": "stdout",
     "output_type": "stream",
     "text": [
      "06-12-2022 05:11:54 - INFO - pymc3 - Initializing NUTS using jitter+adapt_diag...\n"
     ]
    }
   ],
   "source": [
    "inference_data = pymc_estimator.run_inference(draws, tune, cores, target_accept=0.9)"
   ]
  },
  {
   "cell_type": "code",
   "execution_count": null,
   "id": "9e52c04f",
   "metadata": {},
   "outputs": [],
   "source": [
    "init_params = {\n",
    "    #\"a_model\": sim.model.a[0],\n",
    "    \"a_coupling\": sim.coupling.a[0],\n",
    "    \"noise_gfun\": sim.integrator.noise.gfun(None)[0],\n",
    "    \"global_noise\": 0.0\n",
    "}"
   ]
  },
  {
   "cell_type": "code",
   "execution_count": null,
   "id": "5af74d07",
   "metadata": {},
   "outputs": [],
   "source": [
    "pymc_estimator.plot_posterior_samples(init_params)"
   ]
  },
  {
   "cell_type": "code",
   "execution_count": null,
   "id": "d78afe98",
   "metadata": {},
   "outputs": [],
   "source": [
    "posterior_x_obs = inference_data.posterior_predictive.x_obs.values.reshape((cores*draws, *X.shape[:-1]))"
   ]
  },
  {
   "cell_type": "code",
   "execution_count": null,
   "id": "0e4d105a",
   "metadata": {},
   "outputs": [],
   "source": [
    "f3, axes3 = plt.subplots(nrows=2, ncols=1, figsize=(18,15))\n",
    "axes3[0].plot(np.percentile(posterior_x_obs[:, :, 0, 0], [2.5, 97.5], axis=0).T, \n",
    "              \"k\", label=r\"$V_{95\\% PP}(t)$\")\n",
    "axes3[0].plot(X[:, 0, 0, 0], label=\"V_observed\")\n",
    "axes3[0].legend(fontsize=16)\n",
    "axes3[0].set_xlabel(\"time (ms)\", fontsize=16)\n",
    "axes3[0].tick_params(axis=\"both\", labelsize=16)\n",
    "\n",
    "axes3[1].plot(np.percentile(posterior_x_obs[:, :, 0, 1], [2.5, 97.5], axis=0).T, \n",
    "         \"k\", label=r\"$W_{95\\% PP}(t)$\")\n",
    "axes3[1].plot(X[:, 0, 1, 0], label=\"W_observed\")\n",
    "axes3[1].legend(fontsize=16)\n",
    "axes3[1].set_xlabel(\"time (ms)\", fontsize=16)\n",
    "axes3[1].tick_params(axis=\"both\", labelsize=16)\n",
    "\n",
    "plt.show()"
   ]
  },
  {
   "cell_type": "code",
   "execution_count": null,
   "id": "8b7f8055",
   "metadata": {},
   "outputs": [],
   "source": [
    "pymc_estimator.inference_summary.loc[[\"a_model\", \"a_coupling\", \"global_noise\", \"noise_gfun\"]]"
   ]
  },
  {
   "cell_type": "code",
   "execution_count": null,
   "id": "9d08b0ed",
   "metadata": {},
   "outputs": [],
   "source": [
    "pymc_estimator.inference_data.to_netcdf(filename=\"pymc3_data/test1.nc\", compress=False)"
   ]
  },
  {
   "cell_type": "code",
   "execution_count": null,
   "id": "c7eedf22",
   "metadata": {},
   "outputs": [],
   "source": []
  }
 ],
 "metadata": {
  "kernelspec": {
   "display_name": "Python 3",
   "language": "python",
   "name": "python3"
  },
  "language_info": {
   "codemirror_mode": {
    "name": "ipython",
    "version": 3
   },
   "file_extension": ".py",
   "mimetype": "text/x-python",
   "name": "python",
   "nbconvert_exporter": "python",
   "pygments_lexer": "ipython3",
   "version": "3.7.10"
  }
 },
 "nbformat": 4,
 "nbformat_minor": 5
}
