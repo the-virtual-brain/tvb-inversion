{
 "cells": [
  {
   "cell_type": "code",
   "execution_count": null,
   "id": "e558bd8a",
   "metadata": {},
   "outputs": [],
   "source": [
    "import pymc3 as pm\n",
    "import numpy as np\n",
    "import theano\n",
    "import theano.tensor as tt\n",
    "import arviz as az\n",
    "import matplotlib.pyplot as plt\n",
    "\n",
    "from tvb.simulator.lab import *\n",
    "from tvb_inversion.pymc3.prior import Pymc3Prior\n",
    "from tvb_inversion.pymc3.stats_model import Pymc3Model\n",
    "from tvb_inversion.pymc3.inference import EstimatorPYMC\n",
    "\n",
    "%load_ext autoreload\n",
    "%autoreload 2\n",
    "%matplotlib inline"
   ]
  },
  {
   "cell_type": "code",
   "execution_count": null,
   "id": "83ec60d4",
   "metadata": {},
   "outputs": [],
   "source": [
    "conn = connectivity.Connectivity.from_file()\n",
    "#conn = connectivity.Connectivity()\n",
    "#conn.weights = np.array([[0., 2.], [2., 0.]])\n",
    "#conn.region_labels = np.array([\"R1\", \"R2\"])\n",
    "#conn.centres = np.array([[0.1, 0.1, 0.1], [0.2, 0.1, 0.1]])\n",
    "#conn.tract_lengths = np.array([[0., 2.5], [2.5, 0.]])\n",
    "#conn.configure()\n",
    "\n",
    "sim = simulator.Simulator(\n",
    "    model=models.oscillator.Generic2dOscillator(),\n",
    "    connectivity=conn,\n",
    "    coupling=coupling.Difference(),\n",
    "    integrator=integrators.HeunStochastic(\n",
    "        dt=1.0,\n",
    "        noise=noise.Additive(\n",
    "            nsig=np.array([1e-4]),\n",
    "            noise_seed=42\n",
    "        )\n",
    "    ),\n",
    "    monitors=[monitors.Raw()],\n",
    "    simulation_length = 250\n",
    ")"
   ]
  },
  {
   "cell_type": "code",
   "execution_count": null,
   "id": "cd592f9d",
   "metadata": {},
   "outputs": [],
   "source": [
    "sim.configure()"
   ]
  },
  {
   "cell_type": "code",
   "execution_count": null,
   "id": "05ff3ef1",
   "metadata": {},
   "outputs": [],
   "source": [
    "(t, X), = sim.run()"
   ]
  },
  {
   "cell_type": "code",
   "execution_count": null,
   "id": "fa9f5bd2",
   "metadata": {},
   "outputs": [],
   "source": [
    "X.shape"
   ]
  },
  {
   "cell_type": "code",
   "execution_count": null,
   "id": "0c2c5a07",
   "metadata": {},
   "outputs": [],
   "source": [
    "plt.plot(X[:, 0, :, 0]);"
   ]
  },
  {
   "cell_type": "code",
   "execution_count": null,
   "id": "be1bca17",
   "metadata": {},
   "outputs": [],
   "source": [
    "model = pm.Model()\n",
    "with model:\n",
    "    a_model_star = pm.Normal(name=\"a_model_star\", mu=0.0, sd=1.0)\n",
    "    a_model = pm.Deterministic(name=\"a_model\", var=-2.0 + 1.0 * a_model_star)\n",
    "    \n",
    "    a_coupling_star = pm.Normal(name=\"a_coupling_star\", mu=0.0, sd=1.0)\n",
    "    a_coupling = pm.Deterministic(name=\"a_coupling\", var=0.1 + 0.05 * a_coupling_star)"
   ]
  },
  {
   "cell_type": "code",
   "execution_count": null,
   "id": "mighty-indonesia",
   "metadata": {},
   "outputs": [],
   "source": [
    "from tvb_inversion.pymc3.stats_model_builder import DefaultStochasticPymc3ModelBuilder\n",
    "model_builder = DefaultStochasticPymc3ModelBuilder(simulator, model=model, observation=X)\n",
    "prior = model_builder.set_default_prior(def_std=0.1)\n",
    "model_builder.configure()\n",
    "stats_model = model_builder.build()"
   ]
  },
  {
   "cell_type": "code",
   "execution_count": null,
   "id": "f0897975",
   "metadata": {},
   "outputs": [],
   "source": [
    "prior = Pymc3Prior(\n",
    "    names=[\"model.a\", \"coupling.a\", \"dynamic_noise\", \"global_noise\"], \n",
    "    dist=[a_model, a_coupling, dynamic_noise, global_noise]\n",
    ")"
   ]
  },
  {
   "cell_type": "code",
   "execution_count": null,
   "id": "8da96457",
   "metadata": {},
   "outputs": [],
   "source": [
    "pymc_model = Pymc3Model(sim=sim, params=prior, model=model)"
   ]
  },
  {
   "cell_type": "code",
   "execution_count": null,
   "id": "708132a5",
   "metadata": {},
   "outputs": [],
   "source": [
    "pymc_estimator = EstimatorPYMC(stats_model=pymc_model, observation=X)"
   ]
  },
  {
   "cell_type": "code",
   "execution_count": null,
   "id": "417118e3",
   "metadata": {},
   "outputs": [],
   "source": [
    "draws = 500\n",
    "tune = 500\n",
    "cores = 2"
   ]
  },
  {
   "cell_type": "code",
   "execution_count": null,
   "id": "90a3e279",
   "metadata": {},
   "outputs": [],
   "source": [
    "inference_data = pymc_estimator.run_inference(draws, tune, cores, target_accept=0.9)"
   ]
  },
  {
   "cell_type": "code",
   "execution_count": null,
   "id": "9e52c04f",
   "metadata": {},
   "outputs": [],
   "source": [
    "init_params = {\n",
    "    #\"a_model\": sim.model.a[0],\n",
    "    \"a_coupling\": sim.coupling.a[0],\n",
    "    \"noise_gfun\": sim.integrator.noise.gfun(None)[0],\n",
    "    \"global_noise\": 0.0\n",
    "}"
   ]
  },
  {
   "cell_type": "code",
   "execution_count": null,
   "id": "5af74d07",
   "metadata": {},
   "outputs": [],
   "source": [
    "pymc_estimator.plot_posterior_samples(init_params)"
   ]
  },
  {
   "cell_type": "code",
   "execution_count": null,
   "id": "d78afe98",
   "metadata": {},
   "outputs": [],
   "source": [
    "posterior_x_obs = inference_data.posterior_predictive.x_obs.values.reshape((cores*draws, *X.shape[:-1]))"
   ]
  },
  {
   "cell_type": "code",
   "execution_count": null,
   "id": "0e4d105a",
   "metadata": {},
   "outputs": [],
   "source": [
    "f3, axes3 = plt.subplots(nrows=2, ncols=1, figsize=(18,15))\n",
    "axes3[0].plot(np.percentile(posterior_x_obs[:, :, 0, 0], [2.5, 97.5], axis=0).T, \n",
    "              \"k\", label=r\"$V_{95\\% PP}(t)$\")\n",
    "axes3[0].plot(X[:, 0, 0, 0], label=\"V_observed\")\n",
    "axes3[0].legend(fontsize=16)\n",
    "axes3[0].set_xlabel(\"time (ms)\", fontsize=16)\n",
    "axes3[0].tick_params(axis=\"both\", labelsize=16)\n",
    "\n",
    "axes3[1].plot(np.percentile(posterior_x_obs[:, :, 0, 1], [2.5, 97.5], axis=0).T, \n",
    "         \"k\", label=r\"$W_{95\\% PP}(t)$\")\n",
    "axes3[1].plot(X[:, 0, 1, 0], label=\"W_observed\")\n",
    "axes3[1].legend(fontsize=16)\n",
    "axes3[1].set_xlabel(\"time (ms)\", fontsize=16)\n",
    "axes3[1].tick_params(axis=\"both\", labelsize=16)\n",
    "\n",
    "plt.show()"
   ]
  },
  {
   "cell_type": "code",
   "execution_count": null,
   "id": "8b7f8055",
   "metadata": {},
   "outputs": [],
   "source": [
    "pymc_estimator.inference_summary.loc[[\"a_model\", \"a_coupling\", \"global_noise\", \"noise_gfun\"]]"
   ]
  },
  {
   "cell_type": "code",
   "execution_count": null,
   "id": "9d08b0ed",
   "metadata": {},
   "outputs": [],
   "source": [
    "pymc_estimator.inference_data.to_netcdf(filename=\"pymc3_data/test1.nc\", compress=False)"
   ]
  },
  {
   "cell_type": "code",
   "execution_count": null,
   "id": "c7eedf22",
   "metadata": {},
   "outputs": [],
   "source": []
  }
 ],
 "metadata": {
  "kernelspec": {
   "display_name": "Python 3 (ipykernel)",
   "language": "python",
   "name": "python3"
  },
  "language_info": {
   "codemirror_mode": {
    "name": "ipython",
    "version": 3
   },
   "file_extension": ".py",
   "mimetype": "text/x-python",
   "name": "python",
   "nbconvert_exporter": "python",
   "pygments_lexer": "ipython3",
   "version": "3.9.13"
  }
 },
 "nbformat": 4,
 "nbformat_minor": 5
}
