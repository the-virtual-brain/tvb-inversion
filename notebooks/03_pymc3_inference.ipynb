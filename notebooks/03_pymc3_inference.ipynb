{
 "cells": [
  {
   "cell_type": "code",
   "execution_count": null,
   "id": "e558bd8a",
   "metadata": {},
   "outputs": [],
   "source": [
    "import pymc3 as pm\n",
    "import numpy as np\n",
    "import theano\n",
    "import theano.tensor as tt\n",
    "import arviz as az\n",
    "import matplotlib.pyplot as plt\n",
    "\n",
    "from tvb.simulator.lab import *\n",
    "from tvb_inversion.pymc3.prior import Pymc3Prior\n",
    "from tvb_inversion.pymc3.stats_model import Pymc3Model\n",
    "from tvb_inversion.pymc3.inference import EstimatorPYMC, plot_posterior_samples\n",
    "\n",
    "%load_ext autoreload\n",
    "%autoreload 2\n",
    "%matplotlib inline"
   ]
  },
  {
   "cell_type": "code",
   "execution_count": null,
   "id": "83ec60d4",
   "metadata": {},
   "outputs": [],
   "source": [
    "#conn = connectivity.Connectivity.from_file()\n",
    "conn = connectivity.Connectivity()\n",
    "conn.weights = np.array([[0., 2.], [2., 0.]])\n",
    "conn.region_labels = np.array([\"R1\", \"R2\"])\n",
    "conn.centres = np.array([[0.1, 0.1, 0.1], [0.2, 0.1, 0.1]])\n",
    "conn.tract_lengths = np.array([[0., 2.5], [2.5, 0.]])\n",
    "conn.configure()\n",
    "\n",
    "sim = simulator.Simulator(\n",
    "    model=models.oscillator.Generic2dOscillator(),\n",
    "    connectivity=conn,\n",
    "    coupling=coupling.Difference(),\n",
    "    integrator=integrators.HeunStochastic(\n",
    "        dt=1.0,\n",
    "        noise=noise.Additive(\n",
    "            nsig=np.array([0.003]),\n",
    "            noise_seed=42\n",
    "        )\n",
    "    ),\n",
    "    monitors=[monitors.Raw()],\n",
    "    simulation_length=250\n",
    ")"
   ]
  },
  {
   "cell_type": "code",
   "execution_count": null,
   "id": "c0727a8d",
   "metadata": {},
   "outputs": [],
   "source": [
    "sim.configure()"
   ]
  },
  {
   "cell_type": "code",
   "execution_count": null,
   "id": "64fd06e0",
   "metadata": {},
   "outputs": [],
   "source": [
    "(t, X), = sim.run()"
   ]
  },
  {
   "cell_type": "code",
   "execution_count": null,
   "id": "b933a51e",
   "metadata": {},
   "outputs": [],
   "source": [
    "X.shape"
   ]
  },
  {
   "cell_type": "code",
   "execution_count": null,
   "id": "12a7b738",
   "metadata": {},
   "outputs": [],
   "source": [
    "f1 = plt.figure(figsize=(18, 10))\n",
    "plt.plot(X[:, 0, :, 0]);"
   ]
  },
  {
   "cell_type": "code",
   "execution_count": null,
   "id": "d6ac551c",
   "metadata": {},
   "outputs": [],
   "source": [
    "model = pm.Model()\n",
    "with model:\n",
    "    #a_model_star = pm.Normal(name=\"a_model_star\", mu=0.0, sd=1.0)\n",
    "    #a_model = pm.Deterministic(name=\"a_model\", var=-2.0 + 1.0 * a_model_star)\n",
    "    \n",
    "    a_coupling_star = pm.Normal(name=\"a_coupling_star\", mu=0.0, sd=1.0)\n",
    "    a_coupling = pm.Deterministic(name=\"a_coupling\", var=0.1 + 0.05 * a_coupling_star)\n",
    "    \n",
    "    BoundedNormal = pm.Bound(pm.Normal, lower=0.0)\n",
    "    nsig_star = BoundedNormal(name=\"nsig_star\", mu=0.0, sd=1.0)\n",
    "    nsig = pm.Deterministic(name=\"nsig\", var=0.003 + 0.001 * nsig_star)\n",
    "    \n",
    "    #noise_gfun_star = BoundedNormal(name=\"noise_gfun_star\", mu=0.0, sd=1.0)\n",
    "    #noise_gfun = pm.Deterministic(name=\"noise_gfun\", var=0.07 + 0.1 * noise_gfun_star)\n",
    "    #noise_gfun = sim.integrator.noise.gfun(None)[0]\n",
    "    \n",
    "    #noise_star = pm.Normal(name=\"noise_star\", mu=0.0, sd=1.0, shape=X.shape[:-1])\n",
    "    #dynamic_noise = pm.Deterministic(name=\"dynamic_noise\", var=noise_gfun * noise_star)\n",
    "    \n",
    "    #observation_noise = pm.HalfNormal(name=\"observation_noise\", sigma=0.05)"
   ]
  },
  {
   "cell_type": "code",
   "execution_count": null,
   "id": "6e2ea608",
   "metadata": {},
   "outputs": [],
   "source": [
    "#prior = Pymc3Prior(\n",
    "#    names=[\"coupling.a\", \"dynamic_noise\", \"observation_noise\"], \n",
    "#    dist=[a_coupling, dynamic_noise, observation_noise]\n",
    "#)\n",
    "\n",
    "prior = Pymc3Prior(\n",
    "    names=[\"coupling.a\", \"integrator.noise.nsig\"], \n",
    "    dist=[a_coupling, nsig]\n",
    ")"
   ]
  },
  {
   "cell_type": "code",
   "execution_count": null,
   "id": "0fb576e6",
   "metadata": {},
   "outputs": [],
   "source": [
    "pymc_model = Pymc3Model(sim=sim, params=prior, model=model)"
   ]
  },
  {
   "cell_type": "code",
   "execution_count": null,
   "id": "0d4e0969",
   "metadata": {},
   "outputs": [],
   "source": [
    "pymc_estimator = EstimatorPYMC(stats_model=pymc_model, observation=X)"
   ]
  },
  {
   "cell_type": "code",
   "execution_count": null,
   "id": "6cbd1c83",
   "metadata": {},
   "outputs": [],
   "source": [
    "draws = 250\n",
    "tune = 250\n",
    "cores = 2"
   ]
  },
  {
   "cell_type": "code",
   "execution_count": null,
   "id": "e47f8fbc",
   "metadata": {},
   "outputs": [],
   "source": [
    "inference_data = pymc_estimator.run_inference(draws, tune, cores, target_accept=0.9)"
   ]
  },
  {
   "cell_type": "code",
   "execution_count": null,
   "id": "b04d4275",
   "metadata": {},
   "outputs": [],
   "source": [
    "init_params = {\n",
    "    #\"a_model\": sim.model.a[0],\n",
    "    \"a_coupling\": sim.coupling.a[0],\n",
    "    \"nsig\": sim.integrator.noise.nsig[0],\n",
    "    \"observation_noise\": 0.0\n",
    "}"
   ]
  },
  {
   "cell_type": "code",
   "execution_count": null,
   "id": "f05aa793",
   "metadata": {},
   "outputs": [],
   "source": [
    "plot_posterior_samples(inference_data, init_params)"
   ]
  },
  {
   "cell_type": "code",
   "execution_count": null,
   "id": "d59af23d",
   "metadata": {},
   "outputs": [],
   "source": [
    "posterior_x_obs = inference_data.posterior_predictive.x_obs.values.reshape((cores*draws, *X.shape[:-1]))"
   ]
  },
  {
   "cell_type": "code",
   "execution_count": null,
   "id": "272fa374",
   "metadata": {},
   "outputs": [],
   "source": [
    "f2, axes2 = plt.subplots(nrows=2, ncols=1, figsize=(18,15))\n",
    "axes2[0].plot(np.percentile(posterior_x_obs[:, :, 0, 0], [2.5, 97.5], axis=0).T, \n",
    "              \"k\", label=r\"$V_{95\\% PP}(t)$\")\n",
    "axes2[0].plot(X[:, 0, 0, 0], label=\"V_observed\")\n",
    "axes2[0].legend(fontsize=16)\n",
    "axes2[0].set_xlabel(\"time (ms)\", fontsize=16)\n",
    "axes2[0].tick_params(axis=\"both\", labelsize=16)\n",
    "\n",
    "axes2[1].plot(np.percentile(posterior_x_obs[:, :, 0, 1], [2.5, 97.5], axis=0).T, \n",
    "         \"k\", label=r\"$W_{95\\% PP}(t)$\")\n",
    "axes2[1].plot(X[:, 0, 1, 0], label=\"W_observed\")\n",
    "axes2[1].legend(fontsize=16)\n",
    "axes2[1].set_xlabel(\"time (ms)\", fontsize=16)\n",
    "axes2[1].tick_params(axis=\"both\", labelsize=16)\n",
    "\n",
    "plt.show()"
   ]
  },
  {
   "cell_type": "code",
   "execution_count": null,
   "id": "4beede64",
   "metadata": {},
   "outputs": [],
   "source": [
    "pymc_estimator.inference_summary.loc[[\"a_coupling\", \"nsig\", \"observation_noise\"]]"
   ]
  },
  {
   "cell_type": "code",
   "execution_count": null,
   "id": "68232015",
   "metadata": {},
   "outputs": [],
   "source": [
    "divergent = inference_data.sample_stats.diverging.values\n",
    "print(\"Number of Divergent %d\" % divergent.nonzero()[0].size)\n",
    "divperc = divergent.nonzero()[0].size / (\n",
    "    len(inference_data.sample_stats.chain) * len(inference_data.sample_stats.draw)) * 100\n",
    "print(\"Percentage of Divergent %.1f\" % divperc)\n",
    "print(\"Mean tree accept %.1f\" % inference_data.sample_stats.acceptance_rate.mean())"
   ]
  },
  {
   "cell_type": "code",
   "execution_count": null,
   "id": "a3524458",
   "metadata": {},
   "outputs": [],
   "source": [
    "print(\"Sampling time in minutes:\", inference_data.sample_stats.sampling_time // 60)"
   ]
  },
  {
   "cell_type": "code",
   "execution_count": null,
   "id": "0d4e2895",
   "metadata": {},
   "outputs": [],
   "source": [
    "pymc_estimator.inference_data.to_netcdf(filename=\"pymc3_data/20221206_couplinga_nsig.nc\", compress=False)"
   ]
  },
  {
   "cell_type": "code",
   "execution_count": null,
   "id": "159092f1",
   "metadata": {},
   "outputs": [],
   "source": []
  }
 ],
 "metadata": {
  "kernelspec": {
   "display_name": "Python 3 (ipykernel)",
   "language": "python",
   "name": "python3"
  },
  "language_info": {
   "codemirror_mode": {
    "name": "ipython",
    "version": 3
   },
   "file_extension": ".py",
   "mimetype": "text/x-python",
   "name": "python",
   "nbconvert_exporter": "python",
   "pygments_lexer": "ipython3",
   "version": "3.9.13"
  }
 },
 "nbformat": 4,
 "nbformat_minor": 5
}
