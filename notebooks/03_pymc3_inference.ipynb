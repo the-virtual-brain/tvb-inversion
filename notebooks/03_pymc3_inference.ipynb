{
 "cells": [
  {
   "cell_type": "code",
   "execution_count": 1,
   "id": "e558bd8a",
   "metadata": {},
   "outputs": [
    {
     "name": "stderr",
     "output_type": "stream",
     "text": [
      "\n",
      "Bad key \"text.kerning_factor\" on line 4 in\n",
      "/Users/dionperd/opt/anaconda3/lib/python3.7/site-packages/matplotlib/mpl-data/stylelib/_classic_test_patch.mplstyle.\n",
      "You probably need to get an updated matplotlibrc file from\n",
      "https://github.com/matplotlib/matplotlib/blob/v3.1.3/matplotlibrc.template\n",
      "or from the matplotlib source distribution\n"
     ]
    },
    {
     "ename": "KeyError",
     "evalue": "'formatters'",
     "output_type": "error",
     "traceback": [
      "\u001b[0;31m---------------------------------------------------------------------------\u001b[0m",
      "\u001b[0;31mKeyError\u001b[0m                                  Traceback (most recent call last)",
      "\u001b[0;32m<ipython-input-1-c749b2a3e79f>\u001b[0m in \u001b[0;36m<module>\u001b[0;34m\u001b[0m\n\u001b[1;32m      9\u001b[0m \u001b[0;32mfrom\u001b[0m \u001b[0mtvb_inversion\u001b[0m\u001b[0;34m.\u001b[0m\u001b[0mpymc3\u001b[0m\u001b[0;34m.\u001b[0m\u001b[0mprior\u001b[0m \u001b[0;32mimport\u001b[0m \u001b[0mPymc3Prior\u001b[0m\u001b[0;34m\u001b[0m\u001b[0;34m\u001b[0m\u001b[0m\n\u001b[1;32m     10\u001b[0m \u001b[0;32mfrom\u001b[0m \u001b[0mtvb_inversion\u001b[0m\u001b[0;34m.\u001b[0m\u001b[0mpymc3\u001b[0m\u001b[0;34m.\u001b[0m\u001b[0mstats_model\u001b[0m \u001b[0;32mimport\u001b[0m \u001b[0mPymc3Model\u001b[0m\u001b[0;34m\u001b[0m\u001b[0;34m\u001b[0m\u001b[0m\n\u001b[0;32m---> 11\u001b[0;31m \u001b[0;32mfrom\u001b[0m \u001b[0mtvb_inversion\u001b[0m\u001b[0;34m.\u001b[0m\u001b[0mpymc3\u001b[0m\u001b[0;34m.\u001b[0m\u001b[0minference\u001b[0m \u001b[0;32mimport\u001b[0m \u001b[0mEstimatorPYMC\u001b[0m\u001b[0;34m\u001b[0m\u001b[0;34m\u001b[0m\u001b[0m\n\u001b[0m\u001b[1;32m     12\u001b[0m \u001b[0;34m\u001b[0m\u001b[0m\n\u001b[1;32m     13\u001b[0m \u001b[0mget_ipython\u001b[0m\u001b[0;34m(\u001b[0m\u001b[0;34m)\u001b[0m\u001b[0;34m.\u001b[0m\u001b[0mrun_line_magic\u001b[0m\u001b[0;34m(\u001b[0m\u001b[0;34m'load_ext'\u001b[0m\u001b[0;34m,\u001b[0m \u001b[0;34m'autoreload'\u001b[0m\u001b[0;34m)\u001b[0m\u001b[0;34m\u001b[0m\u001b[0;34m\u001b[0m\u001b[0m\n",
      "\u001b[0;32m~/opt/anaconda3/lib/python3.7/site-packages/tvb_inversion/pymc3/inference.py\u001b[0m in \u001b[0;36m<module>\u001b[0;34m\u001b[0m\n\u001b[1;32m      8\u001b[0m \u001b[0;32mimport\u001b[0m \u001b[0mmatplotlib\u001b[0m\u001b[0;34m.\u001b[0m\u001b[0mpyplot\u001b[0m \u001b[0;32mas\u001b[0m \u001b[0mplt\u001b[0m\u001b[0;34m\u001b[0m\u001b[0;34m\u001b[0m\u001b[0m\n\u001b[1;32m      9\u001b[0m \u001b[0;34m\u001b[0m\u001b[0m\n\u001b[0;32m---> 10\u001b[0;31m \u001b[0;32mfrom\u001b[0m \u001b[0mtvb_inversion\u001b[0m\u001b[0;34m.\u001b[0m\u001b[0mbase\u001b[0m\u001b[0;34m.\u001b[0m\u001b[0minference\u001b[0m \u001b[0;32mimport\u001b[0m \u001b[0mEstimator\u001b[0m\u001b[0;34m\u001b[0m\u001b[0;34m\u001b[0m\u001b[0m\n\u001b[0m\u001b[1;32m     11\u001b[0m \u001b[0;32mfrom\u001b[0m \u001b[0mtvb_inversion\u001b[0m\u001b[0;34m.\u001b[0m\u001b[0mpymc3\u001b[0m\u001b[0;34m.\u001b[0m\u001b[0mstats_model\u001b[0m \u001b[0;32mimport\u001b[0m \u001b[0mPymc3Model\u001b[0m\u001b[0;34m\u001b[0m\u001b[0;34m\u001b[0m\u001b[0m\n\u001b[1;32m     12\u001b[0m \u001b[0;32mfrom\u001b[0m \u001b[0mtvb_inversion\u001b[0m\u001b[0;34m.\u001b[0m\u001b[0mbase\u001b[0m\u001b[0;34m.\u001b[0m\u001b[0mmetrics\u001b[0m \u001b[0;32mimport\u001b[0m \u001b[0mMetric\u001b[0m\u001b[0;34m\u001b[0m\u001b[0;34m\u001b[0m\u001b[0m\n",
      "\u001b[0;32m~/opt/anaconda3/lib/python3.7/site-packages/tvb_inversion/base/inference.py\u001b[0m in \u001b[0;36m<module>\u001b[0;34m\u001b[0m\n\u001b[1;32m      5\u001b[0m \u001b[0;34m\u001b[0m\u001b[0m\n\u001b[1;32m      6\u001b[0m \u001b[0;32mfrom\u001b[0m \u001b[0mtvb_inversion\u001b[0m\u001b[0;34m.\u001b[0m\u001b[0mbase\u001b[0m\u001b[0;34m.\u001b[0m\u001b[0mstats_model\u001b[0m \u001b[0;32mimport\u001b[0m \u001b[0mStatisticalModel\u001b[0m\u001b[0;34m\u001b[0m\u001b[0;34m\u001b[0m\u001b[0m\n\u001b[0;32m----> 7\u001b[0;31m \u001b[0;32mfrom\u001b[0m \u001b[0mtvb_inversion\u001b[0m\u001b[0;34m.\u001b[0m\u001b[0mlogger\u001b[0m\u001b[0;34m.\u001b[0m\u001b[0mbuilder\u001b[0m \u001b[0;32mimport\u001b[0m \u001b[0mget_logger\u001b[0m\u001b[0;34m\u001b[0m\u001b[0;34m\u001b[0m\u001b[0m\n\u001b[0m\u001b[1;32m      8\u001b[0m \u001b[0;32mfrom\u001b[0m \u001b[0mtvb_inversion\u001b[0m\u001b[0;34m.\u001b[0m\u001b[0mbase\u001b[0m\u001b[0;34m.\u001b[0m\u001b[0mmetrics\u001b[0m \u001b[0;32mimport\u001b[0m \u001b[0mMetric\u001b[0m\u001b[0;34m\u001b[0m\u001b[0;34m\u001b[0m\u001b[0m\n\u001b[1;32m      9\u001b[0m \u001b[0;34m\u001b[0m\u001b[0m\n",
      "\u001b[0;32m~/opt/anaconda3/lib/python3.7/site-packages/tvb_inversion/logger/builder.py\u001b[0m in \u001b[0;36m<module>\u001b[0;34m\u001b[0m\n\u001b[1;32m     43\u001b[0m \u001b[0;34m\u001b[0m\u001b[0m\n\u001b[1;32m     44\u001b[0m \u001b[0;31m# We make sure a single instance of logger-builder is created.\u001b[0m\u001b[0;34m\u001b[0m\u001b[0;34m\u001b[0m\u001b[0;34m\u001b[0m\u001b[0m\n\u001b[0;32m---> 45\u001b[0;31m \u001b[0mGLOBAL_LOGGER_BUILDER\u001b[0m \u001b[0;34m=\u001b[0m \u001b[0mLoggerBuilder\u001b[0m\u001b[0;34m(\u001b[0m\u001b[0;34m)\u001b[0m\u001b[0;34m\u001b[0m\u001b[0;34m\u001b[0m\u001b[0m\n\u001b[0m\u001b[1;32m     46\u001b[0m \u001b[0;34m\u001b[0m\u001b[0m\n\u001b[1;32m     47\u001b[0m \u001b[0;34m\u001b[0m\u001b[0m\n",
      "\u001b[0;32m~/opt/anaconda3/lib/python3.7/site-packages/tvb_inversion/logger/builder.py\u001b[0m in \u001b[0;36m__init__\u001b[0;34m(self, config_file_name)\u001b[0m\n\u001b[1;32m     27\u001b[0m         \u001b[0mcurrent_folder\u001b[0m \u001b[0;34m=\u001b[0m \u001b[0mos\u001b[0m\u001b[0;34m.\u001b[0m\u001b[0mpath\u001b[0m\u001b[0;34m.\u001b[0m\u001b[0mdirname\u001b[0m\u001b[0;34m(\u001b[0m\u001b[0minspect\u001b[0m\u001b[0;34m.\u001b[0m\u001b[0mgetfile\u001b[0m\u001b[0;34m(\u001b[0m\u001b[0mself\u001b[0m\u001b[0;34m.\u001b[0m\u001b[0m__class__\u001b[0m\u001b[0;34m)\u001b[0m\u001b[0;34m)\u001b[0m\u001b[0;34m\u001b[0m\u001b[0;34m\u001b[0m\u001b[0m\n\u001b[1;32m     28\u001b[0m         \u001b[0mconfig_file_path\u001b[0m \u001b[0;34m=\u001b[0m \u001b[0mos\u001b[0m\u001b[0;34m.\u001b[0m\u001b[0mpath\u001b[0m\u001b[0;34m.\u001b[0m\u001b[0mjoin\u001b[0m\u001b[0;34m(\u001b[0m\u001b[0mcurrent_folder\u001b[0m\u001b[0;34m,\u001b[0m \u001b[0mconfig_file_name\u001b[0m\u001b[0;34m)\u001b[0m\u001b[0;34m\u001b[0m\u001b[0;34m\u001b[0m\u001b[0m\n\u001b[0;32m---> 29\u001b[0;31m         \u001b[0mlogging\u001b[0m\u001b[0;34m.\u001b[0m\u001b[0mconfig\u001b[0m\u001b[0;34m.\u001b[0m\u001b[0mfileConfig\u001b[0m\u001b[0;34m(\u001b[0m\u001b[0mconfig_file_path\u001b[0m\u001b[0;34m,\u001b[0m \u001b[0mdisable_existing_loggers\u001b[0m\u001b[0;34m=\u001b[0m\u001b[0;32mFalse\u001b[0m\u001b[0;34m)\u001b[0m\u001b[0;34m\u001b[0m\u001b[0;34m\u001b[0m\u001b[0m\n\u001b[0m\u001b[1;32m     30\u001b[0m         \u001b[0mself\u001b[0m\u001b[0;34m.\u001b[0m\u001b[0m_loggers\u001b[0m \u001b[0;34m=\u001b[0m \u001b[0mweakref\u001b[0m\u001b[0;34m.\u001b[0m\u001b[0mWeakValueDictionary\u001b[0m\u001b[0;34m(\u001b[0m\u001b[0;34m)\u001b[0m\u001b[0;34m\u001b[0m\u001b[0;34m\u001b[0m\u001b[0m\n\u001b[1;32m     31\u001b[0m \u001b[0;34m\u001b[0m\u001b[0m\n",
      "\u001b[0;32m~/opt/anaconda3/lib/python3.7/logging/config.py\u001b[0m in \u001b[0;36mfileConfig\u001b[0;34m(fname, defaults, disable_existing_loggers)\u001b[0m\n\u001b[1;32m     69\u001b[0m             \u001b[0mcp\u001b[0m\u001b[0;34m.\u001b[0m\u001b[0mread\u001b[0m\u001b[0;34m(\u001b[0m\u001b[0mfname\u001b[0m\u001b[0;34m)\u001b[0m\u001b[0;34m\u001b[0m\u001b[0;34m\u001b[0m\u001b[0m\n\u001b[1;32m     70\u001b[0m \u001b[0;34m\u001b[0m\u001b[0m\n\u001b[0;32m---> 71\u001b[0;31m     \u001b[0mformatters\u001b[0m \u001b[0;34m=\u001b[0m \u001b[0m_create_formatters\u001b[0m\u001b[0;34m(\u001b[0m\u001b[0mcp\u001b[0m\u001b[0;34m)\u001b[0m\u001b[0;34m\u001b[0m\u001b[0;34m\u001b[0m\u001b[0m\n\u001b[0m\u001b[1;32m     72\u001b[0m \u001b[0;34m\u001b[0m\u001b[0m\n\u001b[1;32m     73\u001b[0m     \u001b[0;31m# critical section\u001b[0m\u001b[0;34m\u001b[0m\u001b[0;34m\u001b[0m\u001b[0;34m\u001b[0m\u001b[0m\n",
      "\u001b[0;32m~/opt/anaconda3/lib/python3.7/logging/config.py\u001b[0m in \u001b[0;36m_create_formatters\u001b[0;34m(cp)\u001b[0m\n\u001b[1;32m    102\u001b[0m \u001b[0;32mdef\u001b[0m \u001b[0m_create_formatters\u001b[0m\u001b[0;34m(\u001b[0m\u001b[0mcp\u001b[0m\u001b[0;34m)\u001b[0m\u001b[0;34m:\u001b[0m\u001b[0;34m\u001b[0m\u001b[0;34m\u001b[0m\u001b[0m\n\u001b[1;32m    103\u001b[0m     \u001b[0;34m\"\"\"Create and return formatters\"\"\"\u001b[0m\u001b[0;34m\u001b[0m\u001b[0;34m\u001b[0m\u001b[0m\n\u001b[0;32m--> 104\u001b[0;31m     \u001b[0mflist\u001b[0m \u001b[0;34m=\u001b[0m \u001b[0mcp\u001b[0m\u001b[0;34m[\u001b[0m\u001b[0;34m\"formatters\"\u001b[0m\u001b[0;34m]\u001b[0m\u001b[0;34m[\u001b[0m\u001b[0;34m\"keys\"\u001b[0m\u001b[0;34m]\u001b[0m\u001b[0;34m\u001b[0m\u001b[0;34m\u001b[0m\u001b[0m\n\u001b[0m\u001b[1;32m    105\u001b[0m     \u001b[0;32mif\u001b[0m \u001b[0;32mnot\u001b[0m \u001b[0mlen\u001b[0m\u001b[0;34m(\u001b[0m\u001b[0mflist\u001b[0m\u001b[0;34m)\u001b[0m\u001b[0;34m:\u001b[0m\u001b[0;34m\u001b[0m\u001b[0;34m\u001b[0m\u001b[0m\n\u001b[1;32m    106\u001b[0m         \u001b[0;32mreturn\u001b[0m \u001b[0;34m{\u001b[0m\u001b[0;34m}\u001b[0m\u001b[0;34m\u001b[0m\u001b[0;34m\u001b[0m\u001b[0m\n",
      "\u001b[0;32m~/opt/anaconda3/lib/python3.7/configparser.py\u001b[0m in \u001b[0;36m__getitem__\u001b[0;34m(self, key)\u001b[0m\n\u001b[1;32m    956\u001b[0m     \u001b[0;32mdef\u001b[0m \u001b[0m__getitem__\u001b[0m\u001b[0;34m(\u001b[0m\u001b[0mself\u001b[0m\u001b[0;34m,\u001b[0m \u001b[0mkey\u001b[0m\u001b[0;34m)\u001b[0m\u001b[0;34m:\u001b[0m\u001b[0;34m\u001b[0m\u001b[0;34m\u001b[0m\u001b[0m\n\u001b[1;32m    957\u001b[0m         \u001b[0;32mif\u001b[0m \u001b[0mkey\u001b[0m \u001b[0;34m!=\u001b[0m \u001b[0mself\u001b[0m\u001b[0;34m.\u001b[0m\u001b[0mdefault_section\u001b[0m \u001b[0;32mand\u001b[0m \u001b[0;32mnot\u001b[0m \u001b[0mself\u001b[0m\u001b[0;34m.\u001b[0m\u001b[0mhas_section\u001b[0m\u001b[0;34m(\u001b[0m\u001b[0mkey\u001b[0m\u001b[0;34m)\u001b[0m\u001b[0;34m:\u001b[0m\u001b[0;34m\u001b[0m\u001b[0;34m\u001b[0m\u001b[0m\n\u001b[0;32m--> 958\u001b[0;31m             \u001b[0;32mraise\u001b[0m \u001b[0mKeyError\u001b[0m\u001b[0;34m(\u001b[0m\u001b[0mkey\u001b[0m\u001b[0;34m)\u001b[0m\u001b[0;34m\u001b[0m\u001b[0;34m\u001b[0m\u001b[0m\n\u001b[0m\u001b[1;32m    959\u001b[0m         \u001b[0;32mreturn\u001b[0m \u001b[0mself\u001b[0m\u001b[0;34m.\u001b[0m\u001b[0m_proxies\u001b[0m\u001b[0;34m[\u001b[0m\u001b[0mkey\u001b[0m\u001b[0;34m]\u001b[0m\u001b[0;34m\u001b[0m\u001b[0;34m\u001b[0m\u001b[0m\n\u001b[1;32m    960\u001b[0m \u001b[0;34m\u001b[0m\u001b[0m\n",
      "\u001b[0;31mKeyError\u001b[0m: 'formatters'"
     ]
    }
   ],
   "source": [
    "import pymc3 as pm\n",
    "import numpy as np\n",
    "import theano\n",
    "import theano.tensor as tt\n",
    "import arviz as az\n",
    "import matplotlib.pyplot as plt\n",
    "\n",
    "from tvb.simulator.lab import *\n",
    "from tvb_inversion.pymc3.prior import Pymc3Prior\n",
    "from tvb_inversion.pymc3.stats_model import Pymc3Model\n",
    "from tvb_inversion.pymc3.inference import EstimatorPYMC\n",
    "\n",
    "%load_ext autoreload\n",
    "%autoreload 2\n",
    "%matplotlib inline"
   ]
  },
  {
   "cell_type": "code",
   "execution_count": null,
   "id": "individual-toddler",
   "metadata": {},
   "outputs": [],
   "source": [
    "Y"
   ]
  },
  {
   "cell_type": "code",
   "execution_count": null,
   "id": "83ec60d4",
   "metadata": {},
   "outputs": [],
   "source": [
    "conn = connectivity.Connectivity.from_file()\n",
    "#conn = connectivity.Connectivity()\n",
    "#conn.weights = np.array([[0., 2.], [2., 0.]])\n",
    "#conn.region_labels = np.array([\"R1\", \"R2\"])\n",
    "#conn.centres = np.array([[0.1, 0.1, 0.1], [0.2, 0.1, 0.1]])\n",
    "#conn.tract_lengths = np.array([[0., 2.5], [2.5, 0.]])\n",
    "#conn.configure()\n",
    "\n",
    "sim = simulator.Simulator(\n",
    "    model=models.oscillator.Generic2dOscillator(),\n",
    "    connectivity=conn,\n",
    "    coupling=coupling.Difference(),\n",
    "    integrator=integrators.HeunStochastic(\n",
    "        dt=1.0,\n",
    "        noise=noise.Additive(\n",
    "            nsig=np.array([0.003]),\n",
    "            noise_seed=42\n",
    "        )\n",
    "    ),\n",
    "    monitors=[monitors.Raw()],\n",
    "    simulation_length = 250\n",
    ")"
   ]
  },
  {
   "cell_type": "code",
   "execution_count": null,
   "id": "cd592f9d",
   "metadata": {},
   "outputs": [],
   "source": [
    "sim.configure()"
   ]
  },
  {
   "cell_type": "code",
   "execution_count": null,
   "id": "05ff3ef1",
   "metadata": {},
   "outputs": [],
   "source": [
    "(t, X), = sim.run()"
   ]
  },
  {
   "cell_type": "code",
   "execution_count": null,
   "id": "fa9f5bd2",
   "metadata": {},
   "outputs": [],
   "source": [
    "X.shape"
   ]
  },
  {
   "cell_type": "code",
   "execution_count": null,
   "id": "0c2c5a07",
   "metadata": {},
   "outputs": [],
   "source": [
    "plt.plot(X[:, 0, :, 0]);"
   ]
  },
  {
   "cell_type": "code",
   "execution_count": null,
   "id": "be1bca17",
   "metadata": {},
   "outputs": [],
   "source": [
    "model = pm.Model()\n",
    "with model:\n",
    "    a_model_star = pm.Normal(name=\"a_model_star\", mu=0.0, sd=1.0)\n",
    "    a_model = pm.Deterministic(name=\"a_model\", var=-2.0 + 1.0 * a_model_star)\n",
    "    \n",
    "    a_coupling_star = pm.Normal(name=\"a_coupling_star\", mu=0.0, sd=1.0)\n",
    "    a_coupling = pm.Deterministic(name=\"a_coupling\", var=0.1 + 0.05 * a_coupling_star)\n",
    "    \n",
    "    BoundedNormal = pm.Bound(pm.Normal, lower=0.0)\n",
    "    noise_gfun_star = BoundedNormal(name=\"noise_gfun_star\", mu=0.0, sd=1.0)\n",
    "    noise_gfun = pm.Deterministic(name=\"noise_gfun\", var=0.07 + 0.1 * noise_gfun_star)\n",
    "    #noise_gfun = sim.integrator.noise.gfun(None)[0]\n",
    "    \n",
    "    noise_star = pm.Normal(name=\"noise_star\", mu=0.0, sd=1.0, shape=X.shape[:-1])\n",
    "    dynamic_noise = pm.Deterministic(name=\"dynamic_noise\", var=noise_gfun * noise_star)\n",
    "    \n",
    "    global_noise = pm.HalfNormal(name=\"global_noise\", sigma=0.05)"
   ]
  },
  {
   "cell_type": "code",
   "execution_count": null,
   "id": "f0897975",
   "metadata": {},
   "outputs": [],
   "source": [
    "prior = Pymc3Prior(\n",
    "    names=[\"model.a\", \"coupling.a\", \"dynamic_noise\", \"global_noise\"], \n",
    "    dist=[a_model, a_coupling, dynamic_noise, global_noise]\n",
    ")"
   ]
  },
  {
   "cell_type": "code",
   "execution_count": null,
   "id": "8da96457",
   "metadata": {},
   "outputs": [],
   "source": [
    "pymc_model = Pymc3Model(sim=sim, params=prior, model=model)"
   ]
  },
  {
   "cell_type": "code",
   "execution_count": null,
   "id": "708132a5",
   "metadata": {},
   "outputs": [],
   "source": [
    "pymc_estimator = EstimatorPYMC(stats_model=pymc_model, observation=X)"
   ]
  },
  {
   "cell_type": "code",
   "execution_count": null,
   "id": "417118e3",
   "metadata": {},
   "outputs": [],
   "source": [
    "draws = 500\n",
    "tune = 500\n",
    "cores = 2"
   ]
  },
  {
   "cell_type": "code",
   "execution_count": null,
   "id": "90a3e279",
   "metadata": {},
   "outputs": [],
   "source": [
    "inference_data = pymc_estimator.run_inference(draws, tune, cores, target_accept=0.9)"
   ]
  },
  {
   "cell_type": "code",
   "execution_count": null,
   "id": "9e52c04f",
   "metadata": {},
   "outputs": [],
   "source": [
    "init_params = {\n",
    "    #\"a_model\": sim.model.a[0],\n",
    "    \"a_coupling\": sim.coupling.a[0],\n",
    "    \"noise_gfun\": sim.integrator.noise.gfun(None)[0],\n",
    "    \"global_noise\": 0.0\n",
    "}"
   ]
  },
  {
   "cell_type": "code",
   "execution_count": null,
   "id": "5af74d07",
   "metadata": {},
   "outputs": [],
   "source": [
    "pymc_estimator.plot_posterior_samples(init_params)"
   ]
  },
  {
   "cell_type": "code",
   "execution_count": null,
   "id": "d78afe98",
   "metadata": {},
   "outputs": [],
   "source": [
    "posterior_x_obs = inference_data.posterior_predictive.x_obs.values.reshape((cores*draws, *X.shape[:-1]))"
   ]
  },
  {
   "cell_type": "code",
   "execution_count": null,
   "id": "0e4d105a",
   "metadata": {},
   "outputs": [],
   "source": [
    "f3, axes3 = plt.subplots(nrows=2, ncols=1, figsize=(18,15))\n",
    "axes3[0].plot(np.percentile(posterior_x_obs[:, :, 0, 0], [2.5, 97.5], axis=0).T, \n",
    "              \"k\", label=r\"$V_{95\\% PP}(t)$\")\n",
    "axes3[0].plot(X[:, 0, 0, 0], label=\"V_observed\")\n",
    "axes3[0].legend(fontsize=16)\n",
    "axes3[0].set_xlabel(\"time (ms)\", fontsize=16)\n",
    "axes3[0].tick_params(axis=\"both\", labelsize=16)\n",
    "\n",
    "axes3[1].plot(np.percentile(posterior_x_obs[:, :, 0, 1], [2.5, 97.5], axis=0).T, \n",
    "         \"k\", label=r\"$W_{95\\% PP}(t)$\")\n",
    "axes3[1].plot(X[:, 0, 1, 0], label=\"W_observed\")\n",
    "axes3[1].legend(fontsize=16)\n",
    "axes3[1].set_xlabel(\"time (ms)\", fontsize=16)\n",
    "axes3[1].tick_params(axis=\"both\", labelsize=16)\n",
    "\n",
    "plt.show()"
   ]
  },
  {
   "cell_type": "code",
   "execution_count": null,
   "id": "8b7f8055",
   "metadata": {},
   "outputs": [],
   "source": [
    "pymc_estimator.inference_summary.loc[[\"a_model\", \"a_coupling\", \"global_noise\", \"noise_gfun\"]]"
   ]
  },
  {
   "cell_type": "code",
   "execution_count": null,
   "id": "9d08b0ed",
   "metadata": {},
   "outputs": [],
   "source": [
    "pymc_estimator.inference_data.to_netcdf(filename=\"pymc3_data/test1.nc\", compress=False)"
   ]
  },
  {
   "cell_type": "code",
   "execution_count": null,
   "id": "c7eedf22",
   "metadata": {},
   "outputs": [],
   "source": []
  }
 ],
 "metadata": {
  "kernelspec": {
   "display_name": "Python 3",
   "language": "python",
   "name": "python3"
  },
  "language_info": {
   "codemirror_mode": {
    "name": "ipython",
    "version": 3
   },
   "file_extension": ".py",
   "mimetype": "text/x-python",
   "name": "python",
   "nbconvert_exporter": "python",
   "pygments_lexer": "ipython3",
   "version": "3.7.10"
  }
 },
 "nbformat": 4,
 "nbformat_minor": 5
}
