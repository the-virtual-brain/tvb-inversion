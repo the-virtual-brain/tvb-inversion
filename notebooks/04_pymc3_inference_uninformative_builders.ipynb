{
 "cells": [
  {
   "cell_type": "code",
   "execution_count": 1,
   "id": "e558bd8a",
   "metadata": {},
   "outputs": [
    {
     "name": "stderr",
     "output_type": "stream",
     "text": [
      "/Users/erichter/Documents/Uni/Charite/tvb-backend/tvb-root/tvb_library/tvb/datatypes/surfaces.py:64: UserWarning: Geodesic distance module is unavailable; some functionality for surfaces will be unavailable.\n",
      "  warnings.warn(msg)\n"
     ]
    }
   ],
   "source": [
    "import pymc3 as pm\n",
    "import numpy as np\n",
    "import theano\n",
    "import theano.tensor as tt\n",
    "import arviz as az\n",
    "import matplotlib.pyplot as plt\n",
    "\n",
    "from tvb.simulator.lab import *\n",
    "from tvb_inversion.base.observation_models import linear\n",
    "from tvb_inversion.pymc3.prior import Pymc3Prior\n",
    "from tvb_inversion.pymc3.stats_model import Pymc3Model\n",
    "from tvb_inversion.pymc3.inference import EstimatorPYMC\n",
    "from tvb_inversion.pymc3.stats_model_builder import StochasticPymc3ModelBuilder\n",
    "from tvb_inversion.pymc3.plot import plot_posterior_samples\n",
    "\n",
    "%load_ext autoreload\n",
    "%autoreload 2\n",
    "%matplotlib inline"
   ]
  },
  {
   "cell_type": "code",
   "execution_count": 2,
   "id": "83ec60d4",
   "metadata": {},
   "outputs": [],
   "source": [
    "#conn = connectivity.Connectivity.from_file()\n",
    "conn = connectivity.Connectivity()\n",
    "conn.weights = np.array([[0., 2.], [2., 0.]])\n",
    "conn.region_labels = np.array([\"R1\", \"R2\"])\n",
    "conn.centres = np.array([[0.1, 0.1, 0.1], [0.2, 0.1, 0.1]])\n",
    "conn.tract_lengths = np.array([[0., 2.5], [2.5, 0.]])\n",
    "conn.configure()\n",
    "\n",
    "sim = simulator.Simulator(\n",
    "    model=models.oscillator.Generic2dOscillator(a=np.array([1.5])),\n",
    "    connectivity=conn,\n",
    "    coupling=coupling.Difference(),\n",
    "    integrator=integrators.HeunStochastic(\n",
    "        dt=1.0,\n",
    "        noise=noise.Additive(\n",
    "            nsig=np.array([1e-4]),\n",
    "            noise_seed=42\n",
    "        )\n",
    "    ),\n",
    "    monitors=[monitors.Raw()],\n",
    "    simulation_length = 250\n",
    ")"
   ]
  },
  {
   "cell_type": "code",
   "execution_count": 3,
   "id": "partial-courtesy",
   "metadata": {},
   "outputs": [
    {
     "data": {
      "text/html": [
       "<table>\n",
       "<h3>Simulator</h3>\n",
       "<thead><tr><th></th><th style=\"text-align:left;width:40%\">value</th></tr></thead>\n",
       "<tbody>\n",
       "<tr><td>Type</td><td style=\"text-align:left;\"><pre>Simulator</pre></td>\n",
       "<tr><td>conduction_speed</td><td style=\"text-align:left;\"><pre>3.0</pre></td>\n",
       "<tr><td>connectivity</td><td style=\"text-align:left;\"><pre>Connectivity gid: 9680b584-a310-4d57-9d71-5fa130b6f741</pre></td>\n",
       "<tr><td>coupling</td><td style=\"text-align:left;\"><pre>Difference gid: 82a78bd3-367b-4e25-91c9-1886eb319c33</pre></td>\n",
       "<tr><td>gid</td><td style=\"text-align:left;\"><pre>UUID('0816804c-81ce-4287-8eb4-c0708db27188')</pre></td>\n",
       "<tr><td>initial_conditions</td><td style=\"text-align:left;\"><pre>None</pre></td>\n",
       "<tr><td>integrator</td><td style=\"text-align:left;\"><pre>HeunStochastic gid: 5bcd4745-b2cd-41ab-91e3-8aa8a90346e4</pre></td>\n",
       "<tr><td>model</td><td style=\"text-align:left;\"><pre>Generic2dOscillator gid: b5bac0cf-872d-4cb6-8e9a-b320fbf93f9a</pre></td>\n",
       "<tr><td>monitors</td><td style=\"text-align:left;\"><pre>[<tvb.simulator.monitors.Raw object at 0x19e9a4100>]</pre></td>\n",
       "<tr><td>simulation_length</td><td style=\"text-align:left;\"><pre>250.0</pre></td>\n",
       "<tr><td>stimulus</td><td style=\"text-align:left;\"><pre>None</pre></td>\n",
       "<tr><td>surface</td><td style=\"text-align:left;\"><pre>None</pre></td>\n",
       "<tr><td>title</td><td style=\"text-align:left;\"><pre>Simulator gid: 0816804c-81ce-4287-8eb4-c0708db27188</pre></td>\n",
       "</tbody></table>"
      ],
      "text/plain": [
       "<tvb.simulator.simulator.Simulator at 0x19e9a4250>"
      ]
     },
     "execution_count": 3,
     "metadata": {},
     "output_type": "execute_result"
    }
   ],
   "source": [
    "sim.configure()"
   ]
  },
  {
   "cell_type": "code",
   "execution_count": 4,
   "id": "fancy-profile",
   "metadata": {},
   "outputs": [],
   "source": [
    "sim.initial_conditions = np.zeros((conn.horizon, sim.model.nvar, conn.number_of_regions, 1))"
   ]
  },
  {
   "cell_type": "code",
   "execution_count": 5,
   "id": "north-princess",
   "metadata": {},
   "outputs": [
    {
     "data": {
      "text/html": [
       "<table>\n",
       "<h3>Simulator</h3>\n",
       "<thead><tr><th></th><th style=\"text-align:left;width:40%\">value</th></tr></thead>\n",
       "<tbody>\n",
       "<tr><td>Type</td><td style=\"text-align:left;\"><pre>Simulator</pre></td>\n",
       "<tr><td>conduction_speed</td><td style=\"text-align:left;\"><pre>3.0</pre></td>\n",
       "<tr><td>connectivity</td><td style=\"text-align:left;\"><pre>Connectivity gid: 9680b584-a310-4d57-9d71-5fa130b6f741</pre></td>\n",
       "<tr><td>coupling</td><td style=\"text-align:left;\"><pre>Difference gid: 82a78bd3-367b-4e25-91c9-1886eb319c33</pre></td>\n",
       "<tr><td>gid</td><td style=\"text-align:left;\"><pre>UUID('0816804c-81ce-4287-8eb4-c0708db27188')</pre></td>\n",
       "<tr><td>initial_conditions [min, median, max]</td><td style=\"text-align:left;\"><pre>[0, 0, 0]</pre></td>\n",
       "<tr><td>initial_conditions dtype</td><td style=\"text-align:left;\"><pre>float64</pre></td>\n",
       "<tr><td>initial_conditions shape</td><td style=\"text-align:left;\"><pre>(2, 2, 2, 1)</pre></td>\n",
       "<tr><td>integrator</td><td style=\"text-align:left;\"><pre>HeunStochastic gid: 5bcd4745-b2cd-41ab-91e3-8aa8a90346e4</pre></td>\n",
       "<tr><td>model</td><td style=\"text-align:left;\"><pre>Generic2dOscillator gid: b5bac0cf-872d-4cb6-8e9a-b320fbf93f9a</pre></td>\n",
       "<tr><td>monitors</td><td style=\"text-align:left;\"><pre>[<tvb.simulator.monitors.Raw object at 0x19e9a4100>]</pre></td>\n",
       "<tr><td>simulation_length</td><td style=\"text-align:left;\"><pre>250.0</pre></td>\n",
       "<tr><td>stimulus</td><td style=\"text-align:left;\"><pre>None</pre></td>\n",
       "<tr><td>surface</td><td style=\"text-align:left;\"><pre>None</pre></td>\n",
       "<tr><td>title</td><td style=\"text-align:left;\"><pre>Simulator gid: 0816804c-81ce-4287-8eb4-c0708db27188</pre></td>\n",
       "</tbody></table>"
      ],
      "text/plain": [
       "<tvb.simulator.simulator.Simulator at 0x19e9a4250>"
      ]
     },
     "execution_count": 5,
     "metadata": {},
     "output_type": "execute_result"
    }
   ],
   "source": [
    "sim.configure()"
   ]
  },
  {
   "cell_type": "code",
   "execution_count": 6,
   "id": "05ff3ef1",
   "metadata": {},
   "outputs": [],
   "source": [
    "(t, X), = sim.run()"
   ]
  },
  {
   "cell_type": "code",
   "execution_count": 7,
   "id": "fa9f5bd2",
   "metadata": {},
   "outputs": [
    {
     "data": {
      "text/plain": [
       "(250, 2, 2, 1)"
      ]
     },
     "execution_count": 7,
     "metadata": {},
     "output_type": "execute_result"
    }
   ],
   "source": [
    "X.shape"
   ]
  },
  {
   "cell_type": "code",
   "execution_count": 8,
   "id": "0c2c5a07",
   "metadata": {},
   "outputs": [
    {
     "data": {
      "image/png": "[encoded data removed]",
      "text/plain": [
       "<Figure size 640x480 with 1 Axes>"
      ]
     },
     "metadata": {},
     "output_type": "display_data"
    }
   ],
   "source": [
    "plt.plot(X[:, 0, :, 0]);"
   ]
  },
  {
   "cell_type": "code",
   "execution_count": 14,
   "id": "be1bca17",
   "metadata": {},
   "outputs": [],
   "source": [
    "def_std = 0.1\n",
    "\n",
    "model = pm.Model()\n",
    "with model:\n",
    "    model_a_star = pm.Normal(name=\"model_a_star\", mu=0.0, sd=1.0, shape=sim.model.a.shape)\n",
    "    model_a = pm.Deterministic(name=\"model_a\", var=sim.model.a * (1.0 + def_std * model_a_star))\n",
    "    \n",
    "    coupling_a_star = pm.Normal(name=\"coupling_a_star\", mu=0.0, sd=1.0)\n",
    "    coupling_a = pm.Deterministic(name=\"coupling_a\", \n",
    "                                  var=sim.coupling.a[0].item() * (1.0 + def_std * coupling_a_star))\n",
    "    \n",
    "    x_init_star = pm.Normal(name=\"x_init_star\", mu=0.0, sd=1.0, \n",
    "                            shape=sim.initial_conditions.shape[:-1])\n",
    "    x_init = pm.Deterministic(name=\"x_init\", \n",
    "                              var=sim.initial_conditions[:, :, :, 0] * (1.0 + def_std*x_init_star))\n",
    "    \n",
    "    BoundedNormal = pm.Bound(pm.Normal, lower=0.0)\n",
    "    nsig_star = BoundedNormal(name=\"nsig_star\", mu=0.0, sd=1.0)\n",
    "    nsig = pm.Deterministic(name=\"nsig\", \n",
    "                            var=sim.integrator.noise.nsig[0].item() * (1.0 + def_std * nsig_star))\n",
    "    \n",
    "    dWt_star = pm.Normal(name=\"dWt_star\", mu=0.0, sd=1.0, shape=X.shape[:-1])\n",
    "    \n",
    "    amplitude_star = pm.Normal(name=\"amplitude_star\", mu=0.0, sd=1.0)\n",
    "    amplitude = pm.Deterministic(name=\"amplitude\", var=1.0 * (1.0 + def_std * amplitude_star))\n",
    "\n",
    "    offset_star = pm.Normal(name=\"offset_star\", mu=0.0, sd=1.0)\n",
    "    offset = pm.Deterministic(name=\"offset\", var=def_std * offset_star)\n",
    "    \n",
    "    observation_noise_star = pm.HalfNormal(\"observation_noise_star\", sd=1.0)\n",
    "    observation_noise = pm.Deterministic(\"observation_noise\", var=def_std*observation_noise_star)\n",
    "    "
   ]
  },
  {
   "cell_type": "code",
   "execution_count": 15,
   "id": "sealed-australian",
   "metadata": {},
   "outputs": [],
   "source": [
    "prior = Pymc3Prior(\n",
    "    model=model,\n",
    "    names=[\"model.a\", \"coupling.a\", \"x_init\", \"integrator.noise.nsig\", \"dWt_star\", \n",
    "           \"observation.model.amplitude\", \"observation.model.offset\", \"observation.noise\"], \n",
    "    dist=[model_a, coupling_a, x_init, nsig, dWt_star, \n",
    "          amplitude, offset, observation_noise]\n",
    ")"
   ]
  },
  {
   "cell_type": "code",
   "execution_count": 16,
   "id": "30c6c6d9",
   "metadata": {},
   "outputs": [],
   "source": [
    "model_builder = StochasticPymc3ModelBuilder(sim=sim, params=prior, \n",
    "                                            observation_fun=linear, observation=X[:, :, :, 0])"
   ]
  },
  {
   "cell_type": "code",
   "execution_count": 17,
   "id": "8da96457",
   "metadata": {},
   "outputs": [],
   "source": [
    "model_builder.compose_model()"
   ]
  },
  {
   "cell_type": "code",
   "execution_count": 18,
   "id": "ff985dae",
   "metadata": {},
   "outputs": [],
   "source": [
    "pymc_model = model_builder.build()"
   ]
  },
  {
   "cell_type": "code",
   "execution_count": 19,
   "id": "requested-prince",
   "metadata": {},
   "outputs": [
    {
     "data": {
      "text/latex": [
       "$$\n",
       "                \\begin{array}{rcl}\n",
       "                \\text{model_a_star} &\\sim & \\text{Normal}\\\\\\text{coupling_a_star} &\\sim & \\text{Normal}\\\\\\text{x_init_star} &\\sim & \\text{Normal}\\\\\\text{nsig_star_lowerbound__} &\\sim & \\text{TransformedDistribution}\\\\\\text{dWt_star} &\\sim & \\text{Normal}\\\\\\text{amplitude_star} &\\sim & \\text{Normal}\\\\\\text{offset_star} &\\sim & \\text{Normal}\\\\\\text{observation_noise_star_log__} &\\sim & \\text{TransformedDistribution}\\\\\\text{model_a} &\\sim & \\text{Deterministic}\\\\\\text{coupling_a} &\\sim & \\text{Deterministic}\\\\\\text{x_init} &\\sim & \\text{Deterministic}\\\\\\text{nsig_star} &\\sim & \\text{Bound}$ -- \\text{Normal}\\\\\\text{nsig} &\\sim & \\text{Deterministic}\\\\\\text{amplitude} &\\sim & \\text{Deterministic}\\\\\\text{offset} &\\sim & \\text{Deterministic}\\\\\\text{observation_noise_star} &\\sim & \\text{HalfNormal}\\\\\\text{observation_noise} &\\sim & \\text{Deterministic}\\\\\\text{dWt} &\\sim & \\text{Deterministic}\\\\\\text{x_hat} &\\sim & \\text{Deterministic}\\\\\\text{x_obs} &\\sim & \\text{Normal}\n",
       "                \\end{array}\n",
       "                $$"
      ],
      "text/plain": [
       "<pymc3.model.Model at 0x1a9dbd370>"
      ]
     },
     "execution_count": 19,
     "metadata": {},
     "output_type": "execute_result"
    }
   ],
   "source": [
    "pymc_model.model"
   ]
  },
  {
   "cell_type": "code",
   "execution_count": 20,
   "id": "708132a5",
   "metadata": {},
   "outputs": [],
   "source": [
    "pymc_estimator = EstimatorPYMC(stats_model=pymc_model)"
   ]
  },
  {
   "cell_type": "code",
   "execution_count": 21,
   "id": "417118e3",
   "metadata": {},
   "outputs": [],
   "source": [
    "draws = 500\n",
    "tune = 500\n",
    "cores = 2"
   ]
  },
  {
   "cell_type": "code",
   "execution_count": null,
   "id": "90a3e279",
   "metadata": {},
   "outputs": [
    {
     "name": "stderr",
     "output_type": "stream",
     "text": [
      "/Users/erichter/opt/anaconda3/envs/tvb-inv-env/lib/python3.9/site-packages/deprecat/classic.py:215: FutureWarning: In v4.0, pm.sample will return an `arviz.InferenceData` object instead of a `MultiTrace` by default. You can pass return_inferencedata=True or return_inferencedata=False to be safe and silence this warning.\n",
      "  return wrapped_(*args_, **kwargs_)\n",
      "Auto-assigning NUTS sampler...\n"
     ]
    },
    {
     "name": "stdout",
     "output_type": "stream",
     "text": [
      "07-12-2022 07:24:50 - INFO - pymc3 - Auto-assigning NUTS sampler...\n"
     ]
    },
    {
     "name": "stderr",
     "output_type": "stream",
     "text": [
      "Initializing NUTS using jitter+adapt_diag...\n"
     ]
    },
    {
     "name": "stdout",
     "output_type": "stream",
     "text": [
      "07-12-2022 07:24:50 - INFO - pymc3 - Initializing NUTS using jitter+adapt_diag...\n"
     ]
    },
    {
     "name": "stderr",
     "output_type": "stream",
     "text": [
      "Multiprocess sampling (2 chains in 2 jobs)\n"
     ]
    },
    {
     "name": "stdout",
     "output_type": "stream",
     "text": [
      "07-12-2022 07:25:01 - INFO - pymc3 - Multiprocess sampling (2 chains in 2 jobs)\n"
     ]
    },
    {
     "name": "stderr",
     "output_type": "stream",
     "text": [
      "NUTS: [observation_noise_star, offset_star, amplitude_star, dWt_star, nsig_star, x_init_star, coupling_a_star, model_a_star]\n"
     ]
    },
    {
     "name": "stdout",
     "output_type": "stream",
     "text": [
      "07-12-2022 07:25:01 - INFO - pymc3 - NUTS: [observation_noise_star, offset_star, amplitude_star, dWt_star, nsig_star, x_init_star, coupling_a_star, model_a_star]\n"
     ]
    },
    {
     "data": {
      "text/html": [
       "\n",
       "<style>\n",
       "    /* Turns off some styling */\n",
       "    progress {\n",
       "        /* gets rid of default border in Firefox and Opera. */\n",
       "        border: none;\n",
       "        /* Needs to be in here for Safari polyfill so background images work as expected. */\n",
       "        background-size: auto;\n",
       "    }\n",
       "    progress:not([value]), progress:not([value])::-webkit-progress-bar {\n",
       "        background: repeating-linear-gradient(45deg, #7e7e7e, #7e7e7e 10px, #5c5c5c 10px, #5c5c5c 20px);\n",
       "    }\n",
       "    .progress-bar-interrupted, .progress-bar-interrupted::-webkit-progress-bar {\n",
       "        background: #F44336;\n",
       "    }\n",
       "</style>\n"
      ],
      "text/plain": [
       "<IPython.core.display.HTML object>"
      ]
     },
     "metadata": {},
     "output_type": "display_data"
    },
    {
     "data": {
      "text/html": [
       "\n",
       "    <div>\n",
       "      <progress value='1405' class='' max='2000' style='width:300px; height:20px; vertical-align: middle;'></progress>\n",
       "      70.25% [1405/2000 3:39:36&lt;1:32:59 Sampling 2 chains, 2 divergences]\n",
       "    </div>\n",
       "    "
      ],
      "text/plain": [
       "<IPython.core.display.HTML object>"
      ]
     },
     "metadata": {},
     "output_type": "display_data"
    }
   ],
   "source": [
    "inference_data = pymc_estimator.run_inference(\n",
    "    draws=draws, tune=tune, cores=cores, target_accept=0.9, max_treedepth=15)"
   ]
  },
  {
   "cell_type": "code",
   "execution_count": null,
   "id": "9e52c04f",
   "metadata": {},
   "outputs": [],
   "source": [
    "init_params = {\n",
    "    \"model_a\": sim.model.a,\n",
    "    \"coupling_a\": sim.coupling.a[0],\n",
    "    \"nsig\": sim.integrator.noise.nsig[0],\n",
    "    \"observation_noise\": 0.0,\n",
    "    \"amplitude\": 1.0,\n",
    "    \"offset\": 0.0\n",
    "}\n",
    "plot_posterior_samples(pymc_estimator.inference_data, init_params)"
   ]
  },
  {
   "cell_type": "code",
   "execution_count": null,
   "id": "psychological-modern",
   "metadata": {},
   "outputs": [],
   "source": [
    "init_params = {\n",
    "    \"model_a_star\": 0.0,\n",
    "    \"coupling_a_star\": 0.0,\n",
    "    \"nsig_star\": 0.0,\n",
    "    \"observation_noise_star\": 0.0,\n",
    "    \"amplitude_star\": 0.0,\n",
    "    \"offset_star\": 0.0\n",
    "}\n",
    "plot_posterior_samples(pymc_estimator.inference_data, init_params)"
   ]
  },
  {
   "cell_type": "code",
   "execution_count": null,
   "id": "d78afe98",
   "metadata": {},
   "outputs": [],
   "source": [
    "posterior_x_obs = pymc_estimator.inference_data.posterior_predictive.x_obs.values.reshape(\n",
    "    (cores*draws, *X.shape[:-1]))"
   ]
  },
  {
   "cell_type": "code",
   "execution_count": null,
   "id": "0e4d105a",
   "metadata": {},
   "outputs": [],
   "source": [
    "f3, axes3 = plt.subplots(nrows=2, ncols=1, figsize=(18,15))\n",
    "axes3[0].plot(np.percentile(posterior_x_obs[:, :, 0, 0], [2.5, 97.5], axis=0).T, \n",
    "              \"k\", label=r\"$V_{95\\% PP}(t)$\")\n",
    "axes3[0].plot(X[:, 0, 0, 0], label=\"V_observed\")\n",
    "axes3[0].legend(fontsize=16)\n",
    "axes3[0].set_xlabel(\"time (ms)\", fontsize=16)\n",
    "axes3[0].tick_params(axis=\"both\", labelsize=16)\n",
    "\n",
    "axes3[1].plot(np.percentile(posterior_x_obs[:, :, 0, 1], [2.5, 97.5], axis=0).T, \n",
    "         \"k\", label=r\"$W_{95\\% PP}(t)$\")\n",
    "axes3[1].plot(X[:, 0, 1, 0], label=\"W_observed\")\n",
    "axes3[1].legend(fontsize=16)\n",
    "axes3[1].set_xlabel(\"time (ms)\", fontsize=16)\n",
    "axes3[1].tick_params(axis=\"both\", labelsize=16)\n",
    "\n",
    "plt.show()"
   ]
  },
  {
   "cell_type": "code",
   "execution_count": null,
   "id": "auburn-corps",
   "metadata": {},
   "outputs": [],
   "source": [
    "pymc_estimator.inference_summary.loc[\n",
    "    pymc_estimator.inference_summary.index.str.contains(\"model_a_star\")].describe()"
   ]
  },
  {
   "cell_type": "code",
   "execution_count": null,
   "id": "8b7f8055",
   "metadata": {},
   "outputs": [],
   "source": [
    "pymc_estimator.inference_summary.loc[\n",
    "    [\"model_a_star\", \"coupling_a_star\", \"nsig_star\", \n",
    "     \"amplitude_star\", \"offset_star\", \"observation_noise_star\"]]"
   ]
  },
  {
   "cell_type": "code",
   "execution_count": null,
   "id": "preliminary-allah",
   "metadata": {},
   "outputs": [],
   "source": [
    "pymc_estimator.inference_summary.loc[\n",
    "    pymc_estimator.inference_summary.index.str.contains(\"x_init_star\")].describe()"
   ]
  },
  {
   "cell_type": "code",
   "execution_count": null,
   "id": "lesser-egypt",
   "metadata": {
    "scrolled": true
   },
   "outputs": [],
   "source": [
    "pymc_estimator.inference_summary.loc[\n",
    "    pymc_estimator.inference_summary.index.str.contains(\"dWt_star\")].describe()"
   ]
  },
  {
   "cell_type": "code",
   "execution_count": null,
   "id": "9d08b0ed",
   "metadata": {},
   "outputs": [],
   "source": [
    "pymc_estimator.inference_data.to_netcdf(filename=\"pymc3_data/test1.nc\", compress=False)"
   ]
  },
  {
   "cell_type": "code",
   "execution_count": null,
   "id": "cordless-adjustment",
   "metadata": {},
   "outputs": [],
   "source": []
  }
 ],
 "metadata": {
  "kernelspec": {
   "display_name": "Python 3 (ipykernel)",
   "language": "python",
   "name": "python3"
  },
  "language_info": {
   "codemirror_mode": {
    "name": "ipython",
    "version": 3
   },
   "file_extension": ".py",
   "mimetype": "text/x-python",
   "name": "python",
   "nbconvert_exporter": "python",
   "pygments_lexer": "ipython3",
   "version": "3.9.13"
  }
 },
 "nbformat": 4,
 "nbformat_minor": 5
}
