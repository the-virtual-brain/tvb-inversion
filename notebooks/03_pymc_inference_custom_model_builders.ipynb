{
 "cells": [
  {
   "cell_type": "code",
   "execution_count": null,
   "id": "e558bd8a",
   "metadata": {},
   "outputs": [],
   "source": [
    "import pymc as pm\n",
    "import numpy as np\n",
    "import pytensor\n",
    "import pytensor.tensor as pyt\n",
    "import arviz as az\n",
    "import matplotlib.pyplot as plt\n",
    "from datetime import datetime, timedelta\n",
    "\n",
    "from tvb.simulator.lab import *\n",
    "from tvb.simulator.backend.pytensor import PytensorBackend\n",
    "\n",
    "from tvb_inversion.base.observation_models import linear\n",
    "from tvb_inversion.pymc.prior import PymcPrior\n",
    "from tvb_inversion.pymc.stats_model import PymcModel\n",
    "from tvb_inversion.pymc.inference import EstimatorPYMC\n",
    "from tvb_inversion.pymc.plot import plot_posterior_samples\n",
    "\n",
    "%load_ext autoreload\n",
    "%autoreload 2\n",
    "%matplotlib inline"
   ]
  },
  {
   "cell_type": "code",
   "execution_count": null,
   "id": "83ec60d4",
   "metadata": {},
   "outputs": [],
   "source": [
    "conn = connectivity.Connectivity()\n",
    "conn.weights = np.array([[0., 1.], [1., 0.]])\n",
    "conn.region_labels = np.array([\"R1\", \"R2\"])\n",
    "conn.centres = np.random.rand(2, 3)\n",
    "conn.tract_lengths = np.array([[0., 2.], [2., 0.]])\n",
    "conn.configure()\n",
    "\n",
    "sim = simulator.Simulator(\n",
    "    model=models.oscillator.Generic2dOscillator(a=np.array([0.75, 2.25])),\n",
    "    connectivity=conn,\n",
    "    coupling=coupling.Linear(),\n",
    "    integrator=integrators.EulerStochastic(\n",
    "        dt=1.0,\n",
    "        noise=noise.Additive(\n",
    "            nsig=np.array([1e-4]),\n",
    "            noise_seed=42\n",
    "        )\n",
    "    ),\n",
    "    monitors=[monitors.Raw()],\n",
    "    simulation_length = 250\n",
    ")"
   ]
  },
  {
   "cell_type": "code",
   "execution_count": null,
   "id": "partial-courtesy",
   "metadata": {},
   "outputs": [],
   "source": [
    "sim.configure();"
   ]
  },
  {
   "cell_type": "code",
   "execution_count": null,
   "id": "fancy-profile",
   "metadata": {},
   "outputs": [],
   "source": [
    "sim.initial_conditions = np.zeros((conn.horizon, sim.model.nvar, conn.number_of_regions, 1))"
   ]
  },
  {
   "cell_type": "code",
   "execution_count": null,
   "id": "north-princess",
   "metadata": {},
   "outputs": [],
   "source": [
    "sim.configure()"
   ]
  },
  {
   "cell_type": "code",
   "execution_count": null,
   "id": "05ff3ef1",
   "metadata": {},
   "outputs": [],
   "source": [
    "(t, X), = sim.run()"
   ]
  },
  {
   "cell_type": "code",
   "execution_count": null,
   "id": "fa9f5bd2",
   "metadata": {},
   "outputs": [],
   "source": [
    "X.shape"
   ]
  },
  {
   "cell_type": "code",
   "execution_count": null,
   "id": "0c2c5a07",
   "metadata": {},
   "outputs": [],
   "source": [
    "f1 = plt.figure(figsize=(10,6))\n",
    "plt.plot(X[:, 0, 0, 0], label=\"Region 1\")\n",
    "plt.plot(X[:, 0, 1, 0], label=\"Region 2\")\n",
    "plt.ylabel(\"V (a.u.)\", fontsize=16)\n",
    "plt.xlabel(\"time (ms)\", fontsize=16)\n",
    "plt.legend(fontsize=16)\n",
    "plt.xticks(fontsize=16)\n",
    "plt.yticks(fontsize=16)\n",
    "plt.show()"
   ]
  },
  {
   "cell_type": "code",
   "execution_count": null,
   "id": "acting-senegal",
   "metadata": {},
   "outputs": [],
   "source": [
    "# Create pytensor backend function\n",
    "template = '<%include file=\"pytensor-sim.py.mako\"/>'\n",
    "content = dict(sim=sim, mparams=[\"a\"], cparams=[\"a\"], np=np, pyt=pyt)\n",
    "kernel, default_noise = PytensorBackend().build_py_func(template, content, name=\"kernel,default_noise\", print_source=True)"
   ]
  },
  {
   "cell_type": "code",
   "execution_count": null,
   "id": "be1bca17",
   "metadata": {},
   "outputs": [],
   "source": [
    "def_std = 0.5\n",
    "\n",
    "model = pm.Model()\n",
    "with model:\n",
    "    model_a_star = pm.Normal(name=\"model_a_star\", mu=0.0, sigma=1.0, shape=sim.model.a.shape)\n",
    "    model_a = pm.Deterministic(name=\"model_a\", var=sim.model.a + 0.75 * model_a_star)\n",
    "    \n",
    "    coupling_a_star = pm.Normal(name=\"coupling_a_star\", mu=0.0, sigma=1.0)\n",
    "    coupling_a = pm.Deterministic(name=\"coupling_a\", \n",
    "                                  var=sim.coupling.a[0].item() * (1.0 + def_std * coupling_a_star))\n",
    "    \n",
    "    x_init_star = pm.Normal(name=\"x_init_star\", mu=0.0, sigma=1.0, \n",
    "                            shape=sim.initial_conditions.shape[:-1])\n",
    "    x_init = pm.Deterministic(name=\"x_init\", \n",
    "                              var=sim.initial_conditions[:, :, :, 0] * (1.0 + def_std * x_init_star))\n",
    "    \n",
    "    nsig_star = pm.Normal(name=\"nsig_star\", mu=0.0, sigma=1.0)\n",
    "    nsig = pm.Deterministic(name=\"nsig\", \n",
    "                            var=sim.integrator.noise.nsig[0].item() * (1.0 + def_std * nsig_star))\n",
    "    \n",
    "    dWt_star = pm.Normal(name=\"dWt_star\", mu=0.0, sigma=1.0, \n",
    "                         shape=(X.shape[0], sim.model.nvar, sim.connectivity.number_of_regions))\n",
    "    dWt = pm.Deterministic(\n",
    "            name=\"dWt\", var=pyt.sqrt(2.0 * nsig * sim.integrator.dt) * dWt_star)\n",
    "    \n",
    "    amplitude_star = pm.Normal(name=\"amplitude_star\", mu=0.0, sigma=1.0)\n",
    "    amplitude = pm.Deterministic(name=\"amplitude\", var=1.0 * (1.0 + def_std * amplitude_star))\n",
    "\n",
    "    offset_star = pm.Normal(name=\"offset_star\", mu=0.0, sigma=1.0)\n",
    "    offset = pm.Deterministic(name=\"offset\", var=def_std * offset_star)\n",
    "    \n",
    "    observation_noise_star = pm.HalfNormal(name=\"observation_noise_star\", sigma=1.0)\n",
    "    observation_noise = pm.Deterministic(name=\"observation_noise\", var=def_std * observation_noise_star)\n",
    "    "
   ]
  },
  {
   "cell_type": "code",
   "execution_count": null,
   "id": "sealed-australian",
   "metadata": {},
   "outputs": [],
   "source": [
    "prior = PymcPrior(\n",
    "    model=model,\n",
    "    names=[\"model.a\", \"coupling.a\", \"x_init\", \"integrator.noise.nsig\", \"dWt_star\", \n",
    "           \"observation.amplitude\", \"observation.offset\", \"observation_noise\"], \n",
    "    dist=[model_a, coupling_a, x_init, nsig, dWt_star, \n",
    "          amplitude, offset, observation_noise]\n",
    ")"
   ]
  },
  {
   "cell_type": "code",
   "execution_count": null,
   "id": "30c6c6d9",
   "metadata": {},
   "outputs": [],
   "source": [
    "pymc_model = PymcModel(sim=sim, params=prior)"
   ]
  },
  {
   "cell_type": "code",
   "execution_count": null,
   "id": "368f82ec",
   "metadata": {},
   "outputs": [],
   "source": [
    "with pymc_model.model:\n",
    "\n",
    "    x_sim = kernel(\n",
    "        state=x_init,\n",
    "        weights=sim.connectivity.weights,\n",
    "        trace=pyt.zeros((len(t),) + sim.initial_conditions[:, :, :, 0].shape),\n",
    "        parmat=sim.model.spatial_parameter_matrix,\n",
    "        noise=dWt,\n",
    "        idelays=sim.connectivity.delay_indices,\n",
    "        mparams=prior.get_model_params(),\n",
    "        cparams=prior.get_coupling_params()\n",
    "    )"
   ]
  },
  {
   "cell_type": "code",
   "execution_count": null,
   "metadata": {},
   "outputs": [],
   "source": [
    "with pymc_model.model:\n",
    "    x_hat = pm.Deterministic(name=\"x_hat\",\n",
    "                             var=linear(x_sim, **prior.get_observation_model_params()))\n",
    "    \n",
    "    x_obs = pm.Normal(\n",
    "        name=\"x_obs\", mu=x_hat[:, sim.model.cvar, 0, :], sigma=prior.dict.get(\"observation_noise\", 1.0), \n",
    "        shape=X.shape[:-1], observed=X[:, :, :, 0])"
   ]
  },
  {
   "cell_type": "code",
   "execution_count": null,
   "id": "natural-florist",
   "metadata": {},
   "outputs": [],
   "source": [
    "pymc_model.model"
   ]
  },
  {
   "cell_type": "code",
   "execution_count": null,
   "id": "708132a5",
   "metadata": {},
   "outputs": [],
   "source": [
    "pymc_estimator = EstimatorPYMC(stats_model=pymc_model)"
   ]
  },
  {
   "cell_type": "code",
   "execution_count": null,
   "id": "417118e3",
   "metadata": {},
   "outputs": [],
   "source": [
    "draws = 250  # 500\n",
    "tune = 250  # 500\n",
    "cores = 2  # 4"
   ]
  },
  {
   "cell_type": "code",
   "execution_count": null,
   "id": "90a3e279",
   "metadata": {},
   "outputs": [],
   "source": [
    "inference_data, inference_summary = pymc_estimator.run_inference(\n",
    "    draws=draws, tune=tune, cores=cores, target_accept=0.9)"
   ]
  },
  {
   "cell_type": "code",
   "execution_count": null,
   "id": "1bd31c79",
   "metadata": {},
   "outputs": [],
   "source": [
    "chains = len(inference_data.sample_stats.chain)\n",
    "draws = len(inference_data.sample_stats.draw)\n",
    "print(\"chains:\", chains)\n",
    "print(\"draws:\", draws)\n",
    "divergent = inference_data.sample_stats[\"diverging\"].values\n",
    "print(\"Number of Divergent: %d\" % divergent.nonzero()[0].size)\n",
    "divperc = (divergent.nonzero()[0].size / (chains * draws)) * 100\n",
    "print(\"Percentage of Divergent: %.1f\" % divperc)\n",
    "print(\"Mean tree accept: %.2f\" % inference_data.sample_stats.acceptance_rate.values.mean())\n",
    "print(\"Mean tree depth: %.2f\" % inference_data.sample_stats.tree_depth.values.mean())\n",
    "print(\"Sampling time:\", str(timedelta(seconds=inference_data.sample_stats.sampling_time)))"
   ]
  },
  {
   "cell_type": "code",
   "execution_count": null,
   "id": "5af74d07",
   "metadata": {},
   "outputs": [],
   "source": [
    "init_params = {\n",
    "    \"model_a[0]\": sim.model.a[0],\n",
    "    \"model_a[1]\": sim.model.a[1],\n",
    "    \"coupling_a\": sim.coupling.a[0],\n",
    "    \"nsig\": sim.integrator.noise.nsig[0],\n",
    "    \"observation_noise\": 0.0,\n",
    "    \"amplitude\": 1.0,\n",
    "    \"offset\": 0.0\n",
    "}\n",
    "plot_posterior_samples(pymc_estimator.inference_data, init_params)"
   ]
  },
  {
   "cell_type": "code",
   "execution_count": null,
   "id": "4f3e0c9c",
   "metadata": {},
   "outputs": [],
   "source": [
    "init_params = {\n",
    "    \"model_a_star[0]\": 0.0,\n",
    "    \"model_a_star[1]\": 0.0,\n",
    "    \"coupling_a_star\": 0.0,\n",
    "    \"nsig_star\": 0.0,\n",
    "    \"observation_noise_star\": 0.0,\n",
    "    \"amplitude_star\": 0.0,\n",
    "    \"offset_star\": 0.0\n",
    "}\n",
    "plot_posterior_samples(pymc_estimator.inference_data, init_params)"
   ]
  },
  {
   "cell_type": "code",
   "execution_count": null,
   "id": "d78afe98",
   "metadata": {},
   "outputs": [],
   "source": [
    "posterior_x_obs = pymc_estimator.inference_data.posterior_predictive.x_obs.values.reshape(\n",
    "    (cores*draws, *X.shape[:-1]))"
   ]
  },
  {
   "cell_type": "code",
   "execution_count": null,
   "id": "0e4d105a",
   "metadata": {},
   "outputs": [],
   "source": [
    "f3, axes3 = plt.subplots(nrows=2, ncols=1, figsize=(18,15))\n",
    "axes3[0].plot(np.percentile(posterior_x_obs[:, :, 0, 0], [2.5, 97.5], axis=0).T, \n",
    "              \"k\", label=r\"$V_{95\\% PP}(t)$\")\n",
    "axes3[0].plot(X[:, 0, 0, 0], label=\"V_observed\")\n",
    "axes3[0].legend(fontsize=16)\n",
    "axes3[0].set_xlabel(\"time (ms)\", fontsize=16)\n",
    "axes3[0].tick_params(axis=\"both\", labelsize=16)\n",
    "\n",
    "axes3[1].plot(np.percentile(posterior_x_obs[:, :, 0, 1], [2.5, 97.5], axis=0).T, \n",
    "         \"k\", label=r\"$W_{95\\% PP}(t)$\")\n",
    "axes3[1].plot(X[:, 0, 1, 0], label=\"W_observed\")\n",
    "axes3[1].legend(fontsize=16)\n",
    "axes3[1].set_xlabel(\"time (ms)\", fontsize=16)\n",
    "axes3[1].tick_params(axis=\"both\", labelsize=16)\n",
    "\n",
    "plt.show()"
   ]
  },
  {
   "cell_type": "code",
   "execution_count": null,
   "id": "8b7f8055",
   "metadata": {},
   "outputs": [],
   "source": [
    "pymc_estimator.inference_summary.loc[\n",
    "    [f\"model_a_star[{i}]\" for i in range(len(sim.model.a))] + [\n",
    "        \"coupling_a_star\", \"nsig_star\", \"amplitude_star\", \"offset_star\", \"observation_noise_star\"]]"
   ]
  },
  {
   "cell_type": "code",
   "execution_count": null,
   "id": "aac37872",
   "metadata": {},
   "outputs": [],
   "source": [
    "pymc_estimator.inference_summary.loc[\n",
    "    [f\"model_a[{i}]\" for i in range(len(sim.model.a))] + [\n",
    "        \"coupling_a\", \"nsig\", \"amplitude\", \"offset\", \"observation_noise\"]]"
   ]
  },
  {
   "cell_type": "code",
   "execution_count": null,
   "id": "9d08b0ed",
   "metadata": {},
   "outputs": [],
   "source": [
    "pymc_estimator.inference_summary.loc[\n",
    "    pymc_estimator.inference_summary.index.str.contains(\"x_init_star\")].describe()"
   ]
  },
  {
   "cell_type": "code",
   "execution_count": null,
   "id": "convinced-palmer",
   "metadata": {},
   "outputs": [],
   "source": [
    "pymc_estimator.inference_summary.loc[\n",
    "    pymc_estimator.inference_summary.index.str.contains(\"dWt_star\")].describe()"
   ]
  },
  {
   "cell_type": "code",
   "execution_count": null,
   "id": "01139b62",
   "metadata": {},
   "outputs": [],
   "source": [
    "# inforamtion criteria\n",
    "# waic, loo = pymc_estimator.information_criteria()"
   ]
  },
  {
   "cell_type": "code",
   "execution_count": null,
   "id": "53031d14",
   "metadata": {},
   "outputs": [],
   "source": [
    "# zscores\n",
    "posterior_mean = pymc_estimator.get_posterior_mean(\n",
    "    [\"model_a\", \"coupling_a\", \"nsig\", \"amplitude\", \"offset\", \"observation_noise\"])\n",
    "\n",
    "posterior_std = pymc_estimator.get_posterior_std(\n",
    "    [\"model_a\", \"coupling_a\", \"nsig\", \"amplitude\", \"offset\", \"observation_noise\"])\n",
    "\n",
    "ground_truth = np.array(\n",
    "    [sim.model.a[0], sim.model.a[1], sim.coupling.a[0], sim.integrator.noise.nsig[0], 1.0, 0.0, 0.0])\n",
    "\n",
    "zscores = pymc_estimator.compute_zscore(ground_truth, posterior_mean, posterior_std)"
   ]
  },
  {
   "cell_type": "code",
   "execution_count": null,
   "id": "f7e4e07e",
   "metadata": {},
   "outputs": [],
   "source": [
    "# shrinkages\n",
    "posterior_std = pymc_estimator.get_posterior_std(\n",
    "    [\"model_a_star\", \"coupling_a_star\", \"nsig_star\", \n",
    "     \"amplitude_star\", \"offset_star\", \"observation_noise_star\"])\n",
    "\n",
    "prior_std = np.ones((7,))\n",
    "\n",
    "shrinkages = pymc_estimator.compute_shrinkage(prior_std, posterior_std)"
   ]
  },
  {
   "cell_type": "code",
   "execution_count": null,
   "id": "8507e514",
   "metadata": {},
   "outputs": [],
   "source": [
    "f3 = plt.figure(figsize=(12, 8))\n",
    "plt.plot(shrinkages[:2], zscores[:2], color=\"blue\", linewidth=0, marker=\"*\", markersize=12, label=\"model_a\")\n",
    "plt.plot(shrinkages[2], zscores[2], color=\"red\", linewidth=0, marker=\"*\", markersize=12, label=\"coupling_a\")\n",
    "plt.plot(shrinkages[3], zscores[3], color=\"green\", linewidth=0, marker=\"*\", markersize=12, label=\"nsig\")\n",
    "plt.xlabel(\"posterior shrinkage\")\n",
    "plt.ylabel(\"posterior zscore\")\n",
    "plt.legend()\n",
    "plt.show()"
   ]
  },
  {
   "cell_type": "code",
   "execution_count": null,
   "id": "c7eedf22",
   "metadata": {},
   "outputs": [],
   "source": [
    "run_id = datetime.now().strftime(\"%Y-%m-%d_%H%M\")\n",
    "pymc_estimator.inference_data.to_netcdf(\n",
    "    filename=f\"{run_id}_2nodes_test.nc\", compress=False)\n",
    "pymc_estimator.inference_summary.to_json(\n",
    "    path_or_buf=f\"{run_id}_2nodes_test.json\"\n",
    ")"
   ]
  },
  {
   "cell_type": "code",
   "execution_count": null,
   "id": "guilty-trigger",
   "metadata": {},
   "outputs": [],
   "source": []
  }
 ],
 "metadata": {
  "kernelspec": {
   "display_name": "Python 3 (ipykernel)",
   "language": "python",
   "name": "python3"
  },
  "language_info": {
   "codemirror_mode": {
    "name": "ipython",
    "version": 3
   },
   "file_extension": ".py",
   "mimetype": "text/x-python",
   "name": "python",
   "nbconvert_exporter": "python",
   "pygments_lexer": "ipython3",
   "version": "3.9.18"
  }
 },
 "nbformat": 4,
 "nbformat_minor": 5
}
