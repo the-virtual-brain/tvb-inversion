{
 "cells": [
  {
   "cell_type": "markdown",
   "id": "769ed755-77c5-4256-b604-6ebb49266582",
   "metadata": {},
   "source": [
    "# SBI: inference and diagnostics\n",
    "\n",
    "- load the results of the sampling\n",
    "- train the estimator\n",
    "- infer a parameter from synthetic data\n",
    "- assess the result"
   ]
  },
  {
   "cell_type": "code",
   "execution_count": 1,
   "id": "7dd8ac34-4f38-4b8b-83f3-51e735807388",
   "metadata": {},
   "outputs": [],
   "source": [
    "%load_ext autoreload\n",
    "%autoreload 2"
   ]
  },
  {
   "cell_type": "code",
   "execution_count": 2,
   "id": "e09f6628-7e73-46d7-b3d7-c202d3f1701c",
   "metadata": {},
   "outputs": [],
   "source": [
    "import matplotlib.pylab as plt\n",
    "import numpy as np"
   ]
  },
  {
   "cell_type": "code",
   "execution_count": 3,
   "id": "d3994bcf-1c89-4973-9ba2-b500e841cb18",
   "metadata": {},
   "outputs": [
    {
     "name": "stderr",
     "output_type": "stream",
     "text": [
      "/home/izaak/local_repos/megaloceros/tvb-inversion/env/lib/python3.8/site-packages/tqdm/auto.py:22: TqdmWarning: IProgress not found. Please update jupyter and ipywidgets. See https://ipywidgets.readthedocs.io/en/stable/user_install.html\n",
      "  from .autonotebook import tqdm as notebook_tqdm\n"
     ]
    }
   ],
   "source": [
    "import torch"
   ]
  },
  {
   "cell_type": "code",
   "execution_count": 4,
   "id": "a8ea0247-a38f-4eb6-a703-352a6cdd4aad",
   "metadata": {},
   "outputs": [
    {
     "name": "stderr",
     "output_type": "stream",
     "text": [
      "/home/izaak/local_repos/megaloceros/tvb-inversion/env/lib/python3.8/site-packages/tvb/datatypes/surfaces.py:64: UserWarning: Geodesic distance module is unavailable; some functionality for surfaces will be unavailable.\n",
      "  warnings.warn(msg)\n"
     ]
    }
   ],
   "source": [
    "from tvb_inversion import utils"
   ]
  },
  {
   "cell_type": "code",
   "execution_count": 5,
   "id": "7f06e453-822a-45ce-9db8-b970e3e7aa97",
   "metadata": {},
   "outputs": [],
   "source": [
    "from tvb_inversion.base.diagnostics import zscore, shrinkage"
   ]
  },
  {
   "cell_type": "code",
   "execution_count": 6,
   "id": "ccb3e32f-2c61-4fc0-8c0d-34eabdc0fad7",
   "metadata": {},
   "outputs": [],
   "source": [
    "from tvb_inversion.sbi import EstimatorSBI, Prior"
   ]
  },
  {
   "cell_type": "code",
   "execution_count": 7,
   "id": "0e973c59-78b5-4e91-b75a-e930552df724",
   "metadata": {},
   "outputs": [],
   "source": [
    "from sbi.utils import torchutils"
   ]
  },
  {
   "cell_type": "code",
   "execution_count": 8,
   "id": "52e230cb-58e3-4f82-8511-0247a739a75a",
   "metadata": {},
   "outputs": [],
   "source": [
    "import pandas as pd"
   ]
  },
  {
   "cell_type": "markdown",
   "id": "a14f6147-6162-4999-9174-58a3617611b4",
   "metadata": {},
   "source": [
    "We start with loadin the pre-computed summary statistics for simulations performed for parameters sampled from the prior defined in the previous notebook."
   ]
  },
  {
   "cell_type": "code",
   "execution_count": 9,
   "id": "1b531155-3406-44db-83ff-bb52411724e9",
   "metadata": {},
   "outputs": [],
   "source": [
    "x_all = pd.read_csv(utils.data_path('demo_prior_samples.csv.gz'))\n",
    "#x_all =  torch.load(utils.data_path('1/x_all.pt'))"
   ]
  },
  {
   "cell_type": "code",
   "execution_count": 10,
   "id": "0b73f75c-48e7-4be2-9d04-0727f2191948",
   "metadata": {},
   "outputs": [
    {
     "data": {
      "text/html": [
       "<div>\n",
       "<style scoped>\n",
       "    .dataframe tbody tr th:only-of-type {\n",
       "        vertical-align: middle;\n",
       "    }\n",
       "\n",
       "    .dataframe tbody tr th {\n",
       "        vertical-align: top;\n",
       "    }\n",
       "\n",
       "    .dataframe thead th {\n",
       "        text-align: right;\n",
       "    }\n",
       "</style>\n",
       "<table border=\"1\" class=\"dataframe\">\n",
       "  <thead>\n",
       "    <tr style=\"text-align: right;\">\n",
       "      <th></th>\n",
       "      <th>FC_SUM</th>\n",
       "      <th>FCD_SUM</th>\n",
       "    </tr>\n",
       "  </thead>\n",
       "  <tbody>\n",
       "    <tr>\n",
       "      <th>0</th>\n",
       "      <td>1926.0238</td>\n",
       "      <td>4054.915800</td>\n",
       "    </tr>\n",
       "    <tr>\n",
       "      <th>1</th>\n",
       "      <td>1538.3922</td>\n",
       "      <td>703.786440</td>\n",
       "    </tr>\n",
       "    <tr>\n",
       "      <th>2</th>\n",
       "      <td>1639.9231</td>\n",
       "      <td>192.917130</td>\n",
       "    </tr>\n",
       "    <tr>\n",
       "      <th>3</th>\n",
       "      <td>1885.4988</td>\n",
       "      <td>4530.793000</td>\n",
       "    </tr>\n",
       "    <tr>\n",
       "      <th>4</th>\n",
       "      <td>1860.8954</td>\n",
       "      <td>45.790524</td>\n",
       "    </tr>\n",
       "    <tr>\n",
       "      <th>...</th>\n",
       "      <td>...</td>\n",
       "      <td>...</td>\n",
       "    </tr>\n",
       "    <tr>\n",
       "      <th>7655</th>\n",
       "      <td>3394.0250</td>\n",
       "      <td>859.420650</td>\n",
       "    </tr>\n",
       "    <tr>\n",
       "      <th>7656</th>\n",
       "      <td>1827.1853</td>\n",
       "      <td>80.235050</td>\n",
       "    </tr>\n",
       "    <tr>\n",
       "      <th>7657</th>\n",
       "      <td>2417.3792</td>\n",
       "      <td>-39.461117</td>\n",
       "    </tr>\n",
       "    <tr>\n",
       "      <th>7658</th>\n",
       "      <td>2262.0457</td>\n",
       "      <td>-122.892290</td>\n",
       "    </tr>\n",
       "    <tr>\n",
       "      <th>7659</th>\n",
       "      <td>2315.0137</td>\n",
       "      <td>10875.190000</td>\n",
       "    </tr>\n",
       "  </tbody>\n",
       "</table>\n",
       "<p>7660 rows × 2 columns</p>\n",
       "</div>"
      ],
      "text/plain": [
       "         FC_SUM       FCD_SUM\n",
       "0     1926.0238   4054.915800\n",
       "1     1538.3922    703.786440\n",
       "2     1639.9231    192.917130\n",
       "3     1885.4988   4530.793000\n",
       "4     1860.8954     45.790524\n",
       "...         ...           ...\n",
       "7655  3394.0250    859.420650\n",
       "7656  1827.1853     80.235050\n",
       "7657  2417.3792    -39.461117\n",
       "7658  2262.0457   -122.892290\n",
       "7659  2315.0137  10875.190000\n",
       "\n",
       "[7660 rows x 2 columns]"
      ]
     },
     "execution_count": 10,
     "metadata": {},
     "output_type": "execute_result"
    }
   ],
   "source": [
    "x_all"
   ]
  },
  {
   "cell_type": "code",
   "execution_count": 11,
   "id": "dc2932f3-7e07-4dfa-9d40-69410a1a94e2",
   "metadata": {},
   "outputs": [],
   "source": [
    "x_fc = x_all.to_numpy()[:,[0]]\n",
    "x_fcd = x_all.to_numpy()[:,[1]]"
   ]
  },
  {
   "cell_type": "markdown",
   "id": "2f848e86-e6a6-42aa-89dc-ec610f807333",
   "metadata": {},
   "source": [
    "Now we need to reconstruct the prior. One could also save it as a torch `.pt` file."
   ]
  },
  {
   "cell_type": "code",
   "execution_count": 13,
   "id": "621b4e17-287e-448d-8e06-9e1086f1de70",
   "metadata": {},
   "outputs": [],
   "source": [
    "# prior =  torch.load(utils.data_path('prior.pt'))\n",
    "\n",
    "prior_G_min, prior_G_max = [0.1], [1.2]\n",
    "\n",
    "prior_dist = torchutils.BoxUniform(\n",
    "    low=torch.as_tensor(prior_G_min),\n",
    "    high=torch.as_tensor(prior_G_max))\n",
    "\n",
    "prior = Prior(['coupling.a'], prior_dist)"
   ]
  },
  {
   "cell_type": "markdown",
   "id": "4e69ef77-8fe2-4c40-b6a2-f35bc2264b1e",
   "metadata": {},
   "source": [
    "The parameters $\\theta$ sampled from the prior corresponding to the prior sample."
   ]
  },
  {
   "cell_type": "code",
   "execution_count": 14,
   "id": "4edb89ba-4f1a-4c7a-ad1a-46bd83893477",
   "metadata": {},
   "outputs": [
    {
     "data": {
      "text/html": [
       "<div>\n",
       "<style scoped>\n",
       "    .dataframe tbody tr th:only-of-type {\n",
       "        vertical-align: middle;\n",
       "    }\n",
       "\n",
       "    .dataframe tbody tr th {\n",
       "        vertical-align: top;\n",
       "    }\n",
       "\n",
       "    .dataframe thead th {\n",
       "        text-align: right;\n",
       "    }\n",
       "</style>\n",
       "<table border=\"1\" class=\"dataframe\">\n",
       "  <thead>\n",
       "    <tr style=\"text-align: right;\">\n",
       "      <th></th>\n",
       "      <th>coupling.a</th>\n",
       "    </tr>\n",
       "  </thead>\n",
       "  <tbody>\n",
       "    <tr>\n",
       "      <th>0</th>\n",
       "      <td>0.797487</td>\n",
       "    </tr>\n",
       "    <tr>\n",
       "      <th>1</th>\n",
       "      <td>0.639103</td>\n",
       "    </tr>\n",
       "    <tr>\n",
       "      <th>2</th>\n",
       "      <td>0.601191</td>\n",
       "    </tr>\n",
       "    <tr>\n",
       "      <th>3</th>\n",
       "      <td>0.795537</td>\n",
       "    </tr>\n",
       "    <tr>\n",
       "      <th>4</th>\n",
       "      <td>0.483783</td>\n",
       "    </tr>\n",
       "    <tr>\n",
       "      <th>...</th>\n",
       "      <td>...</td>\n",
       "    </tr>\n",
       "    <tr>\n",
       "      <th>7655</th>\n",
       "      <td>1.178222</td>\n",
       "    </tr>\n",
       "    <tr>\n",
       "      <th>7656</th>\n",
       "      <td>0.501154</td>\n",
       "    </tr>\n",
       "    <tr>\n",
       "      <th>7657</th>\n",
       "      <td>0.310969</td>\n",
       "    </tr>\n",
       "    <tr>\n",
       "      <th>7658</th>\n",
       "      <td>0.375458</td>\n",
       "    </tr>\n",
       "    <tr>\n",
       "      <th>7659</th>\n",
       "      <td>0.717644</td>\n",
       "    </tr>\n",
       "  </tbody>\n",
       "</table>\n",
       "<p>7660 rows × 1 columns</p>\n",
       "</div>"
      ],
      "text/plain": [
       "      coupling.a\n",
       "0       0.797487\n",
       "1       0.639103\n",
       "2       0.601191\n",
       "3       0.795537\n",
       "4       0.483783\n",
       "...          ...\n",
       "7655    1.178222\n",
       "7656    0.501154\n",
       "7657    0.310969\n",
       "7658    0.375458\n",
       "7659    0.717644\n",
       "\n",
       "[7660 rows x 1 columns]"
      ]
     },
     "execution_count": 14,
     "metadata": {},
     "output_type": "execute_result"
    }
   ],
   "source": [
    "theta = pd.read_csv(utils.data_path('demo_theta.csv.gz'))\n",
    "theta"
   ]
  },
  {
   "cell_type": "code",
   "execution_count": 15,
   "id": "9dd0916d-693f-4b67-bd10-307643f9d3af",
   "metadata": {},
   "outputs": [],
   "source": [
    "theta = torch.as_tensor(theta.values, dtype=torch.float32)"
   ]
  },
  {
   "cell_type": "code",
   "execution_count": 16,
   "id": "508e4c24-eb4f-4972-b94f-a05e7b0f7405",
   "metadata": {},
   "outputs": [
    {
     "data": {
      "image/png": "[encoded data removed]",
      "text/plain": [
       "<Figure size 800x300 with 2 Axes>"
      ]
     },
     "metadata": {},
     "output_type": "display_data"
    }
   ],
   "source": [
    "fig, axs = plt.subplots(ncols=2, figsize=(8, 3))\n",
    "ax = axs[0]\n",
    "ax.plot(theta[:, 0], x_fc, \"ko\", ms=1, alpha=0.5)\n",
    "ax.set(xlabel=\"G\", ylabel=r\"$\\sum FC$\")\n",
    "\n",
    "ax = axs[1]\n",
    "ax.plot(theta[:, 0], x_fcd, \"ko\", ms=2, alpha=0.5)\n",
    "ax.set(xlabel=\"G\", ylabel=r\"$\\sum FCD$\")\n",
    "\n",
    "fig.tight_layout()"
   ]
  },
  {
   "cell_type": "markdown",
   "id": "30ce5d10-51e6-4d47-88bf-7df856f42d03",
   "metadata": {},
   "source": [
    "Next we will choose the ground truth for the parameter we want to infer. In this case (for demonstration purposes) we choose the maximum of the FCD sum. Feel free to explore other values!"
   ]
  },
  {
   "cell_type": "code",
   "execution_count": 17,
   "id": "b04b01d9-e678-4a6e-bce9-d61eb1066f3a",
   "metadata": {},
   "outputs": [
    {
     "name": "stdout",
     "output_type": "stream",
     "text": [
      "index max is : 3001 tensor([0.7320]) [16016.807]\n"
     ]
    }
   ],
   "source": [
    "index_max = np.argmax(x_fcd)\n",
    "true_param = theta[index_max]\n",
    "\n",
    "print(\"index max is :\", index_max, true_param, x_fcd[index_max])\n",
    "obs_stats_fcd = x_fcd[index_max, :]\n",
    "obs_stats_fcd = obs_stats_fcd[None, :]\n",
    "\n",
    "obs_stats_fc = x_fc[index_max, :]\n",
    "obs_stats_fc = obs_stats_fc[None, :]"
   ]
  },
  {
   "cell_type": "markdown",
   "id": "a4b189d9-0d65-44db-99aa-17ca677e51a5",
   "metadata": {},
   "source": [
    "Now we can train the estimator using the simulated summary statistics."
   ]
  },
  {
   "cell_type": "code",
   "execution_count": 18,
   "id": "7319b94a-2401-48a7-9847-db7588a40256",
   "metadata": {},
   "outputs": [],
   "source": [
    "estimator = EstimatorSBI(prior, theta=theta)"
   ]
  },
  {
   "cell_type": "code",
   "execution_count": 19,
   "id": "86b4e74d-d533-4846-bd3a-a0493d87475a",
   "metadata": {},
   "outputs": [
    {
     "name": "stderr",
     "output_type": "stream",
     "text": [
      "/home/izaak/local_repos/megaloceros/tvb-inversion/env/lib/python3.8/site-packages/sbi/neural_nets/flow.py:141: UserWarning: In one-dimensional output space, this flow is limited to Gaussians\n",
      "  warn(\"In one-dimensional output space, this flow is limited to Gaussians\")\n"
     ]
    },
    {
     "name": "stdout",
     "output_type": "stream",
     "text": [
      " Neural network successfully converged after 182 epochs."
     ]
    }
   ],
   "source": [
    "posterior = estimator.train(x_fcd)"
   ]
  },
  {
   "cell_type": "markdown",
   "id": "dd3a64f8-be5d-47a9-aae3-01c7ec4054f7",
   "metadata": {},
   "source": [
    "Having trained the estimator, we can now draw samples from the posterior distribution with respect to the observed (empirical) data."
   ]
  },
  {
   "cell_type": "code",
   "execution_count": 20,
   "id": "d35d96ea-6ec8-4ce2-afd7-eeae6028343e",
   "metadata": {},
   "outputs": [
    {
     "name": "stderr",
     "output_type": "stream",
     "text": [
      "Drawing 20000 posterior samples: 100%|███████████████████████████████████████████████████████████████████████████████████████████████████████████████████████████████████| 20000/20000 [00:00<00:00, 396203.00it/s]\n"
     ]
    }
   ],
   "source": [
    "num_samples = 20_000\n",
    "posterior_samples = posterior.sample((num_samples,),obs_stats_fcd)"
   ]
  },
  {
   "cell_type": "code",
   "execution_count": 21,
   "id": "23538b26-c39b-4d8b-8003-ec1ee8cfbb66",
   "metadata": {},
   "outputs": [],
   "source": [
    "from sbi.analysis import pairplot"
   ]
  },
  {
   "cell_type": "code",
   "execution_count": 22,
   "id": "f7f608da-ffcf-450a-8e9d-a961666f2036",
   "metadata": {},
   "outputs": [
    {
     "data": {
      "image/png": "[encoded data removed]",
      "text/plain": [
       "<Figure size 500x300 with 1 Axes>"
      ]
     },
     "metadata": {},
     "output_type": "display_data"
    }
   ],
   "source": [
    "fig, axs = pairplot(posterior_samples, points=true_param, points_colors='r', samples_colors='k', figsize=(5,3), labels=['G']);"
   ]
  },
  {
   "cell_type": "markdown",
   "id": "9d13551c-68f3-44ef-ae15-a7b46865c061",
   "metadata": {},
   "source": [
    "The posterior is centered around the ground truth. Moreover, we can assess it wiht the help of the `shrinkage` and `zscore` diagnostic functions."
   ]
  },
  {
   "cell_type": "code",
   "execution_count": 23,
   "id": "4ec5aabd-a7be-4d25-85ed-992c199e6355",
   "metadata": {},
   "outputs": [],
   "source": [
    "post_std = torch.std(posterior_samples)\n",
    "post_mean = torch.mean(posterior_samples)"
   ]
  },
  {
   "cell_type": "code",
   "execution_count": 24,
   "id": "79548348-3c89-4dad-918a-20b9ab6898b6",
   "metadata": {},
   "outputs": [],
   "source": [
    "prior_std = torch.std(theta)"
   ]
  },
  {
   "cell_type": "code",
   "execution_count": 25,
   "id": "98b1b179-5b87-4117-a372-8c5c9d4db2f2",
   "metadata": {},
   "outputs": [],
   "source": [
    "shr = shrinkage(prior_std, post_std)\n",
    "zsc = zscore(true_param, post_mean, post_std)"
   ]
  },
  {
   "cell_type": "code",
   "execution_count": 26,
   "id": "cba5b1e3-ccc0-486d-9a3e-441aff65bb80",
   "metadata": {},
   "outputs": [
    {
     "data": {
      "text/plain": [
       "[(0.0, 1.1), Text(0.5, 0, 'z-score'), Text(0, 0.5, 'shrinkage')]"
      ]
     },
     "execution_count": 26,
     "metadata": {},
     "output_type": "execute_result"
    },
    {
     "data": {
      "image/png": "[encoded data removed]",
      "text/plain": [
       "<Figure size 500x300 with 1 Axes>"
      ]
     },
     "metadata": {},
     "output_type": "display_data"
    }
   ],
   "source": [
    "fig, ax = plt.subplots(figsize=(5,3))\n",
    "ax.plot(zsc, shr, 'r^')\n",
    "ax.set(ylim=[0,1.1], xlabel='z-score', ylabel='shrinkage')"
   ]
  },
  {
   "cell_type": "markdown",
   "id": "a2353859-9ead-4cee-bc51-4663abe87dfe",
   "metadata": {},
   "source": [
    "Here we can see, that the shrinkage is high (close to 1) indicating well identified posterior, while the zscore is low meaning the ground truth is accuratelly captured by the posterior distribution."
   ]
  }
 ],
 "metadata": {
  "kernelspec": {
   "display_name": "Python 3",
   "language": "python",
   "name": "python3"
  },
  "language_info": {
   "codemirror_mode": {
    "name": "ipython",
    "version": 3
   },
   "file_extension": ".py",
   "mimetype": "text/x-python",
   "name": "python",
   "nbconvert_exporter": "python",
   "pygments_lexer": "ipython3",
   "version": "3.7.10"
  }
 },
 "nbformat": 4,
 "nbformat_minor": 5
}
